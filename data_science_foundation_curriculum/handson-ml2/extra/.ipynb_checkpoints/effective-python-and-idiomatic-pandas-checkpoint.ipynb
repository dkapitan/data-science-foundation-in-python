{
 "cells": [
  {
   "cell_type": "markdown",
   "metadata": {
    "colab_type": "text",
    "id": "view-in-github",
    "slideshow": {
     "slide_type": "skip"
    }
   },
   "source": [
    "<a href=\"https://colab.research.google.com/github/jads-nl/execute-programming-tutorials/blob/main/execute_programming_lecture.ipynb\" target=\"_parent\"><img src=\"https://colab.research.google.com/assets/colab-badge.svg\" alt=\"Open In Colab\"/></a>"
   ]
  },
  {
   "cell_type": "markdown",
   "metadata": {
    "id": "aVz7N1CMRut5",
    "slideshow": {
     "slide_type": "slide"
    }
   },
   "source": [
    "# Effective Python and idiomatic pandas\n",
    "\n",
    "## Introduction"
   ]
  },
  {
   "cell_type": "markdown",
   "metadata": {
    "id": "4cLuI2QkRut_",
    "slideshow": {
     "slide_type": "fragment"
    }
   },
   "source": [
    "### A functional approach to Python\n",
    "\n",
    "After you have gained basic working knowledge of Python, it is essential that you continue to develop your skills to write effective Python and use pandas in an idiomatic way. This notebook provides guidelines how to do this. It is very opinionated, and based on a functional programming approach to Python. Functional programming defines a computation using expressions and evaluation—often encapsulated in function definitions. It de-emphasizes or avoids the complexity of state change and mutable objects. This tends to create programs that are more succinct and expressive. Since you can't easily create purely functional programs in Python, we take a hybrid approach, using functional features where we can add clariy or simplify the code. There are several key features of functional programming that are available in Python which we will use."
   ]
  },
  {
   "cell_type": "markdown",
   "metadata": {
    "id": "4cLuI2QkRut_",
    "slideshow": {
     "slide_type": "subslide"
    }
   },
   "source": [
    "Functional programming is often a very good fit for data analysis.\n",
    "\n",
    "- Use functions as first-class objects, meaning you can assign functions to variables and pass functions as arguments in other functions allowing for for composability of complex functions for data pipelines using smaller, more simple ones.\n",
    "- Use of higher-order functions that operate on lists (iterables), like `sorted()`, `min()` and `max()`. NumPy and pandas follow this same principle with so-called [universal functions](https://numpy.org/doc/stable/reference/ufuncs.html), being functions that operate on `ndarrays` in an element-by-element fashion, supporting array broadcasting, type casting, and several other standard features.\n",
    "- Functional programmes often exploits immutable data structures. Python offers tuples, namedtuples and frozen dataclass as complex but immutable objects. Although NumPy arrays and pandas DataFrames are mutable, we will adhere to the principle of immutable in data pipelines as much as possible.\n"
   ]
  },
  {
   "cell_type": "markdown",
   "metadata": {
    "id": "YzHhWalQRut_",
    "slideshow": {
     "slide_type": "subslide"
    }
   },
   "source": [
    "### Structure of notebook\n",
    "\n",
    "This notebook is structred in a couple of chapters with a number of related items. Feel free to jump between the items. Each item contains concise and specific guidance explaining how you can write effective, functional Python. We have used the following books and online resources, which are recommended for further reading:\n",
    "\n",
    "- [Effective Python, 2nd edition](https://effectivepython.com/), by Brett Slatkin (eBook: EUR 30). Referenced as EP for items that have been taken from this book (which is warmly recommended).\n",
    "- Blog posts on [Modern pandas](https://tomaugspurger.github.io/modern-1-intro.html) by Tom Augspurger.\n",
    "- [Functional Python Programming](https://www.packtpub.com/product/functional-python-programming-second-edition/9781788627061) by Steven F. Lott (eBook: EUR 5)\n",
    "-Intermediate tutorials on [Real Python](https://realpython.com)."
   ]
  },
  {
   "cell_type": "markdown",
   "metadata": {
    "id": "dPQehVYWRuuA",
    "slideshow": {
     "slide_type": "slide"
    }
   },
   "source": [
    "## Pythonic thinking"
   ]
  },
  {
   "cell_type": "markdown",
   "metadata": {
    "id": "w4K9GQ9_RuuA",
    "slideshow": {
     "slide_type": "subslide"
    }
   },
   "source": [
    "### #1. Follow the PEP-8 style guide (EP #2)\n",
    "\n",
    "Python Enhancement Proposal #8, otherwise known as [PEP-8](https://www.python.org/dev/peps/pep-0008/), is the style guide for how to format Python code. You are welcome to write Python code any way you want, as long as it has valid syntax. However, using a consistent style makes your code more approachable and easier to read. Sharing a common style with other Python programmers in the larger community facilitates collaboration on projects. But even if you are the only one who will ever read your code, following the style guide will make it easier for you to change things later, and can help you avoid many common errors.\n",
    "\n",
    "PEP-8 provides a wealth of details about how to write clear Python code. It continues to be updated as the Python language evolves. It’s worth reading the [whole guide online](https://www.python.org/dev/peps/pep-0008/). Here are a few rules you should be sure to follow."
   ]
  },
  {
   "cell_type": "markdown",
   "metadata": {
    "id": "w4K9GQ9_RuuA",
    "slideshow": {
     "slide_type": "subslide"
    }
   },
   "source": [
    "#### Whitespace\n",
    "- Use spaces instead of tabs for indentation.\n",
    "- Use four spaces for each level of syntactically significant indenting.\n",
    "- Lines should be 79 characters in length or less.\n",
    "- Continuations of long expressions onto additional lines should be indented by four extra spaces from their normal indentation level.\n",
    "- In a file, functions and classes should be separated by two blank lines.\n",
    "- In a class, methods should be separated by one blank line.\n",
    "- In a dictionary, put no whitespace between each key and colon, and put a single space before the corresponding value if it fits on the same line.\n",
    "- Put one—and only one—space before and after the `=` operator in a variable assignment.\n",
    "- For type annotations, ensure that there is no separation between the variable name and the colon, and use a space before the type information."
   ]
  },
  {
   "cell_type": "markdown",
   "metadata": {
    "id": "w4K9GQ9_RuuA",
    "slideshow": {
     "slide_type": "subslide"
    }
   },
   "source": [
    "#### Naming\n",
    "PEP 8 suggests unique styles of naming for different parts in the language. These conventions make it easy to distinguish which type corresponds to each name when reading code. Follow these guidelines related to naming:\n",
    "\n",
    "- Functions, variables, and attributes should be in `lowercase_underscore` format.\n",
    "- Protected instance attributes should be in `_leading_underscore` format.\n",
    "- Private instance attributes should be in `__double_leading_underscore` format.\n",
    "- Classes (including exceptions) should be in `CapitalizedWord` format.\n",
    "- Module-level constants should be in `ALL_CAPS` format.\n",
    "- Instance methods in classes should use `self`, which refers to the object, as the name of the first parameter.\n",
    "- Class methods should use `cls`, which refers to the class, as the name of the first parameter."
   ]
  },
  {
   "cell_type": "markdown",
   "metadata": {
    "id": "w4K9GQ9_RuuA",
    "slideshow": {
     "slide_type": "subslide"
    }
   },
   "source": [
    "#### Expressions and Statements\n",
    "The Zen of Python states: “There should be one—and preferably only one—obvious way to do it.” PEP 8 attempts to codify this style in its guidance for expressions and statements:\n",
    "\n",
    "- Use inline negation (`if a is not b`) instead of negation of positive expressions (`if not a is b`).\n",
    "- Don’t check for empty containers or sequences (like `[]` or `''`) by comparing the length to zero (if `len(somelist) == 0`). Use `if not somelist` and assume that empty values will implicitly evaluate to `False`.\n",
    "- The same thing goes for non-empty containers or sequences (like `[1]` or `'hi'`). The statement `if somelist` is implicitly `True` for non-empty values.\n",
    "- Avoid single-line if statements, `for` and `while` loops, and except compound statements. Spread these over multiple lines for clarity.\n",
    "- If you can’t fit an expression on one line, surround it with parentheses and add line breaks and indentation to make it easier to read.\n",
    "- Prefer surrounding multiline expressions with parentheses over using the `\\` line continuation character."
   ]
  },
  {
   "cell_type": "markdown",
   "metadata": {
    "id": "w4K9GQ9_RuuA",
    "slideshow": {
     "slide_type": "subslide"
    }
   },
   "source": [
    "#### Imports\n",
    "PEP 8 suggests some guidelines for how to import modules and use them in your code:\n",
    "\n",
    "- Always put import statements (including from `x import y`) at the top of a file.\n",
    "- Always use absolute names for modules when importing them, not names relative to the current module’s own path. For example, to import the foo module from within the bar package, you should use from bar import foo, not just import foo.\n",
    "- If you must do relative imports, use the explicit syntax `from . import foo`.\n",
    "- Imports should be in sections in the following order:\n",
    "    - standard library modules\n",
    "    - third-party modules\n",
    "    - your own modules.\n",
    "    \n",
    "    Each subsection should have imports in alphabetical order."
   ]
  },
  {
   "cell_type": "markdown",
   "metadata": {
    "id": "w4K9GQ9_RuuA",
    "slideshow": {
     "slide_type": "subslide"
    }
   },
   "source": [
    "#### Use code formatters\n",
    "It is recommended to use a code formatter like [pylint](https://www.pylint.org) or [Black](https://pypi.org/project/black/) to handle these conventions automatically. There is also [Jupyter Black](https://github.com/drillan/jupyter-black) for doing this in notebooks."
   ]
  },
  {
   "cell_type": "markdown",
   "metadata": {
    "id": "r2vUf6xaRuuB",
    "slideshow": {
     "slide_type": "slide"
    }
   },
   "source": [
    "### #2. Prefer interpolated f-strings over C-style formatting (EP #4)\n",
    "\n",
    "Before f-strings were introduced in Python 3.6, you had to do this to format your strings:"
   ]
  },
  {
   "cell_type": "code",
   "execution_count": 1,
   "metadata": {
    "colab": {
     "base_uri": "https://localhost:8080/"
    },
    "id": "sl1PztQwRuuB",
    "outputId": "aa33f6e9-4ac7-4aef-bbb2-ee92091e3888",
    "slideshow": {
     "slide_type": "fragment"
    }
   },
   "outputs": [
    {
     "name": "stdout",
     "output_type": "stream",
     "text": [
      "Hello, Eric Idle. You are 74. You are a comedian. You were a member of Monty Python.\n"
     ]
    }
   ],
   "source": [
    "first_name = \"Eric\"\n",
    "last_name = \"Idle\"\n",
    "age = 74\n",
    "profession = \"comedian\"\n",
    "affiliation = \"Monty Python\"\n",
    "print(\n",
    "    \"Hello, %s %s. You are %s. You are a %s. You were a member of %s.\"\n",
    "    % (first_name, last_name, age, profession, affiliation)\n",
    ")"
   ]
  },
  {
   "cell_type": "markdown",
   "metadata": {
    "id": "NF0n0Sn8RuuC",
    "slideshow": {
     "slide_type": "subslide"
    }
   },
   "source": [
    "Although the `str.format()` syntax is definitely better, it is still verbose:"
   ]
  },
  {
   "cell_type": "code",
   "execution_count": 2,
   "metadata": {
    "colab": {
     "base_uri": "https://localhost:8080/"
    },
    "id": "V39xjXMtRuuC",
    "outputId": "28c035bc-bfd0-429e-d6b3-2190eb08aab9",
    "slideshow": {
     "slide_type": "fragment"
    }
   },
   "outputs": [
    {
     "name": "stdout",
     "output_type": "stream",
     "text": [
      "Hello Eric Idle, You are a 74. You are acomedian. You were a member of Monty Python\n"
     ]
    }
   ],
   "source": [
    "print(\n",
    "    \"Hello {} {}, You are a {}. You are a{}. You were a member of {}\".format(\n",
    "        first_name, last_name, age, profession, affiliation\n",
    "    )\n",
    ")"
   ]
  },
  {
   "cell_type": "markdown",
   "metadata": {
    "id": "wc4MFsD0RuuD",
    "slideshow": {
     "slide_type": "subslide"
    }
   },
   "source": [
    "With f-strings this becomes a lot more readable."
   ]
  },
  {
   "cell_type": "code",
   "execution_count": 3,
   "metadata": {
    "colab": {
     "base_uri": "https://localhost:8080/"
    },
    "id": "WsqMJtfrRuuD",
    "outputId": "b342d1db-fb52-45b2-a6ab-b1bf2411c71c",
    "slideshow": {
     "slide_type": "fragment"
    }
   },
   "outputs": [
    {
     "name": "stdout",
     "output_type": "stream",
     "text": [
      "Hello Eric Idle. You are 74. You are a comedian. You were a member of Monty Python\n"
     ]
    }
   ],
   "source": [
    "print(\n",
    "    f\"Hello {first_name} {last_name}. You are {age}. You are a {profession}. You were a member of {affiliation}\"\n",
    ")"
   ]
  },
  {
   "cell_type": "markdown",
   "metadata": {
    "id": "k3mq2JoLRuuD",
    "slideshow": {
     "slide_type": "fragment"
    }
   },
   "source": [
    "You can read more about using f-strings in this [Real Python tutorial](https://realpython.com/python-f-strings/)."
   ]
  },
  {
   "cell_type": "markdown",
   "metadata": {
    "id": "6H3J_W41RuuD",
    "slideshow": {
     "slide_type": "subslide"
    }
   },
   "source": [
    "### #3. Write helper functions instead of complex expressions (EP #5)\n",
    "\n",
    "Python’s pithy syntax makes it easy to write single-line expressions that implement a lot of logic. For example, say that I want to decode the query string from a URL. Here, each query string parameter represents an integer value:"
   ]
  },
  {
   "cell_type": "code",
   "execution_count": 4,
   "metadata": {
    "colab": {
     "base_uri": "https://localhost:8080/"
    },
    "id": "C00Io1UnRuuD",
    "outputId": "58fc8c97-f436-4af1-9d8d-b98a5c278e55",
    "slideshow": {
     "slide_type": "fragment"
    }
   },
   "outputs": [
    {
     "name": "stdout",
     "output_type": "stream",
     "text": [
      "{'red': ['5'], 'blue': ['0'], 'green': ['']}\n"
     ]
    }
   ],
   "source": [
    "from urllib.parse import parse_qs\n",
    "\n",
    "my_values = parse_qs(\"red=5&blue=0&green=\", keep_blank_values=True)\n",
    "print(repr(my_values))"
   ]
  },
  {
   "cell_type": "markdown",
   "metadata": {
    "id": "t3s1oXiaRuuE",
    "slideshow": {
     "slide_type": "subslide"
    }
   },
   "source": [
    "Some query string parameters may have multiple values, some may have single values, some may be present but have blank values, and some may be missing entirely. Using the `get` (more on that in [item 11](#item11)) method on the result dictionary will return different values in each circumstance:"
   ]
  },
  {
   "cell_type": "code",
   "execution_count": 5,
   "metadata": {
    "colab": {
     "base_uri": "https://localhost:8080/"
    },
    "id": "IS1P6dg6RuuE",
    "outputId": "07c1cf60-c8a0-4370-e822-34f9cca66b1a",
    "slideshow": {
     "slide_type": "fragment"
    }
   },
   "outputs": [
    {
     "name": "stdout",
     "output_type": "stream",
     "text": [
      "Red:      ['5']\n",
      "Green:    ['']\n",
      "Opacity:  None\n"
     ]
    }
   ],
   "source": [
    "print(\"Red:     \", my_values.get(\"red\"))\n",
    "print(\"Green:   \", my_values.get(\"green\"))\n",
    "print(\"Opacity: \", my_values.get(\"opacity\"))"
   ]
  },
  {
   "cell_type": "markdown",
   "metadata": {
    "id": "3ai8cHwtRuuE",
    "slideshow": {
     "slide_type": "subslide"
    }
   },
   "source": [
    "It’d be nice if a default value of `0` were assigned when a parameter isn’t supplied or is blank. I might choose to do this with Boolean expressions because it feels like this logic doesn’t merit a whole if statement or helper function quite yet.\n",
    "\n",
    "Python’s syntax makes this choice all too easy. The trick here is that the empty string, the empty list, and zero all evaluate to `False` implicitly. Thus, the expressions below will evaluate to the subexpression after the or operator when the first subexpression is False:"
   ]
  },
  {
   "cell_type": "code",
   "execution_count": 6,
   "metadata": {
    "colab": {
     "base_uri": "https://localhost:8080/"
    },
    "id": "tG3RWbjDRuuE",
    "outputId": "3d5a89f7-4010-4b22-b8b0-85ad7e7fa77c",
    "slideshow": {
     "slide_type": "fragment"
    }
   },
   "outputs": [
    {
     "name": "stdout",
     "output_type": "stream",
     "text": [
      "Red:     '5'\n",
      "Green:   0\n",
      "Opacity: 0\n"
     ]
    }
   ],
   "source": [
    "red = my_values.get(\"red\", [\"\"])[0] or 0\n",
    "green = my_values.get(\"green\", [\"\"])[0] or 0\n",
    "opacity = my_values.get(\"opacity\", [\"\"])[0] or 0\n",
    "print(f\"Red:     {red!r}\")\n",
    "print(f\"Green:   {green!r}\")\n",
    "print(f\"Opacity: {opacity!r}\")"
   ]
  },
  {
   "cell_type": "markdown",
   "metadata": {
    "id": "MzmQarLjRuuF",
    "slideshow": {
     "slide_type": "subslide"
    }
   },
   "source": [
    "The `red` case works because the key is present in the my_values dictionary. The value is a list with one member: the string `'5'`. This string implicitly evaluates to `True`, so red is assigned to the first part of the or expression.\n",
    "\n",
    "The `green` case works because the value in the `my_values` dictionary is a list with one member: an empty string. The empty string implicitly evaluates to `False`, causing the or expression to evaluate to `0`.\n",
    "\n",
    "The `opacity` case works because the value in the `my_values` dictionary is missing altogether. The behavior of the get method is to return its second argument if the key doesn’t exist in the dictionary (see [item 11: “Prefer `get` over `in` and `KeyError` to handle missing dictionary keys”](#item11)). The default value in this case is a list with one member: an empty string. When `opacity` isn’t found in the dictionary, this code does exactly the same thing as the `green` case.\n",
    "\n",
    "However, this expression is difficult to read, and it still doesn’t do everything I need. I’d also want to ensure that all the parameter values are converted to integers so I can immediately use them in mathematical expressions. To do that, I’d wrap each expression with the int built-in function to parse the string as an integer:"
   ]
  },
  {
   "cell_type": "code",
   "execution_count": 7,
   "metadata": {
    "colab": {
     "base_uri": "https://localhost:8080/"
    },
    "id": "L1-1rpiTRuuF",
    "outputId": "470f246e-d124-46c7-de92-ad693d31ebeb",
    "slideshow": {
     "slide_type": "subslide"
    }
   },
   "outputs": [
    {
     "name": "stdout",
     "output_type": "stream",
     "text": [
      "Red:     5\n",
      "Green:   0\n",
      "Opacity: 0\n"
     ]
    }
   ],
   "source": [
    "red = int(my_values.get(\"red\", [\"\"])[0] or 0)\n",
    "green = int(my_values.get(\"green\", [\"\"])[0] or 0)\n",
    "opacity = int(my_values.get(\"opacity\", [\"\"])[0] or 0)\n",
    "print(f\"Red:     {red}\")\n",
    "print(f\"Green:   {green}\")\n",
    "print(f\"Opacity: {opacity}\")"
   ]
  },
  {
   "cell_type": "markdown",
   "metadata": {
    "id": "1s7pCCiFRuuF",
    "slideshow": {
     "slide_type": "subslide"
    }
   },
   "source": [
    "You see this get unwieldly quite quickly. Furthermore, if you need to reuse this logic repeatedly - even just to or three times, as in this example, - then writing a helper function is the way to go:"
   ]
  },
  {
   "cell_type": "code",
   "execution_count": 8,
   "metadata": {
    "colab": {
     "base_uri": "https://localhost:8080/"
    },
    "id": "f-2SEtYaRuuF",
    "outputId": "5108b70f-db8a-4002-bf9b-30d75f3398e6",
    "slideshow": {
     "slide_type": "fragment"
    }
   },
   "outputs": [
    {
     "name": "stdout",
     "output_type": "stream",
     "text": [
      "Green:   0\n"
     ]
    }
   ],
   "source": [
    "def get_first_int(values, key, default=0):\n",
    "    found = values.get(key, [\"\"])\n",
    "    if found[0]:\n",
    "        return int(found[0])\n",
    "    return default\n",
    "\n",
    "\n",
    "green = get_first_int(my_values, \"green\")\n",
    "print(f\"Green:   {green!r}\")"
   ]
  },
  {
   "cell_type": "markdown",
   "metadata": {
    "id": "8acNEgE5RuuF",
    "slideshow": {
     "slide_type": "subslide"
    }
   },
   "source": [
    "As soon as expressions get complicated, it’s time to consider splitting them into smaller pieces and moving logic into helper functions. What you gain in readability always outweighs what brevity may have afforded you. Avoid letting Python’s pithy syntax for complex expressions from getting you into a mess like this. Follow the __DRY__ principle: _Don’t repeat yourself_."
   ]
  },
  {
   "cell_type": "markdown",
   "metadata": {
    "id": "fMi5a0qeRuuG",
    "slideshow": {
     "slide_type": "subslide"
    }
   },
   "source": [
    "<a id='item4'></a>\n",
    "### #4. Prefer multiple assignment unpacking over indexing (EP #6)\n",
    "\n",
    "Python also has syntax for unpacking, which allows for assigning multiple values in a single statement. The patterns that you specify in unpacking assignments look a lot like trying to mutate tuples—which isn’t allowed—but they actually work quite differently. For example, if you know that a tuple is a pair, instead of using indexes to access its values, you can assign it to a tuple of two variable names:"
   ]
  },
  {
   "cell_type": "code",
   "execution_count": 9,
   "metadata": {
    "colab": {
     "base_uri": "https://localhost:8080/"
    },
    "id": "h-oeaa5LRuuG",
    "outputId": "1cd5c461-6ffa-4a1e-d7ee-5395cc5be913",
    "slideshow": {
     "slide_type": "fragment"
    }
   },
   "outputs": [
    {
     "name": "stdout",
     "output_type": "stream",
     "text": [
      "Peanut butter and Jelly\n"
     ]
    }
   ],
   "source": [
    "item = (\"Peanut butter\", \"Jelly\")\n",
    "first, second = item  # Unpacking\n",
    "print(first, \"and\", second)"
   ]
  },
  {
   "cell_type": "markdown",
   "metadata": {
    "id": "y0foi7J7RuuG",
    "slideshow": {
     "slide_type": "subslide"
    }
   },
   "source": [
    "Unpacking has less visual noise than accessing the tuple’s indexes, and it often requires fewer lines. The same pattern matching syntax of unpacking works when assigning to lists, sequences, and multiple levels of arbitrary iterables within iterables. Newcomers to Python may be surprised to learn that unpacking can even be used to swap values in place without the need to create temporary variables. Here, I use typical syntax with indexes to swap the values between two positions in a list as part of an ascending order sorting algorithm (using [bubble sort](https://en.wikipedia.org/wiki/Bubble_sort)):"
   ]
  },
  {
   "cell_type": "code",
   "execution_count": 10,
   "metadata": {
    "colab": {
     "base_uri": "https://localhost:8080/"
    },
    "id": "UaP6BW2nRuuG",
    "outputId": "21952c23-2869-45ed-92e9-6f5540e2a32e",
    "slideshow": {
     "slide_type": "fragment"
    }
   },
   "outputs": [
    {
     "name": "stdout",
     "output_type": "stream",
     "text": [
      "['arugula', 'bacon', 'carrots', 'pretzels']\n"
     ]
    }
   ],
   "source": [
    "def bubble_sort(a):\n",
    "    for _ in range(len(a)):\n",
    "        for i in range(1, len(a)):\n",
    "            if a[i] < a[i - 1]:\n",
    "                temp = a[i]\n",
    "                a[i] = a[i - 1]\n",
    "                a[i - 1] = temp\n",
    "\n",
    "\n",
    "names = [\"pretzels\", \"carrots\", \"arugula\", \"bacon\"]\n",
    "bubble_sort(names)\n",
    "print(names)"
   ]
  },
  {
   "cell_type": "markdown",
   "metadata": {
    "id": "0k_JTuTzRuuG",
    "slideshow": {
     "slide_type": "subslide"
    }
   },
   "source": [
    "However, with unpacking syntax, it’s possible to swap indexes in a single line:"
   ]
  },
  {
   "cell_type": "code",
   "execution_count": 11,
   "metadata": {
    "colab": {
     "base_uri": "https://localhost:8080/"
    },
    "id": "BeSKkmiqRuuG",
    "outputId": "583189ad-f143-4503-b1e6-5ed617cee906",
    "slideshow": {
     "slide_type": "fragment"
    }
   },
   "outputs": [
    {
     "name": "stdout",
     "output_type": "stream",
     "text": [
      "['arugula', 'bacon', 'carrots', 'pretzels']\n"
     ]
    }
   ],
   "source": [
    "def bubble_sort(a):\n",
    "    for _ in range(len(a)):\n",
    "        for i in range(1, len(a)):\n",
    "            if a[i] < a[i - 1]:\n",
    "                a[i - 1], a[i] = a[i], a[i - 1]  # Swap\n",
    "\n",
    "\n",
    "names = [\"pretzels\", \"carrots\", \"arugula\", \"bacon\"]\n",
    "bubble_sort(names)\n",
    "print(names)"
   ]
  },
  {
   "cell_type": "markdown",
   "metadata": {
    "id": "r--5Ri9JRuuH",
    "slideshow": {
     "slide_type": "subslide"
    }
   },
   "source": [
    "The way this swap works is that the right side of the assignment (`a[i], a[i-1]`) is evaluated first, and its values are put into a new temporary, unnamed tuple (such as `('carrots', 'pretzels')` on the first iteration of the loops). Then, the unpacking pattern from the left side of the assignment (`a[i-1], a[i]`) is used to receive that tuple value and assign it to the variable names `a[i-1]` and `a[i]`, respectively. This replaces `'pretzels'` with `'carrots'` at index `0` and `'carrots'` with `'pretzels'` at index 1. Finally, the temporary unnamed tuple silently goes away.\n",
    "\n",
    "Another valuable application of unpacking is in the target list of for loops and similar constructs, such as comprehensions and generator expressions (see [item 13: “Use comprehensions instead of `map` and `filter`”](#item13) for those). As an example for contrast, here I iterate over a list of snacks without using unpacking:"
   ]
  },
  {
   "cell_type": "code",
   "execution_count": 12,
   "metadata": {
    "colab": {
     "base_uri": "https://localhost:8080/"
    },
    "id": "LYLFgwKbRuuH",
    "outputId": "98e21ec0-4131-44f6-f5c5-f0347e54fc91",
    "slideshow": {
     "slide_type": "subslide"
    }
   },
   "outputs": [
    {
     "name": "stdout",
     "output_type": "stream",
     "text": [
      "#1: bacon has 350 calories\n",
      "#2: donut has 240 calories\n",
      "#3: muffin has 190 calories\n"
     ]
    }
   ],
   "source": [
    "snacks = [(\"bacon\", 350), (\"donut\", 240), (\"muffin\", 190)]\n",
    "for i in range(len(snacks)):\n",
    "    item = snacks[i]\n",
    "    name = item[0]\n",
    "    calories = item[1]\n",
    "    print(f\"#{i+1}: {name} has {calories} calories\")"
   ]
  },
  {
   "cell_type": "markdown",
   "metadata": {
    "id": "ukKcPVD_RuuI",
    "slideshow": {
     "slide_type": "subslide"
    }
   },
   "source": [
    "This works, but it’s noisy. There are a lot of extra characters required in order to index into the various levels of the snacks structure. Here, I achieve the same output by using unpacking along with the enumerate built-in function (see [item 5: “Prefer enumerate Over range”](#item5)):"
   ]
  },
  {
   "cell_type": "code",
   "execution_count": 13,
   "metadata": {
    "colab": {
     "base_uri": "https://localhost:8080/"
    },
    "id": "fEXb4H7MRuuI",
    "outputId": "f9eaf2f8-7324-464a-a0b3-c3b38363b4e0",
    "slideshow": {
     "slide_type": "fragment"
    }
   },
   "outputs": [
    {
     "name": "stdout",
     "output_type": "stream",
     "text": [
      "#1: bacon has 350 calories\n",
      "#2: donut has 240 calories\n",
      "#3: muffin has 190 calories\n"
     ]
    }
   ],
   "source": [
    "for rank, (name, calories) in enumerate(snacks, 1):\n",
    "    print(f\"#{rank}: {name} has {calories} calories\")"
   ]
  },
  {
   "cell_type": "markdown",
   "metadata": {
    "id": "6g2Y7UxpRuuI",
    "slideshow": {
     "slide_type": "subslide"
    }
   },
   "source": [
    "Using unpacking wisely will enable you to avoid indexing when possible, resulting in clearer and more Pythonic code. So remember:\n",
    "\n",
    "- Python has special syntax called unpacking for assigning multiple values in a single statement.\n",
    "- Unpacking is generalized in Python and can be applied to any iterable, including many levels of iterables within iterables.\n",
    "- Reduce visual noise and increase code clarity by using unpacking to avoid explicitly indexing into sequences."
   ]
  },
  {
   "cell_type": "markdown",
   "metadata": {
    "id": "ibEQ66MKRuuI",
    "slideshow": {
     "slide_type": "subslide"
    }
   },
   "source": [
    "<a id='item5'></a>\n",
    "### #5. Prefer `enumerate` over `range` (EP #7)"
   ]
  },
  {
   "cell_type": "markdown",
   "metadata": {
    "id": "4Qjwp5gqRuuI",
    "slideshow": {
     "slide_type": "fragment"
    }
   },
   "source": [
    "When you have a data structure to iterate over, like a list of strings, you can loop directly over the sequence:"
   ]
  },
  {
   "cell_type": "code",
   "execution_count": 14,
   "metadata": {
    "colab": {
     "base_uri": "https://localhost:8080/"
    },
    "id": "bpKp8sz8RuuI",
    "outputId": "87f922a0-8b8f-49eb-e7f2-fcad51dcba94",
    "slideshow": {
     "slide_type": "fragment"
    }
   },
   "outputs": [
    {
     "name": "stdout",
     "output_type": "stream",
     "text": [
      "vanilla is delicious\n",
      "chocolate is delicious\n",
      "pecan is delicious\n",
      "strawberry is delicious\n"
     ]
    }
   ],
   "source": [
    "flavor_list = [\"vanilla\", \"chocolate\", \"pecan\", \"strawberry\"]\n",
    "for flavor in flavor_list:\n",
    "    print(f\"{flavor} is delicious\")"
   ]
  },
  {
   "cell_type": "markdown",
   "metadata": {
    "id": "xENUm0zaRuuJ",
    "slideshow": {
     "slide_type": "subslide"
    }
   },
   "source": [
    "Often, you’ll want to iterate over a list and also know the index of the current item in the list. For example, say that I want to print the ranking of my favorite ice cream flavors. One way to do it is by using range:"
   ]
  },
  {
   "cell_type": "code",
   "execution_count": 15,
   "metadata": {
    "colab": {
     "base_uri": "https://localhost:8080/"
    },
    "id": "RaJdJ7pdRuuJ",
    "outputId": "110344ad-795e-44e6-ad8a-6709fcc92851",
    "slideshow": {
     "slide_type": "fragment"
    }
   },
   "outputs": [
    {
     "name": "stdout",
     "output_type": "stream",
     "text": [
      "1: vanilla\n",
      "2: chocolate\n",
      "3: pecan\n",
      "4: strawberry\n"
     ]
    }
   ],
   "source": [
    "for i in range(len(flavor_list)):\n",
    "    flavor = flavor_list[i]\n",
    "    print(f\"{i + 1}: {flavor}\")"
   ]
  },
  {
   "cell_type": "markdown",
   "metadata": {
    "id": "kC2TPjowRuuJ",
    "slideshow": {
     "slide_type": "subslide"
    }
   },
   "source": [
    "This looks clumsy compared with the other example of iterating over `flavor_list`. I have to get the length of the list. I have to index into the array. The multiple steps make it harder to read.\n",
    "\n",
    "Python provides the `enumerate` built-in function to address this situation. `enumerate` wraps any iterator with a lazy generator (read [more on generators in this Real Python article](https://realpython.com/introduction-to-python-generators/)). `enumerate` yields pairs of the loop index and the next value from the given iterator. Here, I manually advance the returned iterator with the next built-in function to demonstrate what it does:"
   ]
  },
  {
   "cell_type": "code",
   "execution_count": 16,
   "metadata": {
    "colab": {
     "base_uri": "https://localhost:8080/"
    },
    "id": "7aHWZw4cRuuJ",
    "outputId": "0c966181-769c-4056-e1c1-ae77e648bc5b",
    "slideshow": {
     "slide_type": "fragment"
    }
   },
   "outputs": [
    {
     "name": "stdout",
     "output_type": "stream",
     "text": [
      "1: vanilla\n",
      "2: chocolate\n",
      "3: pecan\n",
      "4: strawberry\n"
     ]
    }
   ],
   "source": [
    "for i, flavor in enumerate(flavor_list):\n",
    "    print(f\"{i + 1}: {flavor}\")"
   ]
  },
  {
   "cell_type": "markdown",
   "metadata": {
    "id": "GYCOkEyARuuK",
    "slideshow": {
     "slide_type": "subslide"
    }
   },
   "source": [
    "I can make this even shorter by specifying the number from which `enumerate` should begin counting (`1` in this case) as the second parameter:"
   ]
  },
  {
   "cell_type": "code",
   "execution_count": 17,
   "metadata": {
    "colab": {
     "base_uri": "https://localhost:8080/"
    },
    "id": "SYA3Tn9ORuuK",
    "outputId": "79e7d4c7-bd07-4d9f-93f0-102d8d909b03",
    "slideshow": {
     "slide_type": "fragment"
    }
   },
   "outputs": [
    {
     "name": "stdout",
     "output_type": "stream",
     "text": [
      "1: vanilla\n",
      "2: chocolate\n",
      "3: pecan\n",
      "4: strawberry\n"
     ]
    }
   ],
   "source": [
    "for i, flavor in enumerate(flavor_list, 1):\n",
    "    print(f\"{i}: {flavor}\")"
   ]
  },
  {
   "cell_type": "markdown",
   "metadata": {
    "id": "gyfZK5CSRuuK",
    "slideshow": {
     "slide_type": "subslide"
    }
   },
   "source": [
    "### #6. Use zip to process iterators in parallel (EP #8)\n",
    "\n",
    "Often in Python you find yourself with many lists of related objects. List comprehensions make it easy to take a source list and get a derived list by applying an expression (see [item 13: “Use comprehensions instead of `map` and `filter`”](#item13)):"
   ]
  },
  {
   "cell_type": "code",
   "execution_count": 18,
   "metadata": {
    "colab": {
     "base_uri": "https://localhost:8080/"
    },
    "id": "PFsRS110RuuK",
    "outputId": "476071bd-9ae9-4ab8-ae26-dca64383be81",
    "slideshow": {
     "slide_type": "fragment"
    }
   },
   "outputs": [
    {
     "name": "stdout",
     "output_type": "stream",
     "text": [
      "[7, 4, 5]\n"
     ]
    }
   ],
   "source": [
    "names = [\"Cecilia\", \"Lise\", \"Marie\"]\n",
    "counts = [len(n) for n in names]\n",
    "print(counts)"
   ]
  },
  {
   "cell_type": "markdown",
   "metadata": {
    "id": "YxWHhrPgRuuL",
    "slideshow": {
     "slide_type": "subslide"
    }
   },
   "source": [
    "The items in the derived list are related to the items in the source list by their indexes. To iterate over both lists in parallel, I can iterate over the length of the `names` source list:"
   ]
  },
  {
   "cell_type": "code",
   "execution_count": 19,
   "metadata": {
    "colab": {
     "base_uri": "https://localhost:8080/"
    },
    "id": "N6ChJBkiRuuL",
    "outputId": "3bc90fc6-7e85-4bb3-9f77-73f4210d47de",
    "slideshow": {
     "slide_type": "fragment"
    }
   },
   "outputs": [
    {
     "name": "stdout",
     "output_type": "stream",
     "text": [
      "Cecilia\n"
     ]
    }
   ],
   "source": [
    "longest_name = None\n",
    "max_count = 0\n",
    "\n",
    "for i in range(len(names)):\n",
    "    count = counts[i]\n",
    "    if count > max_count:\n",
    "        longest_name = names[i]\n",
    "        max_count = count\n",
    "\n",
    "print(longest_name)"
   ]
  },
  {
   "cell_type": "markdown",
   "metadata": {
    "id": "smkdAX0NRuuL",
    "slideshow": {
     "slide_type": "subslide"
    }
   },
   "source": [
    "The problem is that this whole loop statement is visually noisy. The indexes into `names` and `counts` make the code hard to read. Indexing into the arrays by the loop index `i` happens twice. Using `enumerate` (see [item 5: “Prefer enumerate Over range”](#item5)) improves this slightly, but it’s still not ideal:"
   ]
  },
  {
   "cell_type": "code",
   "execution_count": 20,
   "metadata": {
    "colab": {
     "base_uri": "https://localhost:8080/"
    },
    "id": "X4ZFoKogRuuL",
    "outputId": "8adb08a9-869f-4cf6-fd0d-553db9da1217",
    "slideshow": {
     "slide_type": "fragment"
    }
   },
   "outputs": [
    {
     "name": "stdout",
     "output_type": "stream",
     "text": [
      "Cecilia\n"
     ]
    }
   ],
   "source": [
    "longest_name = None\n",
    "max_count = 0\n",
    "for i, name in enumerate(names):\n",
    "    count = counts[i]\n",
    "    if count > max_count:\n",
    "        longest_name = name\n",
    "        max_count = count\n",
    "\n",
    "print(longest_name)"
   ]
  },
  {
   "cell_type": "markdown",
   "metadata": {
    "id": "CfDkLt-8RuuL",
    "slideshow": {
     "slide_type": "subslide"
    }
   },
   "source": [
    "To make this code clearer, Python provides the `zip` built-in function. `zip` wraps two or more iterators with a lazy generator. The `zip` generator yields tuples containing the next value from each iterator. These tuples can be unpacked directly within a for statement (see [item 4: “Prefer multiple assignment unpacking over indexing”](#item4)). The resulting code is much cleaner than the code for indexing into multiple lists:"
   ]
  },
  {
   "cell_type": "code",
   "execution_count": 21,
   "metadata": {
    "colab": {
     "base_uri": "https://localhost:8080/"
    },
    "id": "G5mAb4z1RuuL",
    "outputId": "82c9e870-65bb-4e8e-9b0e-dd129623277a",
    "slideshow": {
     "slide_type": "fragment"
    }
   },
   "outputs": [
    {
     "name": "stdout",
     "output_type": "stream",
     "text": [
      "Cecilia\n"
     ]
    }
   ],
   "source": [
    "longest_name = None\n",
    "max_count = 0\n",
    "for name, count in zip(names, counts):\n",
    "    if count > max_count:\n",
    "        longest_name = name\n",
    "        max_count = count\n",
    "\n",
    "print(longest_name)"
   ]
  },
  {
   "cell_type": "markdown",
   "metadata": {
    "id": "yqBz3EsPRuuM",
    "slideshow": {
     "slide_type": "subslide"
    }
   },
   "source": [
    "`zip` consumes the iterators it wraps one item at a time, which means it can be used with infinitely long inputs without risk of a program using too much memory and crashing.\n",
    "\n",
    "However, beware of `zip`’s behavior when the input iterators are of different lengths. For example, say that I add another item to names above but forget to update counts. Running zip on the two input lists will have an unexpected result:"
   ]
  },
  {
   "cell_type": "code",
   "execution_count": 22,
   "metadata": {
    "colab": {
     "base_uri": "https://localhost:8080/"
    },
    "id": "xSr_N74NRuuM",
    "outputId": "a6a618df-97b2-4916-fe31-1b0bec5c4d5f",
    "slideshow": {
     "slide_type": "fragment"
    }
   },
   "outputs": [
    {
     "name": "stdout",
     "output_type": "stream",
     "text": [
      "Cecilia\n",
      "Lise\n",
      "Marie\n"
     ]
    }
   ],
   "source": [
    "names.append(\"Rosalind\")\n",
    "for name, count in zip(names, counts):\n",
    "    print(name)"
   ]
  },
  {
   "cell_type": "markdown",
   "metadata": {
    "id": "q1MklOEkRuuM",
    "slideshow": {
     "slide_type": "subslide"
    }
   },
   "source": [
    "The new item for `'Rosalind'` isn’t there. Why not? This is just how `zip` works. It keeps yielding tuples until any one of the wrapped iterators is exhausted. Its output is as long as its shortest input. This approach works fine when you know that the iterators are of the same length, which is often the case for derived lists created by list comprehensions. But in many other cases, the truncating behavior of `zip` is surprising and bad. If you don’t expect the lengths of the lists passed to zip to be equal, consider using the `zip_longest` function from the `itertools` built-in module instead:"
   ]
  },
  {
   "cell_type": "code",
   "execution_count": 23,
   "metadata": {
    "colab": {
     "base_uri": "https://localhost:8080/"
    },
    "id": "S4JoSgu1RuuM",
    "outputId": "29585d77-8417-4871-8c64-5b026dc1a3fb",
    "slideshow": {
     "slide_type": "fragment"
    }
   },
   "outputs": [
    {
     "name": "stdout",
     "output_type": "stream",
     "text": [
      "Cecilia: 7\n",
      "Lise: 4\n",
      "Marie: 5\n",
      "Rosalind: None\n"
     ]
    }
   ],
   "source": [
    "import itertools\n",
    "\n",
    "for name, count in itertools.zip_longest(names, counts):\n",
    "    print(f\"{name}: {count}\")"
   ]
  },
  {
   "cell_type": "markdown",
   "metadata": {
    "id": "g_c4lqaZRuuM",
    "slideshow": {
     "slide_type": "subslide"
    }
   },
   "source": [
    "`zip_longest` replaces missing values—the length of the string `'Rosalind'` in this case—with whatever fillvalue is passed to it, which defaults to `None`.\n",
    "\n",
    "Note that the `itertools` implements more iterator building block that come from functional programming. Read more in [this Real Python article](https://realpython.com/python-itertools/)."
   ]
  },
  {
   "cell_type": "markdown",
   "metadata": {
    "id": "0w6eOnbnRuuN",
    "slideshow": {
     "slide_type": "slide"
    }
   },
   "source": [
    "## Lists, dictionairies and dataclasses"
   ]
  },
  {
   "cell_type": "markdown",
   "metadata": {
    "id": "tDE8XWihRuuN",
    "slideshow": {
     "slide_type": "subslide"
    }
   },
   "source": [
    "### #7. Use `dataclass` if you need to create a data container\n",
    "The `dataclass` class was introduced in Python 3.7. Given our functional approach, you should first ask yourself whether you really need a new container object for your data. In the words of [Alan J. Perlis](https://en.wikipedia.org/wiki/Alan_Perlis):\n",
    "\n",
    "> It is better to have 100 functions operate on one data structure than to have 10 functions operate on 10 data structures.\n",
    "\n",
    "If you have consciously decided you _do_ want a new data object, then `dataclass` is your friend. It is created using the new `@dataclass` decorator as follows:"
   ]
  },
  {
   "cell_type": "code",
   "execution_count": 24,
   "metadata": {
    "id": "6oVNJrA2RuuN",
    "slideshow": {
     "slide_type": "fragment"
    }
   },
   "outputs": [],
   "source": [
    "from dataclasses import dataclass\n",
    "\n",
    "\n",
    "@dataclass\n",
    "class DataClassCard:\n",
    "    rank: str\n",
    "    suit: str"
   ]
  },
  {
   "cell_type": "markdown",
   "metadata": {
    "id": "5-3QaSgSRuuN",
    "slideshow": {
     "slide_type": "subslide"
    }
   },
   "source": [
    "A `dataclass` comes with basic functionality already implemented. For instance, you can instantiate, print, and compare `dataclass` instances straight out of the box:"
   ]
  },
  {
   "cell_type": "code",
   "execution_count": 25,
   "metadata": {
    "colab": {
     "base_uri": "https://localhost:8080/"
    },
    "id": "lNHKqdPBRuuN",
    "outputId": "620df995-cf50-4275-a852-c9b916bc3d71",
    "slideshow": {
     "slide_type": "fragment"
    }
   },
   "outputs": [
    {
     "name": "stdout",
     "output_type": "stream",
     "text": [
      "Q\n"
     ]
    }
   ],
   "source": [
    "queen_of_hearts = DataClassCard(\"Q\", \"Hearts\")\n",
    "print(queen_of_hearts.rank)"
   ]
  },
  {
   "cell_type": "code",
   "execution_count": 26,
   "metadata": {
    "colab": {
     "base_uri": "https://localhost:8080/"
    },
    "id": "dSqvjvopRuuN",
    "outputId": "1b28179f-3d06-42b0-dc26-3ee8bc4887f8",
    "slideshow": {
     "slide_type": "fragment"
    }
   },
   "outputs": [
    {
     "data": {
      "text/plain": [
       "DataClassCard(rank='Q', suit='Hearts')"
      ]
     },
     "execution_count": 26,
     "metadata": {},
     "output_type": "execute_result"
    }
   ],
   "source": [
    "queen_of_hearts"
   ]
  },
  {
   "cell_type": "code",
   "execution_count": 27,
   "metadata": {
    "colab": {
     "base_uri": "https://localhost:8080/"
    },
    "id": "o9fGky87RuuO",
    "outputId": "ad11f656-5e29-4d50-dcf5-76a69c1b41e8",
    "slideshow": {
     "slide_type": "fragment"
    }
   },
   "outputs": [
    {
     "data": {
      "text/plain": [
       "True"
      ]
     },
     "execution_count": 27,
     "metadata": {},
     "output_type": "execute_result"
    }
   ],
   "source": [
    "queen_of_hearts == DataClassCard(\"Q\", \"Hearts\")"
   ]
  },
  {
   "cell_type": "markdown",
   "metadata": {
    "id": "CgCve9JIRuuO",
    "slideshow": {
     "slide_type": "fragment"
    }
   },
   "source": [
    "Read more on `dataclass` and how to use them in [this Real Python tutorial](https://realpython.com/python-data-classes/)"
   ]
  },
  {
   "cell_type": "markdown",
   "metadata": {
    "id": "SKPTfILrRuuO",
    "slideshow": {
     "slide_type": "subslide"
    }
   },
   "source": [
    "### #8. Prefer catch-all unpacking over slicing (EP #13)\n",
    "\n",
    "One limitation of basic unpacking (see [item 4](#item4)) is that you must know the length of the sequences you’re unpacking in advance. For example, here I have a list of the ages of cars that are being traded in at a dealership. When I try to take the first two items of the list with basic unpacking, an exception is raised at runtime:"
   ]
  },
  {
   "cell_type": "code",
   "execution_count": 28,
   "metadata": {
    "colab": {
     "base_uri": "https://localhost:8080/",
     "height": 198
    },
    "id": "nZrgdTSgRuuO",
    "outputId": "ec997301-9b38-45d2-c8c6-171a694b8b70",
    "slideshow": {
     "slide_type": "fragment"
    }
   },
   "outputs": [
    {
     "ename": "ValueError",
     "evalue": "too many values to unpack (expected 2)",
     "output_type": "error",
     "traceback": [
      "\u001b[0;31m---------------------------------------------------------------------------\u001b[0m",
      "\u001b[0;31mValueError\u001b[0m                                Traceback (most recent call last)",
      "\u001b[0;32m<ipython-input-28-99634ca0e408>\u001b[0m in \u001b[0;36m<module>\u001b[0;34m\u001b[0m\n\u001b[1;32m      1\u001b[0m \u001b[0mcar_ages\u001b[0m \u001b[0;34m=\u001b[0m \u001b[0;34m[\u001b[0m\u001b[0;36m0\u001b[0m\u001b[0;34m,\u001b[0m \u001b[0;36m9\u001b[0m\u001b[0;34m,\u001b[0m \u001b[0;36m4\u001b[0m\u001b[0;34m,\u001b[0m \u001b[0;36m8\u001b[0m\u001b[0;34m,\u001b[0m \u001b[0;36m7\u001b[0m\u001b[0;34m,\u001b[0m \u001b[0;36m20\u001b[0m\u001b[0;34m,\u001b[0m \u001b[0;36m19\u001b[0m\u001b[0;34m,\u001b[0m \u001b[0;36m1\u001b[0m\u001b[0;34m,\u001b[0m \u001b[0;36m6\u001b[0m\u001b[0;34m,\u001b[0m \u001b[0;36m15\u001b[0m\u001b[0;34m]\u001b[0m\u001b[0;34m\u001b[0m\u001b[0;34m\u001b[0m\u001b[0m\n\u001b[1;32m      2\u001b[0m \u001b[0mcar_ages_descending\u001b[0m \u001b[0;34m=\u001b[0m \u001b[0msorted\u001b[0m\u001b[0;34m(\u001b[0m\u001b[0mcar_ages\u001b[0m\u001b[0;34m,\u001b[0m \u001b[0mreverse\u001b[0m\u001b[0;34m=\u001b[0m\u001b[0;32mTrue\u001b[0m\u001b[0;34m)\u001b[0m\u001b[0;34m\u001b[0m\u001b[0;34m\u001b[0m\u001b[0m\n\u001b[0;32m----> 3\u001b[0;31m \u001b[0moldest\u001b[0m\u001b[0;34m,\u001b[0m \u001b[0msecond_oldest\u001b[0m \u001b[0;34m=\u001b[0m \u001b[0mcar_ages_descending\u001b[0m\u001b[0;34m\u001b[0m\u001b[0;34m\u001b[0m\u001b[0m\n\u001b[0m",
      "\u001b[0;31mValueError\u001b[0m: too many values to unpack (expected 2)"
     ]
    }
   ],
   "source": [
    "car_ages = [0, 9, 4, 8, 7, 20, 19, 1, 6, 15]\n",
    "car_ages_descending = sorted(car_ages, reverse=True)\n",
    "oldest, second_oldest = car_ages_descending"
   ]
  },
  {
   "cell_type": "markdown",
   "metadata": {
    "id": "f7GQVCUTRuuO",
    "slideshow": {
     "slide_type": "subslide"
    }
   },
   "source": [
    "Newcomers to Python often rely on indexing and slicing for this situation. For example, here I extract the oldest, second oldest, and other car ages from a list of at least two items:"
   ]
  },
  {
   "cell_type": "code",
   "execution_count": 29,
   "metadata": {
    "colab": {
     "base_uri": "https://localhost:8080/"
    },
    "id": "UknbUSlsRuuP",
    "outputId": "2b23e3ec-1f11-4d17-e584-3e5ecbe3d33c",
    "slideshow": {
     "slide_type": "fragment"
    }
   },
   "outputs": [
    {
     "name": "stdout",
     "output_type": "stream",
     "text": [
      "20 19 [15, 9, 8, 7, 6, 4, 1, 0]\n"
     ]
    }
   ],
   "source": [
    "oldest = car_ages_descending[0]\n",
    "second_oldest = car_ages_descending[1]\n",
    "others = car_ages_descending[2:]\n",
    "print(oldest, second_oldest, others)"
   ]
  },
  {
   "cell_type": "markdown",
   "metadata": {
    "id": "ocm4QY2JRuuP",
    "slideshow": {
     "slide_type": "subslide"
    }
   },
   "source": [
    "However, to unpack assignments that contain a starred expression, you must have at least one required part, or else you’ll get a `SyntaxError`. You can’t use a catch-all expression on its own:"
   ]
  },
  {
   "cell_type": "code",
   "execution_count": 30,
   "metadata": {
    "colab": {
     "base_uri": "https://localhost:8080/",
     "height": 130
    },
    "id": "PYdaB1upRuuP",
    "outputId": "10851b87-6769-46a4-a7c1-e23aae567d7f",
    "slideshow": {
     "slide_type": "fragment"
    }
   },
   "outputs": [
    {
     "ename": "SyntaxError",
     "evalue": "starred assignment target must be in a list or tuple (<ipython-input-30-77c6f344fe32>, line 1)",
     "output_type": "error",
     "traceback": [
      "\u001b[0;36m  File \u001b[0;32m\"<ipython-input-30-77c6f344fe32>\"\u001b[0;36m, line \u001b[0;32m1\u001b[0m\n\u001b[0;31m    *others = car_ages_descending\u001b[0m\n\u001b[0m    ^\u001b[0m\n\u001b[0;31mSyntaxError\u001b[0m\u001b[0;31m:\u001b[0m starred assignment target must be in a list or tuple\n"
     ]
    }
   ],
   "source": [
    "*others = car_ages_descending"
   ]
  },
  {
   "cell_type": "markdown",
   "metadata": {
    "id": "FJh1G2z-RuuP",
    "slideshow": {
     "slide_type": "subslide"
    }
   },
   "source": [
    "You also can’t use multiple catch-all expressions in a single-level unpacking pattern:"
   ]
  },
  {
   "cell_type": "code",
   "execution_count": 31,
   "metadata": {
    "colab": {
     "base_uri": "https://localhost:8080/",
     "height": 130
    },
    "id": "7s28Ds79RuuP",
    "outputId": "190f1427-77b1-41fa-ac98-636a789ac4b7",
    "slideshow": {
     "slide_type": "fragment"
    }
   },
   "outputs": [
    {
     "ename": "SyntaxError",
     "evalue": "multiple starred expressions in assignment (<ipython-input-31-77dccc131ad1>, line 1)",
     "output_type": "error",
     "traceback": [
      "\u001b[0;36m  File \u001b[0;32m\"<ipython-input-31-77dccc131ad1>\"\u001b[0;36m, line \u001b[0;32m1\u001b[0m\n\u001b[0;31m    first, *middle, *second_middle, last = [1, 2, 3, 4]\u001b[0m\n\u001b[0m    ^\u001b[0m\n\u001b[0;31mSyntaxError\u001b[0m\u001b[0;31m:\u001b[0m multiple starred expressions in assignment\n"
     ]
    }
   ],
   "source": [
    "first, *middle, *second_middle, last = [1, 2, 3, 4]"
   ]
  },
  {
   "cell_type": "markdown",
   "metadata": {
    "id": "qG66J5tnRuuP",
    "slideshow": {
     "slide_type": "subslide"
    }
   },
   "source": [
    "But it is possible to use multiple starred expressions in an unpacking assignment statement, as long as they’re catch-alls for different parts of the multilevel structure being unpacked. I don’t recommend doing the following (see [item 11: “Never unpack more than three variables when functions return multiple values”](#item11) for related guidance), but understanding it should help you develop an intuition for how starred expressions can be used in unpacking assignments:"
   ]
  },
  {
   "cell_type": "code",
   "execution_count": 32,
   "metadata": {
    "colab": {
     "base_uri": "https://localhost:8080/"
    },
    "id": "x9b4LOaCRuuP",
    "outputId": "739c12ce-1115-41b4-a02b-dc05f010d406",
    "slideshow": {
     "slide_type": "fragment"
    }
   },
   "outputs": [
    {
     "name": "stdout",
     "output_type": "stream",
     "text": [
      "Best at Downtown is Silver Shadow, 2 others\n",
      "Best at Airport is Skyline, 3 others\n"
     ]
    }
   ],
   "source": [
    "car_inventory = {\n",
    "    \"Downtown\": (\"Silver Shadow\", \"Pinto\", \"DMC\"),\n",
    "    \"Airport\": (\"Skyline\", \"Viper\", \"Gremlin\", \"Nova\"),\n",
    "}\n",
    "\n",
    "((loc1, (best1, *rest1)), (loc2, (best2, *rest2))) = car_inventory.items()\n",
    "print(f\"Best at {loc1} is {best1}, {len(rest1)} others\")\n",
    "print(f\"Best at {loc2} is {best2}, {len(rest2)} others\")"
   ]
  },
  {
   "cell_type": "markdown",
   "metadata": {
    "id": "ebqNepbHRuuQ",
    "slideshow": {
     "slide_type": "subslide"
    }
   },
   "source": [
    "Starred expressions become list instances in all cases. If there are no leftover items from the sequence being unpacked, the catch-all part will be an empty `list`. This is especially useful when you’re processing a sequence that you know in advance has at least $N$ elements:"
   ]
  },
  {
   "cell_type": "code",
   "execution_count": 33,
   "metadata": {
    "colab": {
     "base_uri": "https://localhost:8080/"
    },
    "id": "11xgkP_IRuuQ",
    "outputId": "187ff261-4c11-43a8-c7d0-463b6659491d",
    "slideshow": {
     "slide_type": "fragment"
    }
   },
   "outputs": [
    {
     "name": "stdout",
     "output_type": "stream",
     "text": [
      "1 2 []\n"
     ]
    }
   ],
   "source": [
    "short_list = [1, 2]\n",
    "first, second, *rest = short_list\n",
    "print(first, second, rest)"
   ]
  },
  {
   "cell_type": "markdown",
   "metadata": {
    "id": "hprifKCCRuuQ",
    "slideshow": {
     "slide_type": "subslide"
    }
   },
   "source": [
    "But with the addition of starred expressions, the value of unpacking iterators becomes clear. For example, here I have a generator that yields the rows of a CSV file containing all car orders from the dealership this week:"
   ]
  },
  {
   "cell_type": "code",
   "execution_count": 34,
   "metadata": {
    "id": "2ntdJcTORuuQ",
    "slideshow": {
     "slide_type": "fragment"
    }
   },
   "outputs": [],
   "source": [
    "def generate_csv():\n",
    "    yield (\"Date\", \"Make\", \"Model\", \"Year\", \"Price\")\n",
    "    for i in range(100):\n",
    "        yield (\"2019-03-25\", \"Honda\", \"Fit\", \"2010\", \"$3400\")\n",
    "        yield (\"2019-03-26\", \"Ford\", \"F150\", \"2008\", \"$2400\")"
   ]
  },
  {
   "cell_type": "markdown",
   "metadata": {
    "id": "jVZV42vaRuuQ",
    "slideshow": {
     "slide_type": "subslide"
    }
   },
   "source": [
    "Processing the results of this generator using indexes and slices is fine, but it requires multiple lines and is visually noisy:"
   ]
  },
  {
   "cell_type": "code",
   "execution_count": 35,
   "metadata": {
    "colab": {
     "base_uri": "https://localhost:8080/"
    },
    "id": "x9ExGOXFRuuQ",
    "outputId": "0ccdc356-df51-453f-f407-03fad0df4077",
    "slideshow": {
     "slide_type": "fragment"
    }
   },
   "outputs": [
    {
     "name": "stdout",
     "output_type": "stream",
     "text": [
      "CSV Header: ('Date', 'Make', 'Model', 'Year', 'Price')\n",
      "Row count:  200\n"
     ]
    }
   ],
   "source": [
    "all_csv_rows = list(generate_csv())\n",
    "header = all_csv_rows[0]\n",
    "rows = all_csv_rows[1:]\n",
    "print(\"CSV Header:\", header)\n",
    "print(\"Row count: \", len(rows))"
   ]
  },
  {
   "cell_type": "markdown",
   "metadata": {
    "id": "58SigvxbRuuR",
    "slideshow": {
     "slide_type": "subslide"
    }
   },
   "source": [
    "Unpacking with a starred expression makes it easy to process the first row—the header—separately from the rest of the iterator’s contents. This is much clearer:"
   ]
  },
  {
   "cell_type": "code",
   "execution_count": 36,
   "metadata": {
    "colab": {
     "base_uri": "https://localhost:8080/"
    },
    "id": "dmbMaGT3RuuR",
    "outputId": "252b6824-03f8-4c76-ec31-e42781ee82ff",
    "slideshow": {
     "slide_type": "fragment"
    }
   },
   "outputs": [
    {
     "name": "stdout",
     "output_type": "stream",
     "text": [
      "CSV Header: ('Date', 'Make', 'Model', 'Year', 'Price')\n",
      "Row count:  200\n"
     ]
    }
   ],
   "source": [
    "it = generate_csv()\n",
    "header, *rows = it\n",
    "print(\"CSV Header:\", header)\n",
    "print(\"Row count: \", len(rows))"
   ]
  },
  {
   "cell_type": "markdown",
   "metadata": {
    "id": "zmQUJ9MRRuuR",
    "slideshow": {
     "slide_type": "subslide"
    }
   },
   "source": [
    "Keep in mind, however, that because a starred expression is always turned into a list, unpacking an iterator also risks the potential of using up all of the memory on your computer and causing your program to crash. So you should only use catch-all unpacking on iterators when you have good reason to believe that the result data will all fit in memory.\n",
    "\n",
    "Finally, note that the unpacking operators `*` for `list`s and `**` for `dict`s is often used in functions. Read [this tutorial on Real Python that demystifies `*args` and `**kwargs`](https://realpython.com/python-kwargs-and-args/). Note that `args` and `kwargs` are just names that are used by convention to refer to positional arguments and keyword arguments, respectively. You could use any other name if you wanted to. The magic lies in the `*` and `**` unpacking operators, as is shown with this trick from Real Python's homepage:"
   ]
  },
  {
   "cell_type": "code",
   "execution_count": 37,
   "metadata": {
    "id": "SrO-PNLNRuuR",
    "slideshow": {
     "slide_type": "fragment"
    }
   },
   "outputs": [],
   "source": [
    "x = {\"a\": 1, \"b\": 2}\n",
    "y = {\"c\": 3, \"d\": 4}\n",
    "z = {**x, **y}"
   ]
  },
  {
   "cell_type": "markdown",
   "metadata": {
    "id": "5m_FUM6yRuuR",
    "slideshow": {
     "slide_type": "subslide"
    }
   },
   "source": [
    "When unpacking `dict`s with overlapping keys, the last value is kept:"
   ]
  },
  {
   "cell_type": "code",
   "execution_count": 38,
   "metadata": {
    "colab": {
     "base_uri": "https://localhost:8080/"
    },
    "id": "sIOalAtpRuuS",
    "outputId": "134ac7e2-200e-4ff5-fc52-7fbd83b3f2b7",
    "slideshow": {
     "slide_type": "fragment"
    }
   },
   "outputs": [
    {
     "data": {
      "text/plain": [
       "{'a': 1, 'b': 3, 'c': 4}"
      ]
     },
     "execution_count": 38,
     "metadata": {},
     "output_type": "execute_result"
    }
   ],
   "source": [
    "y = {\"b\": 3, \"c\": 4}\n",
    "{**x, **y}"
   ]
  },
  {
   "cell_type": "markdown",
   "metadata": {
    "id": "hg7SM7raRuuS",
    "slideshow": {
     "slide_type": "subslide"
    }
   },
   "source": [
    "Using `**kwargs` you can easily re-use parameters are the same for different calls to the same function:"
   ]
  },
  {
   "cell_type": "code",
   "execution_count": 39,
   "metadata": {
    "colab": {
     "base_uri": "https://localhost:8080/",
     "height": 215
    },
    "id": "g_d0p0MTRuuS",
    "outputId": "1c2cd5e0-9530-42c8-f145-c75c5a9a0b5e",
    "scrolled": true,
    "slideshow": {
     "slide_type": "fragment"
    }
   },
   "outputs": [],
   "source": [
    "import pandas as pd\n",
    "\n",
    "csv_kwargs = {\"sep\": \";\", \"encoding\": \"utf-8\"}\n",
    "ames = pd.read_csv(\n",
    "    \"https://github.com/jads-nl/discover-projects/blob/main/ames-housing/AmesHousing.csv?raw=true\",\n",
    "    **csv_kwargs\n",
    ")\n",
    "pima = pd.read_csv(\n",
    "    \"https://github.com/jads-nl/discover-projects/blob/main/pima-indians-diabetes/diabetes.csv?raw=true\",\n",
    "    **csv_kwargs\n",
    ")"
   ]
  },
  {
   "cell_type": "markdown",
   "metadata": {
    "id": "VN66zY-dRuuS",
    "slideshow": {
     "slide_type": "subslide"
    }
   },
   "source": [
    "### #9. Sort by complex criteria using the `key` parameter (EP #14)"
   ]
  },
  {
   "cell_type": "markdown",
   "metadata": {
    "id": "nYMYLlC6RuuS",
    "slideshow": {
     "slide_type": "fragment"
    }
   },
   "source": [
    "The `list` built-in type provides a sort method for ordering the items in a `list` instance based on a variety of criteria. By default, sort will order a list’s contents by the natural ascending order of the items. For example, here I sort a list of integers from smallest to largest:"
   ]
  },
  {
   "cell_type": "code",
   "execution_count": 40,
   "metadata": {
    "colab": {
     "base_uri": "https://localhost:8080/"
    },
    "id": "_CHS-OMERuuS",
    "outputId": "dfdb44b6-2bcf-4ce7-9187-0d5a1c3b1011",
    "slideshow": {
     "slide_type": "fragment"
    }
   },
   "outputs": [
    {
     "name": "stdout",
     "output_type": "stream",
     "text": [
      "[11, 68, 70, 86, 93]\n"
     ]
    }
   ],
   "source": [
    "numbers = [93, 86, 11, 68, 70]\n",
    "numbers.sort()\n",
    "print(numbers)"
   ]
  },
  {
   "cell_type": "markdown",
   "metadata": {
    "id": "y8MtRns0RuuT",
    "slideshow": {
     "slide_type": "subslide"
    }
   },
   "source": [
    "The sort method works for nearly all built-in types (strings, floats, etc.) that have a natural ordering to them. What does `sort` do with objects? Often there’s an attribute on the object that you’d like to use for sorting. To support this use case, the `sort` method accepts a key parameter that’s expected to be a function. The key function is passed a single argument, which is an item from the list that is being sorted. The return value of the key function should be a comparable value (i.e., with a natural ordering) to use in place of an item for sorting purposes.\n",
    "\n",
    "For example, here I define a `dataclass` to represent various tools. To sort a the `list` of `Tool` object alphabetically by name, I use the lambda keyword to define a function for the key parameter:"
   ]
  },
  {
   "cell_type": "code",
   "execution_count": 41,
   "metadata": {
    "id": "juyckSDoRuuT",
    "slideshow": {
     "slide_type": "fragment"
    }
   },
   "outputs": [],
   "source": [
    "from dataclasses import dataclass\n",
    "\n",
    "\n",
    "@dataclass\n",
    "class Tool:\n",
    "    name: str\n",
    "    weight: float\n",
    "\n",
    "\n",
    "tools = [\n",
    "    Tool(\"level\", 3.5),\n",
    "    Tool(\"hammer\", 1.25),\n",
    "    Tool(\"screwdriver\", 0.5),\n",
    "    Tool(\"chisel\", 0.25),\n",
    "]"
   ]
  },
  {
   "cell_type": "code",
   "execution_count": 42,
   "metadata": {
    "colab": {
     "base_uri": "https://localhost:8080/"
    },
    "id": "RVlAQF0mRuuT",
    "outputId": "cf1fcb39-dd93-4b4c-911c-b145b6127fde",
    "slideshow": {
     "slide_type": "fragment"
    }
   },
   "outputs": [
    {
     "name": "stdout",
     "output_type": "stream",
     "text": [
      "\n",
      "Unsorted:\n",
      " [Tool(name='level', weight=3.5), Tool(name='hammer', weight=1.25), Tool(name='screwdriver', weight=0.5), Tool(name='chisel', weight=0.25)]\n",
      "\n",
      "Sorted:\n",
      " [Tool(name='chisel', weight=0.25), Tool(name='hammer', weight=1.25), Tool(name='level', weight=3.5), Tool(name='screwdriver', weight=0.5)]\n"
     ]
    }
   ],
   "source": [
    "print(\"\\nUnsorted:\\n\", tools)\n",
    "tools.sort(key=lambda x: x.name)\n",
    "print(\"\\nSorted:\\n\", tools)"
   ]
  },
  {
   "cell_type": "markdown",
   "metadata": {
    "id": "r0QeAP5xRuuT",
    "slideshow": {
     "slide_type": "subslide"
    }
   },
   "source": [
    "I can just as easily define another lambda function to sort by weight and pass it as the key parameter to the sort method:"
   ]
  },
  {
   "cell_type": "code",
   "execution_count": 43,
   "metadata": {
    "colab": {
     "base_uri": "https://localhost:8080/"
    },
    "id": "U7fPNhvlRuuT",
    "outputId": "e40ce7d0-6282-4695-e38e-66a915611b33",
    "slideshow": {
     "slide_type": "fragment"
    }
   },
   "outputs": [
    {
     "name": "stdout",
     "output_type": "stream",
     "text": [
      "\n",
      "By weight:\n",
      " [Tool(name='chisel', weight=0.25), Tool(name='screwdriver', weight=0.5), Tool(name='hammer', weight=1.25), Tool(name='level', weight=3.5)]\n"
     ]
    }
   ],
   "source": [
    "tools.sort(key=lambda x: x.weight)\n",
    "print(\"\\nBy weight:\\n\", tools)"
   ]
  },
  {
   "cell_type": "markdown",
   "metadata": {
    "id": "cyKOSv8lRuuT",
    "slideshow": {
     "slide_type": "subslide"
    }
   },
   "source": [
    "Within the lambda function passed as the key parameter you can access attributes of items as I’ve done here, index into items (for sequences, tuples, and dictionaries), or use any other valid expression.\n",
    "\n",
    "For basic types like strings, you may even want to use the key function to do transformations on the values before sorting. For example, here I apply the `lower` method to each item in a `list` of place names to ensure that they’re in alphabetical order, ignoring any capitalization (since in the natural lexical ordering of strings, capital letters come before lowercase letters):"
   ]
  },
  {
   "cell_type": "code",
   "execution_count": 44,
   "metadata": {
    "colab": {
     "base_uri": "https://localhost:8080/"
    },
    "id": "O3HedP6ARuuT",
    "outputId": "d65faf29-7155-4aa5-91e8-9d6e34884868",
    "slideshow": {
     "slide_type": "fragment"
    }
   },
   "outputs": [
    {
     "name": "stdout",
     "output_type": "stream",
     "text": [
      "Case sensitive:  ['New York', 'Paris', 'home', 'work']\n",
      "Case insensitive: ['home', 'New York', 'Paris', 'work']\n"
     ]
    }
   ],
   "source": [
    "places = [\"home\", \"work\", \"New York\", \"Paris\"]\n",
    "places.sort()\n",
    "print(\"Case sensitive: \", places)\n",
    "places.sort(key=lambda x: x.lower())\n",
    "print(\"Case insensitive:\", places)"
   ]
  },
  {
   "cell_type": "markdown",
   "metadata": {
    "id": "6HDAyETARuuT",
    "slideshow": {
     "slide_type": "subslide"
    }
   },
   "source": [
    "Sometimes you may need to use multiple criteria for sorting. For example, say that I have a list of power tools and I want to sort them first by weight and then by name. How can I accomplish this?"
   ]
  },
  {
   "cell_type": "code",
   "execution_count": 45,
   "metadata": {
    "id": "9qicLE0TRuuU",
    "slideshow": {
     "slide_type": "fragment"
    }
   },
   "outputs": [],
   "source": [
    "power_tools = [\n",
    "    Tool(\"drill\", 4),\n",
    "    Tool(\"circular saw\", 5),\n",
    "    Tool(\"jackhammer\", 40),\n",
    "    Tool(\"sander\", 4),\n",
    "]"
   ]
  },
  {
   "cell_type": "markdown",
   "metadata": {
    "id": "hfu0qWMbRuuU",
    "slideshow": {
     "slide_type": "subslide"
    }
   },
   "source": [
    "The simplest solution in Python is to use the `tuple` type. Tuples are immutable sequences of arbitrary Python values. Tuples are comparable by default and have a natural ordering, meaning that they implement all of the special methods, such as `__lt__`, that are required by the `sort` method. Tuples implement these special method comparators by iterating over each position in the tuple and comparing the corresponding values one index at a time. Here, I show how this works when one tool is heavier than another:"
   ]
  },
  {
   "cell_type": "code",
   "execution_count": 46,
   "metadata": {
    "colab": {
     "base_uri": "https://localhost:8080/"
    },
    "id": "KsngFYYERuuU",
    "outputId": "75c551c8-6635-402e-d7e9-76d6af8b26f2",
    "slideshow": {
     "slide_type": "fragment"
    }
   },
   "outputs": [
    {
     "data": {
      "text/plain": [
       "False"
      ]
     },
     "execution_count": 46,
     "metadata": {},
     "output_type": "execute_result"
    }
   ],
   "source": [
    "saw = (5, \"circular saw\")\n",
    "jackhammer = (40, \"jackhammer\")\n",
    "(jackhammer < saw)  # False"
   ]
  },
  {
   "cell_type": "markdown",
   "metadata": {
    "id": "5dsdT19PRuuU",
    "slideshow": {
     "slide_type": "subslide"
    }
   },
   "source": [
    "If the first position in the tuples being compared are equal—weight in this case—then the `tuple` comparison will move on to the second position, and so on. You can take advantage of this `tupl`e comparison behavior in order to sort the `list` of power tools first by weight and then by name. Here, I define a `key` function that returns a tuple containing the two attributes that I want to sort on in order of priority:"
   ]
  },
  {
   "cell_type": "code",
   "execution_count": 47,
   "metadata": {
    "colab": {
     "base_uri": "https://localhost:8080/"
    },
    "id": "e3taNDd2RuuU",
    "outputId": "82e0928e-3a56-48e9-87ea-01acf5360616",
    "slideshow": {
     "slide_type": "fragment"
    }
   },
   "outputs": [
    {
     "name": "stdout",
     "output_type": "stream",
     "text": [
      "[Tool(name='drill', weight=4), Tool(name='sander', weight=4), Tool(name='circular saw', weight=5), Tool(name='jackhammer', weight=40)]\n"
     ]
    }
   ],
   "source": [
    "power_tools.sort(key=lambda x: (x.weight, x.name))\n",
    "print(power_tools)"
   ]
  },
  {
   "cell_type": "markdown",
   "metadata": {
    "id": "uJEcNaSqRuuU",
    "slideshow": {
     "slide_type": "subslide"
    }
   },
   "source": [
    "One limitation of having the `key` function return a `tuple` is that the direction of sorting for all criteria must be the same (either all in ascending order, or all in descending order). If I provide the `reverse` parameter to the `sort` method, it will affect both criteria in the `tuple` the same way (note how '`sander'` now comes before `'drill'` instead of after):"
   ]
  },
  {
   "cell_type": "code",
   "execution_count": 48,
   "metadata": {
    "colab": {
     "base_uri": "https://localhost:8080/"
    },
    "id": "cPSsPWARRuuV",
    "outputId": "1c344299-c69f-46ac-f83d-0705b0b721bc",
    "slideshow": {
     "slide_type": "fragment"
    }
   },
   "outputs": [
    {
     "name": "stdout",
     "output_type": "stream",
     "text": [
      "[Tool(name='jackhammer', weight=40), Tool(name='circular saw', weight=5), Tool(name='sander', weight=4), Tool(name='drill', weight=4)]\n"
     ]
    }
   ],
   "source": [
    "power_tools.sort(\n",
    "    key=lambda x: (x.weight, x.name), reverse=True\n",
    ")  # Makes all criteria descending\n",
    "print(power_tools)"
   ]
  },
  {
   "cell_type": "markdown",
   "metadata": {
    "id": "ikhm08p7RuuV",
    "slideshow": {
     "slide_type": "subslide"
    }
   },
   "source": [
    "For situations where you do want to have different sorting orders, Python provides a _stable_ sorting algorithm. The `sort` method of the list type will preserve the order of the input list when the `key` function returns values that are equal to each other. This means that I can call `sort` multiple times on the same `list` to combine different criteria together. Here, I produce the same sort ordering of `weight` descending and `name`b ascending as I did above but by using two separate calls to sort:"
   ]
  },
  {
   "cell_type": "code",
   "execution_count": 49,
   "metadata": {
    "colab": {
     "base_uri": "https://localhost:8080/"
    },
    "id": "ZwDuopijRuuV",
    "outputId": "3eacf1d8-dcd2-4f61-80d1-df014c5b5237",
    "slideshow": {
     "slide_type": "fragment"
    }
   },
   "outputs": [
    {
     "name": "stdout",
     "output_type": "stream",
     "text": [
      "[Tool(name='jackhammer', weight=40), Tool(name='circular saw', weight=5), Tool(name='drill', weight=4), Tool(name='sander', weight=4)]\n"
     ]
    }
   ],
   "source": [
    "power_tools.sort(key=lambda x: x.name)  # Name ascending\n",
    "power_tools.sort(key=lambda x: x.weight, reverse=True)  # Weight descending\n",
    "print(power_tools)"
   ]
  },
  {
   "cell_type": "markdown",
   "metadata": {
    "id": "2Xu797DFRuuV",
    "slideshow": {
     "slide_type": "subslide"
    }
   },
   "source": [
    "This same approach can be used to combine as many different types of sorting criteria as you’d like in any direction, respectively. You just need to make sure that you execute the sorts in the opposite sequence of what you want the final `list` to contain. In this example, I wanted the sort order to be by `weight` descending and then by `name` ascending, so I had to do the `name` sort first, followed by the `weight` sort.\n",
    "\n",
    "That said, the approach of having the key function return a tuple, and using unary negation to mix sort orders for numbers, is simpler to read and requires less code. I recommend only using multiple calls to sort if it’s absolutely necessary."
   ]
  },
  {
   "cell_type": "markdown",
   "metadata": {
    "id": "y8LBIeEeRuuV",
    "slideshow": {
     "slide_type": "subslide"
    }
   },
   "source": [
    "<a id='item10'></a>\n",
    "### #10. Prefer `get` over `in` and `KeyError` to handle missing dictionairy keys (EP 16)\n",
    "\n",
    "The three fundamental operations for interacting with dictionaries are accessing, assigning, and deleting keys and their associated values. The contents of dictionaries are dynamic, and thus it’s entirely possible—even likely—that when you try to access or delete a key, it won’t already be present.\n",
    "\n",
    "For example, say that I’m trying to determine people’s favorite type of bread to devise the menu for a sandwich shop. Here, I define a dictionary of counters with the current votes for each style:"
   ]
  },
  {
   "cell_type": "code",
   "execution_count": 50,
   "metadata": {
    "id": "H-OdaJ_HRuuV",
    "slideshow": {
     "slide_type": "fragment"
    }
   },
   "outputs": [],
   "source": [
    "counters = {\n",
    "    \"pumpernickel\": 2,\n",
    "    \"sourdough\": 1,\n",
    "}"
   ]
  },
  {
   "cell_type": "markdown",
   "metadata": {
    "id": "cGNnSBEgRuuV",
    "slideshow": {
     "slide_type": "subslide"
    }
   },
   "source": [
    "To increment the counter for a new vote, I need to see if the key exists, insert the key with a default counter value of zero if it’s missing, and then increment the counter’s value. This requires accessing the key two times and assigning it once. Here, I accomplish this task using an `if` statement with an `in` expression that returns `True` when the key is present:"
   ]
  },
  {
   "cell_type": "code",
   "execution_count": 51,
   "metadata": {
    "id": "ODugUJ6rRuuW",
    "slideshow": {
     "slide_type": "fragment"
    }
   },
   "outputs": [],
   "source": [
    "key = \"wheat\"\n",
    "\n",
    "if key in counters:\n",
    "    count = counters[key]\n",
    "else:\n",
    "    count = 0\n",
    "\n",
    "counters[key] = count + 1"
   ]
  },
  {
   "cell_type": "markdown",
   "metadata": {
    "id": "OGnRjQ8IRuuW",
    "slideshow": {
     "slide_type": "subslide"
    }
   },
   "source": [
    "Another way to accomplish the same behavior is by relying on how dictionaries raise a `KeyError` exception when you try to get the value for a key that doesn’t exist. This approach is more efficient because it requires only one access and one assignment:"
   ]
  },
  {
   "cell_type": "code",
   "execution_count": 52,
   "metadata": {
    "id": "Nz3tHUqVRuuW",
    "slideshow": {
     "slide_type": "fragment"
    }
   },
   "outputs": [],
   "source": [
    "try:\n",
    "    count = counters[key]\n",
    "except KeyError:\n",
    "    count = 0\n",
    "\n",
    "counters[key] = count + 1"
   ]
  },
  {
   "cell_type": "markdown",
   "metadata": {
    "id": "r2sltsVTRuuW",
    "slideshow": {
     "slide_type": "subslide"
    }
   },
   "source": [
    "This flow of fetching a key that exists or returning a default value is so common that the dict built-in type provides the `get` method to accomplish this task. The second parameter to `get` is the default value to return in the case that the key—the first parameter—isn’t present. This also requires only one access and one assignment, but it’s much shorter than the `KeyError` example:"
   ]
  },
  {
   "cell_type": "code",
   "execution_count": 53,
   "metadata": {
    "id": "Tz5A5cyjRuuW",
    "slideshow": {
     "slide_type": "fragment"
    }
   },
   "outputs": [],
   "source": [
    "count = counters.get(key, 0)\n",
    "counters[key] = count + 1"
   ]
  },
  {
   "cell_type": "markdown",
   "metadata": {
    "id": "Uq5PDq5NRuuW",
    "slideshow": {
     "slide_type": "subslide"
    }
   },
   "source": [
    "Thus, for a dictionary with simple types, using the `get` method is the shortest and clearest option.\n",
    "\n",
    "> Note: ff you’re maintaining dictionaries of counters like this, it’s worth considering the Counter class from the collections built-in module, which provides most of the facilities you are likely to need.\n",
    "\n",
    "What if the values of the dictionary are a more complex type, like a `list`? For example, say that instead of only counting votes, I also want to know who voted for each type of bread. Here, I do this by associating a list of names with each key:"
   ]
  },
  {
   "cell_type": "code",
   "execution_count": 54,
   "metadata": {
    "id": "D4uiV-BbRuuW",
    "slideshow": {
     "slide_type": "fragment"
    }
   },
   "outputs": [],
   "source": [
    "votes = {\n",
    "    \"baguette\": [\"Bob\", \"Alice\"],\n",
    "    \"ciabatta\": [\"Coco\", \"Deb\"],\n",
    "}\n",
    "key = \"brioche\"\n",
    "who = \"Elmer\""
   ]
  },
  {
   "cell_type": "markdown",
   "metadata": {
    "id": "kQCVEzrnRuuX",
    "slideshow": {
     "slide_type": "subslide"
    }
   },
   "source": [
    "Similarly, you can use the get method to fetch a list value when the key is present, or do one fetch and one assignment if the key isn’t present:"
   ]
  },
  {
   "cell_type": "code",
   "execution_count": 55,
   "metadata": {
    "colab": {
     "base_uri": "https://localhost:8080/"
    },
    "id": "iiozZKJQRuuX",
    "outputId": "e4f7fb29-8ad9-46b6-adab-aece6f03670d",
    "slideshow": {
     "slide_type": "fragment"
    }
   },
   "outputs": [
    {
     "name": "stdout",
     "output_type": "stream",
     "text": [
      "{'baguette': ['Bob', 'Alice'], 'ciabatta': ['Coco', 'Deb'], 'brioche': ['Elmer']}\n"
     ]
    }
   ],
   "source": [
    "names = votes.get(key)\n",
    "if names is None:\n",
    "    votes[key] = names = []\n",
    "names.append(who)\n",
    "print(votes)"
   ]
  },
  {
   "cell_type": "markdown",
   "metadata": {
    "id": "NMd_un6LRuuX",
    "slideshow": {
     "slide_type": "subslide"
    }
   },
   "source": [
    "The approach that involves using `get` to fetch list values can further be shortened by one line if you use an assignment expression with the walrus operator which was introduced in Python 3.8. [Read more about that on Real Python](https://realpython.com/python38-new-features/#the-walrus-in-the-room-assignment-expressions). For now, we will just leave you with the example:"
   ]
  },
  {
   "cell_type": "code",
   "execution_count": 56,
   "metadata": {
    "colab": {
     "base_uri": "https://localhost:8080/",
     "height": 130
    },
    "id": "dUuA2D8qRuuX",
    "outputId": "493463fd-69d6-42e4-d647-38e6add60f99",
    "slideshow": {
     "slide_type": "fragment"
    }
   },
   "outputs": [
    {
     "name": "stdout",
     "output_type": "stream",
     "text": [
      "{'baguette': ['Bob', 'Alice'], 'ciabatta': ['Coco', 'Deb'], 'brioche': ['Elmer', 'Elmer']}\n"
     ]
    }
   ],
   "source": [
    "# note: this will throw error on Google Colab, which is Python 3.6\n",
    "if (names := votes.get(key)) is None:\n",
    "    votes[key] = names = []\n",
    "names.append(who)\n",
    "print(votes)"
   ]
  },
  {
   "cell_type": "markdown",
   "metadata": {
    "id": "jL3DskSvRuuX",
    "slideshow": {
     "slide_type": "slide"
    }
   },
   "source": [
    "## Functions"
   ]
  },
  {
   "cell_type": "markdown",
   "metadata": {
    "id": "egBK-hArRuuX",
    "slideshow": {
     "slide_type": "subslide"
    }
   },
   "source": [
    "<a id='item11'></a>\n",
    "### #11. Never unpack more than three variables when functions return multiple values (EP #19)\n",
    "\n",
    "One effect of the unpacking syntax (see [item 4](#item4)) is that it allows Python functions to seemingly return more than one value. For example, say that I’m trying to determine various statistics for a population of alligators. Given a list of lengths, I need to calculate the minimum and maximum lengths in the population. Here, I do this in a single function that appears to return two values:"
   ]
  },
  {
   "cell_type": "code",
   "execution_count": 57,
   "metadata": {
    "colab": {
     "base_uri": "https://localhost:8080/"
    },
    "id": "W2umT134RuuY",
    "outputId": "70dfdc2f-fe8e-4df1-8b36-1648ea7c0328",
    "slideshow": {
     "slide_type": "fragment"
    }
   },
   "outputs": [
    {
     "name": "stdout",
     "output_type": "stream",
     "text": [
      "Min: 60, Max: 73\n"
     ]
    }
   ],
   "source": [
    "def get_stats(numbers):\n",
    "    minimum = min(numbers)\n",
    "    maximum = max(numbers)\n",
    "    return minimum, maximum\n",
    "\n",
    "\n",
    "lengths = [63, 73, 72, 60, 67, 66, 71, 61, 72, 70]\n",
    "minimum, maximum = get_stats(lengths)  # Two return values\n",
    "print(f\"Min: {minimum}, Max: {maximum}\")"
   ]
  },
  {
   "cell_type": "markdown",
   "metadata": {
    "id": "8JPaqPKvRuuY",
    "slideshow": {
     "slide_type": "subslide"
    }
   },
   "source": [
    "The way this works is that multiple values are returned together in a two-item tuple. The calling code then unpacks the returned tuple by assigning two variables. Here, I use an even simpler example to show how an unpacking statement and multiple-return function work the same way:"
   ]
  },
  {
   "cell_type": "code",
   "execution_count": 58,
   "metadata": {
    "id": "H5JUeLR1RuuY",
    "slideshow": {
     "slide_type": "fragment"
    }
   },
   "outputs": [],
   "source": [
    "first, second = 1, 2\n",
    "assert first == 1\n",
    "assert second == 2\n",
    "\n",
    "\n",
    "def my_function():\n",
    "    return [1, 2]\n",
    "\n",
    "\n",
    "first, second = my_function()\n",
    "assert first == 1\n",
    "assert second == 2"
   ]
  },
  {
   "cell_type": "code",
   "execution_count": 59,
   "metadata": {},
   "outputs": [],
   "source": [
    "_, second = my_function()\n"
   ]
  },
  {
   "cell_type": "markdown",
   "metadata": {
    "id": "yesn-tMHRuuY",
    "slideshow": {
     "slide_type": "subslide"
    }
   },
   "source": [
    "Multiple return values can also be received by starred expressions for catch-all unpacking. For example, say I need another function that calculates how big each alligator is relative to the population average. This function returns a list of ratios, but I can receive the longest and shortest items individually by using a starred expression for the middle portion of the list:"
   ]
  },
  {
   "cell_type": "code",
   "execution_count": 60,
   "metadata": {
    "colab": {
     "base_uri": "https://localhost:8080/"
    },
    "id": "To4P8hstRuuY",
    "outputId": "b561565c-ebd9-40e8-a1ab-e5bab78a03c0",
    "slideshow": {
     "slide_type": "fragment"
    }
   },
   "outputs": [
    {
     "name": "stdout",
     "output_type": "stream",
     "text": [
      "Longest: 108%\n",
      "Shortest:  89%\n"
     ]
    }
   ],
   "source": [
    "def get_avg_ratio(numbers):\n",
    "    average = sum(numbers) / len(numbers)\n",
    "    scaled = [x / average for x in numbers]\n",
    "    scaled.sort(reverse=True)\n",
    "    return scaled\n",
    "\n",
    "\n",
    "longest, *middle, shortest = get_avg_ratio(lengths)\n",
    "print(f\"Longest: {longest:>4.0%}\")\n",
    "print(f\"Shortest: {shortest:>4.0%}\")"
   ]
  },
  {
   "cell_type": "markdown",
   "metadata": {
    "id": "qSGms7eURuuY",
    "slideshow": {
     "slide_type": "subslide"
    }
   },
   "source": [
    "Now, imagine that the program’s requirements change, and I need to also determine the average length, median length, and total population size of the alligators. I can do this by expanding the `get_stats` function to also calculate these statistics and return them in the result tuple that is unpacked by the caller:"
   ]
  },
  {
   "cell_type": "code",
   "execution_count": 61,
   "metadata": {
    "colab": {
     "base_uri": "https://localhost:8080/"
    },
    "id": "tVb0vzHJRuuY",
    "outputId": "b9a5a4ae-d882-4dbe-bd62-c79d342d6c96",
    "slideshow": {
     "slide_type": "fragment"
    }
   },
   "outputs": [
    {
     "name": "stdout",
     "output_type": "stream",
     "text": [
      "Min: 60, Max: 73\n",
      "Average: 67.5, Median: 68.5, Count 10\n"
     ]
    }
   ],
   "source": [
    "def get_stats(numbers):\n",
    "    minimum = min(numbers)\n",
    "    maximum = max(numbers)\n",
    "    count = len(numbers)\n",
    "    average = sum(numbers) / count\n",
    "\n",
    "    sorted_numbers = sorted(numbers)\n",
    "    middle = count // 2\n",
    "    if count % 2 == 0:\n",
    "        lower = sorted_numbers[middle - 1]\n",
    "        upper = sorted_numbers[middle]\n",
    "        median = (lower + upper) / 2\n",
    "    else:\n",
    "        median = sorted_numbers[middle]\n",
    "\n",
    "    return minimum, maximum, average, median, count\n",
    "\n",
    "\n",
    "minimum, maximum, average, median, count = get_stats(lengths)\n",
    "\n",
    "print(f\"Min: {minimum}, Max: {maximum}\")\n",
    "print(f\"Average: {average}, Median: {median}, Count {count}\")\n",
    "\n",
    "assert minimum == 60\n",
    "assert maximum == 73\n",
    "assert average == 67.5\n",
    "assert median == 68.5\n",
    "assert count == 10"
   ]
  },
  {
   "cell_type": "markdown",
   "metadata": {
    "id": "gMuvpbDNRuuZ",
    "slideshow": {
     "slide_type": "subslide"
    }
   },
   "source": [
    "There are two problems with this code. First, all the return values are numeric, so it is all too easy to reorder them accidentally (e.g., swapping average and median), which can cause bugs that are hard to spot later. Using a large number of return values is extremely error prone.\n",
    "\n",
    "Second, the line that calls the function and unpacks the values is long, and it likely will need to be wrapped in one of a variety of ways, which hurts readability.\n",
    "\n",
    "To avoid these problems, you should never use more than three variables when unpacking the multiple return values from a function. These could be individual values from a three-tuple, two variables and one catch-all starred expression, or anything shorter. If you need to unpack more return values than that, you’re better off defining a `dataclass` or `namedtuple` and having your function return an instance of that instead."
   ]
  },
  {
   "cell_type": "markdown",
   "metadata": {
    "id": "kazDsKVsRuuZ",
    "slideshow": {
     "slide_type": "subslide"
    }
   },
   "source": [
    "### #12. Use `None` and docstrings to specify dynamic default arguments (EP #24)\n",
    "\n",
    "Sometimes you need to use a non-static type as a keyword argument’s default value. For example, say that I want to load a value encoded as JSON data; if decoding the data fails, I want an empty dictionary to be returned by default:"
   ]
  },
  {
   "cell_type": "code",
   "execution_count": 62,
   "metadata": {
    "id": "BWR_NZ2MRuuZ",
    "slideshow": {
     "slide_type": "fragment"
    }
   },
   "outputs": [],
   "source": [
    "import json\n",
    "\n",
    "\n",
    "def decode(data, default={}):\n",
    "    try:\n",
    "        return json.loads(data)\n",
    "    except ValueError:\n",
    "        return default"
   ]
  },
  {
   "cell_type": "markdown",
   "metadata": {
    "id": "iD6Kpp3kRuuZ",
    "slideshow": {
     "slide_type": "subslide"
    }
   },
   "source": [
    "The problem here is that dictionary specified for `default` will be shared by all calls to `decode` because default argument values are evaluated only once (at module load time). This can cause extremely surprising behavior:"
   ]
  },
  {
   "cell_type": "code",
   "execution_count": 63,
   "metadata": {
    "colab": {
     "base_uri": "https://localhost:8080/"
    },
    "id": "6gqIbqR8RuuZ",
    "outputId": "d0c66654-0f42-4032-ed9d-c18fe7686d53",
    "slideshow": {
     "slide_type": "fragment"
    }
   },
   "outputs": [
    {
     "name": "stdout",
     "output_type": "stream",
     "text": [
      "Foo: {'stuff': 5, 'meep': 1}\n",
      "Bar: {'stuff': 5, 'meep': 1}\n"
     ]
    }
   ],
   "source": [
    "foo = decode(\"bad data\")\n",
    "foo[\"stuff\"] = 5\n",
    "bar = decode(\"also bad\")\n",
    "bar[\"meep\"] = 1\n",
    "print(\"Foo:\", foo)\n",
    "print(\"Bar:\", bar)"
   ]
  },
  {
   "cell_type": "markdown",
   "metadata": {
    "id": "frq4WIcURuuZ",
    "slideshow": {
     "slide_type": "subslide"
    }
   },
   "source": [
    "You might expect two different dictionaries, each with a single key and value. But modifying one seems to also modify the other. The culprit is that `foo` and `bar` are both equal to the default parameter. They are the same dictionary object:"
   ]
  },
  {
   "cell_type": "code",
   "execution_count": 64,
   "metadata": {
    "colab": {
     "base_uri": "https://localhost:8080/"
    },
    "id": "uOPgvHdmRuua",
    "outputId": "ed21d873-d612-4383-9273-8ae6b85caeca",
    "slideshow": {
     "slide_type": "fragment"
    }
   },
   "outputs": [
    {
     "data": {
      "text/plain": [
       "True"
      ]
     },
     "execution_count": 64,
     "metadata": {},
     "output_type": "execute_result"
    }
   ],
   "source": [
    "foo is bar"
   ]
  },
  {
   "cell_type": "markdown",
   "metadata": {
    "id": "l7YTq2QnRuua",
    "slideshow": {
     "slide_type": "subslide"
    }
   },
   "source": [
    "The fix is to set the keyword argument default value to None and then document the behavior in the function’s docstring:"
   ]
  },
  {
   "cell_type": "code",
   "execution_count": 65,
   "metadata": {
    "id": "oqe297qWRuua",
    "slideshow": {
     "slide_type": "fragment"
    }
   },
   "outputs": [],
   "source": [
    "def decode(data, default=None):\n",
    "    \"\"\"Load JSON data from a string.\n",
    "\n",
    "    Args:\n",
    "         data: JSON data to decode.\n",
    "         default: Value to return if decoding fails.\n",
    "             Defaults to an empty dictionary.\n",
    "    \"\"\"\n",
    "    try:\n",
    "        return json.loads(data)\n",
    "    except ValueError:\n",
    "        if default is None:\n",
    "            default = {}\n",
    "    return default"
   ]
  },
  {
   "cell_type": "markdown",
   "metadata": {
    "id": "x58W6BDuRuua",
    "slideshow": {
     "slide_type": "subslide"
    }
   },
   "source": [
    "Now, running the same test code as before produces the expected result:"
   ]
  },
  {
   "cell_type": "code",
   "execution_count": 66,
   "metadata": {
    "colab": {
     "base_uri": "https://localhost:8080/"
    },
    "id": "Bt9un4sSRuua",
    "outputId": "68580dd6-6630-40b3-c720-34f1f29c10f9",
    "slideshow": {
     "slide_type": "fragment"
    }
   },
   "outputs": [
    {
     "name": "stdout",
     "output_type": "stream",
     "text": [
      "Foo: {'stuff': 5}\n",
      "Bar: {'meep': 1}\n"
     ]
    }
   ],
   "source": [
    "foo = decode(\"bad data\")\n",
    "foo[\"stuff\"] = 5\n",
    "bar = decode(\"also bad\")\n",
    "bar[\"meep\"] = 1\n",
    "print(\"Foo:\", foo)\n",
    "print(\"Bar:\", bar)"
   ]
  },
  {
   "cell_type": "code",
   "execution_count": 67,
   "metadata": {
    "colab": {
     "base_uri": "https://localhost:8080/"
    },
    "id": "MZCDxY9uRuub",
    "outputId": "ccc24cbf-21df-4e10-bc49-2d967f4c7540",
    "slideshow": {
     "slide_type": "subslide"
    }
   },
   "outputs": [
    {
     "data": {
      "text/plain": [
       "True"
      ]
     },
     "execution_count": 67,
     "metadata": {},
     "output_type": "execute_result"
    }
   ],
   "source": [
    "foo is not bar"
   ]
  },
  {
   "cell_type": "markdown",
   "metadata": {
    "id": "HzfcexlERuub",
    "slideshow": {
     "slide_type": "fragment"
    }
   },
   "source": [
    "So remember:\n",
    "- A default argument value is evaluated only once: during function definition at module load time. This can cause odd behaviors for dynamic values (like `{}`, `[]`, or `datetime.now()`).\n",
    "- Use `None` as the default value for any keyword argument that has a dynamic value. Document the actual default behavior in the function’s docstring."
   ]
  },
  {
   "cell_type": "markdown",
   "metadata": {
    "id": "t2TRM5ZaRuub",
    "slideshow": {
     "slide_type": "slide"
    }
   },
   "source": [
    "## Comprehensions"
   ]
  },
  {
   "cell_type": "markdown",
   "metadata": {
    "id": "lzjx-C7BRuub",
    "slideshow": {
     "slide_type": "subslide"
    }
   },
   "source": [
    "<a id='item13'></a>\n",
    "### #13. Use comprehensions instead of `map` and `filter` (EP #27)"
   ]
  },
  {
   "cell_type": "markdown",
   "metadata": {
    "id": "C5JjodlaRuub",
    "slideshow": {
     "slide_type": "fragment"
    }
   },
   "source": [
    "Python provides compact syntax for deriving a new `list` from another sequence or iterable. These expressions are called list comprehensions. For example, say that I want to compute the square of each number in a `list`. Here, I do this by using a simple `for` loop:"
   ]
  },
  {
   "cell_type": "code",
   "execution_count": 68,
   "metadata": {
    "colab": {
     "base_uri": "https://localhost:8080/"
    },
    "id": "6rGK9CbzRuub",
    "outputId": "741c9ef1-a741-45a1-e652-2cfd14a125a0",
    "slideshow": {
     "slide_type": "fragment"
    }
   },
   "outputs": [
    {
     "name": "stdout",
     "output_type": "stream",
     "text": [
      "[1, 4, 9, 16, 25, 36, 49, 64, 81, 100]\n"
     ]
    }
   ],
   "source": [
    "a = [1, 2, 3, 4, 5, 6, 7, 8, 9, 10]\n",
    "squares = []\n",
    "for x in a:\n",
    "    squares.append(x ** 2)\n",
    "print(squares)"
   ]
  },
  {
   "cell_type": "markdown",
   "metadata": {
    "id": "R0xfVPzDRuuc",
    "slideshow": {
     "slide_type": "subslide"
    }
   },
   "source": [
    "With a list comprehension, I can achieve the same outcome by specifying the expression for my computation along with the input sequence to loop over:"
   ]
  },
  {
   "cell_type": "code",
   "execution_count": 69,
   "metadata": {
    "colab": {
     "base_uri": "https://localhost:8080/"
    },
    "id": "fcutCiDhRuuc",
    "outputId": "a32a4c6f-e578-4cb3-9ff9-ffe68a6e44ec",
    "slideshow": {
     "slide_type": "fragment"
    }
   },
   "outputs": [
    {
     "name": "stdout",
     "output_type": "stream",
     "text": [
      "[1, 4, 9, 16, 25, 36, 49, 64, 81, 100]\n"
     ]
    }
   ],
   "source": [
    "squares = [x ** 2 for x in a]  # List comprehension\n",
    "print(squares)"
   ]
  },
  {
   "cell_type": "markdown",
   "metadata": {
    "id": "1J0dBmqbRuuc",
    "slideshow": {
     "slide_type": "subslide"
    }
   },
   "source": [
    "Unless you’re applying a single-argument function, list comprehensions are also clearer than the `map` built-in function for simple cases. `map` requires the creation of a lambda function for the computation, which is visually noisy:"
   ]
  },
  {
   "cell_type": "code",
   "execution_count": 70,
   "metadata": {
    "id": "oaLl7rQ0Ruuc",
    "slideshow": {
     "slide_type": "fragment"
    }
   },
   "outputs": [],
   "source": [
    "alt = map(lambda x: x ** 2, a)"
   ]
  },
  {
   "cell_type": "markdown",
   "metadata": {
    "id": "Ch2V9JhkRuuc",
    "slideshow": {
     "slide_type": "subslide"
    }
   },
   "source": [
    "Unlike `map`, list comprehensions let you easily filter items from the input list, removing corresponding outputs from the result. For example, say I want to compute the squares of the numbers that are divisible by 2. Here, I do this by adding a conditional expression to the list comprehension after the loop:"
   ]
  },
  {
   "cell_type": "code",
   "execution_count": 71,
   "metadata": {
    "colab": {
     "base_uri": "https://localhost:8080/"
    },
    "id": "kHcpKg2lRuuc",
    "outputId": "c3c7d737-79f4-46e7-b528-4247c93dae62",
    "slideshow": {
     "slide_type": "fragment"
    }
   },
   "outputs": [
    {
     "name": "stdout",
     "output_type": "stream",
     "text": [
      "[4, 16, 36, 64, 100]\n"
     ]
    }
   ],
   "source": [
    "even_squares = [x ** 2 for x in a if x % 2 == 0]\n",
    "print(even_squares)"
   ]
  },
  {
   "cell_type": "markdown",
   "metadata": {
    "id": "vcB_Wrt-Ruuc",
    "slideshow": {
     "slide_type": "subslide"
    }
   },
   "source": [
    "The `filter` built-in function can be used along with map to achieve the same outcome, but it is much harder to read:"
   ]
  },
  {
   "cell_type": "code",
   "execution_count": 72,
   "metadata": {
    "id": "Nxz36g9pRuud",
    "slideshow": {
     "slide_type": "fragment"
    }
   },
   "outputs": [],
   "source": [
    "alt = map(lambda x: x ** 2, filter(lambda x: x % 2 == 0, a))\n",
    "assert even_squares == list(alt)"
   ]
  },
  {
   "cell_type": "markdown",
   "metadata": {
    "id": "TbI2Fi6KRuud",
    "slideshow": {
     "slide_type": "subslide"
    }
   },
   "source": [
    "Dictionaries and sets have their own equivalents of list comprehensions (called _dictionary comprehensions_ and _set comprehensions_, respectively). These make it easy to create other types of derivative data structures when writing algorithms:"
   ]
  },
  {
   "cell_type": "code",
   "execution_count": 73,
   "metadata": {
    "colab": {
     "base_uri": "https://localhost:8080/"
    },
    "id": "-TfPgQM-Ruud",
    "outputId": "a55daf79-f7d4-4e39-b2d0-9383c92e7edd",
    "slideshow": {
     "slide_type": "fragment"
    }
   },
   "outputs": [
    {
     "name": "stdout",
     "output_type": "stream",
     "text": [
      "{2: 4, 4: 16, 6: 36, 8: 64, 10: 100}\n",
      "{216, 729, 27}\n"
     ]
    }
   ],
   "source": [
    "# note both dictionairy and set comprehensions use {} which may be confusing at first\n",
    "even_squares_dict = {x: x ** 2 for x in a if x % 2 == 0}\n",
    "threes_cubed_set = {x ** 3 for x in a if x % 3 == 0}\n",
    "print(even_squares_dict)\n",
    "print(threes_cubed_set)"
   ]
  },
  {
   "cell_type": "markdown",
   "metadata": {
    "id": "N8mjiva6Ruud",
    "slideshow": {
     "slide_type": "subslide"
    }
   },
   "source": [
    "Achieving the same outcome is possible with map and filter if you wrap each call with a corresponding constructor. These statements get so long that you have to break them up across multiple lines, which is even noisier and should be avoided:"
   ]
  },
  {
   "cell_type": "code",
   "execution_count": 74,
   "metadata": {
    "id": "ab-E6QPaRuud",
    "slideshow": {
     "slide_type": "fragment"
    }
   },
   "outputs": [],
   "source": [
    "alt_dict = dict(map(lambda x: (x, x ** 2), filter(lambda x: x % 2 == 0, a)))\n",
    "alt_set = set(map(lambda x: x ** 3, filter(lambda x: x % 3 == 0, a)))"
   ]
  },
  {
   "cell_type": "markdown",
   "metadata": {
    "id": "LzG9e0G9Ruue",
    "slideshow": {
     "slide_type": "subslide"
    }
   },
   "source": [
    "### #14. Avoid more than two control subexpressions in comprehensions (EP #28)\n",
    "\n",
    "Beyond basic usage, comprehensions support multiple levels of looping. For example, say that I want to simplify a matrix (a `list` containing other `list` instances) into one flat `list` of all cells. Here, I do this with a list comprehension by including two for subexpressions. These subexpressions run in the order provided, from left to right:"
   ]
  },
  {
   "cell_type": "code",
   "execution_count": 75,
   "metadata": {
    "colab": {
     "base_uri": "https://localhost:8080/"
    },
    "id": "LhQ3zdshRuue",
    "outputId": "cc2ebfd8-7d36-431e-c69b-72983fdfe8f2",
    "slideshow": {
     "slide_type": "fragment"
    }
   },
   "outputs": [
    {
     "name": "stdout",
     "output_type": "stream",
     "text": [
      "[1, 2, 3, 4, 5, 6, 7, 8, 9]\n"
     ]
    }
   ],
   "source": [
    "matrix = [[1, 2, 3], [4, 5, 6], [7, 8, 9]]\n",
    "flat = [x for row in matrix for x in row]\n",
    "print(flat)"
   ]
  },
  {
   "cell_type": "markdown",
   "metadata": {
    "id": "-7o2z7DERuue",
    "slideshow": {
     "slide_type": "subslide"
    }
   },
   "source": [
    "This example is simple, readable, and a reasonable usage of multiple loops in a comprehension. Another reasonable usage of multiple loops involves replicating the two-level-deep layout of the input `list`. For example, say that I want to square the value in each cell of a twodimensional matrix. This comprehension is noisier because of the extra `[]` characters, but it’s still relatively easy to read:"
   ]
  },
  {
   "cell_type": "code",
   "execution_count": 76,
   "metadata": {
    "colab": {
     "base_uri": "https://localhost:8080/"
    },
    "id": "q_v3cysXRuue",
    "outputId": "71f1ce09-7762-4189-ef43-861ae53ce272",
    "slideshow": {
     "slide_type": "fragment"
    }
   },
   "outputs": [
    {
     "name": "stdout",
     "output_type": "stream",
     "text": [
      "[[1, 4, 9], [16, 25, 36], [49, 64, 81]]\n"
     ]
    }
   ],
   "source": [
    "squared = [[x ** 2 for x in row] for row in matrix]\n",
    "print(squared)"
   ]
  },
  {
   "cell_type": "markdown",
   "metadata": {
    "id": "3gmM084nRuue",
    "slideshow": {
     "slide_type": "subslide"
    }
   },
   "source": [
    "If this comprehension included another loop, it would get so long that I’d have to split it over multiple lines:"
   ]
  },
  {
   "cell_type": "code",
   "execution_count": 77,
   "metadata": {
    "id": "ukBzJK91Ruue",
    "slideshow": {
     "slide_type": "fragment"
    }
   },
   "outputs": [],
   "source": [
    "my_lists = [\n",
    "    [[1, 2, 3], [4, 5, 6]],\n",
    "]\n",
    "flat = [x for sublist1 in my_lists for sublist2 in sublist1 for x in sublist2]"
   ]
  },
  {
   "cell_type": "markdown",
   "metadata": {
    "id": "4pfXrB5LRuue",
    "slideshow": {
     "slide_type": "subslide"
    }
   },
   "source": [
    "At this point, the multiline comprehension isn’t much shorter than the alternative. Here, I produce the same result using normal loop statements. The indentation of this version makes the looping clearer than the three-level-list comprehension:"
   ]
  },
  {
   "cell_type": "code",
   "execution_count": 78,
   "metadata": {
    "id": "5gv804F4Ruuf",
    "slideshow": {
     "slide_type": "fragment"
    }
   },
   "outputs": [],
   "source": [
    "flat = []\n",
    "for sublist1 in my_lists:\n",
    "    for sublist2 in sublist1:\n",
    "        flat.extend(sublist2)"
   ]
  },
  {
   "cell_type": "markdown",
   "metadata": {
    "id": "Kby7T2KtRuuf",
    "slideshow": {
     "slide_type": "subslide"
    }
   },
   "source": [
    "Comprehensions support multiple `if` conditions. Multiple conditions at the same loop level have an implicit `and` expression. For example, say that I want to filter a `list` of numbers to only even values greater than 4. These two list comprehensions are equivalent:"
   ]
  },
  {
   "cell_type": "code",
   "execution_count": 79,
   "metadata": {
    "id": "PFJPg8HCRuuf",
    "slideshow": {
     "slide_type": "fragment"
    }
   },
   "outputs": [],
   "source": [
    "a = [1, 2, 3, 4, 5, 6, 7, 8, 9, 10]\n",
    "b = [x for x in a if x > 4 if x % 2 == 0]\n",
    "c = [x for x in a if x > 4 and x % 2 == 0]"
   ]
  },
  {
   "cell_type": "markdown",
   "metadata": {
    "id": "l8psoq26Ruuf",
    "slideshow": {
     "slide_type": "subslide"
    }
   },
   "source": [
    "Conditions can be specified at each level of looping after the `for` subexpression. For example, say I want to filter a matrix so the only cells remaining are those divisible by 3 in rows that sum to 10 or higher. Expressing this with a list comprehension does not require a lot of code, but it is extremely difficult to read:"
   ]
  },
  {
   "cell_type": "code",
   "execution_count": 80,
   "metadata": {
    "colab": {
     "base_uri": "https://localhost:8080/"
    },
    "id": "ZjxngD7QRuuf",
    "outputId": "be58fddd-5ee0-418b-cc7d-adcb9a1ddcb2",
    "slideshow": {
     "slide_type": "fragment"
    }
   },
   "outputs": [
    {
     "name": "stdout",
     "output_type": "stream",
     "text": [
      "[[6], [9]]\n"
     ]
    }
   ],
   "source": [
    "matrix = [[1, 2, 3], [4, 5, 6], [7, 8, 9]]\n",
    "filtered = [[x for x in row if x % 3 == 0] for row in matrix if sum(row) >= 10]\n",
    "print(filtered)"
   ]
  },
  {
   "cell_type": "markdown",
   "metadata": {
    "id": "X7llJ4pwRuuf",
    "slideshow": {
     "slide_type": "subslide"
    }
   },
   "source": [
    "Although this example is a bit convoluted, in practice you’ll see situations arise where such comprehensions seem like a good fit. I strongly encourage you to avoid using `list`, `dict`, or `set` comprehensions that look like this. The resulting code is very difficult for new readers to understand. The potential for confusion is even worse for dict comprehensions since they already need an extra parameter to represent both the key and the value for each item.\n",
    "\n",
    "The rule of thumb is to avoid using more than two control subexpressions in a comprehension. This could be two conditions, two loops, or one condition and one loop. As soon as it gets more complicated than that, you should use normal if and for statements and write a helper function."
   ]
  },
  {
   "cell_type": "markdown",
   "metadata": {
    "id": "9EOB-cyzRuug",
    "slideshow": {
     "slide_type": "slide"
    }
   },
   "source": [
    "## pandas"
   ]
  },
  {
   "cell_type": "markdown",
   "metadata": {
    "id": "aOzx18mwRuug",
    "slideshow": {
     "slide_type": "subslide"
    }
   },
   "source": [
    "### #15. Be aware of memory consumption and downcast where necessary\n",
    "\n",
    "We already covered this in our discussion of the Ames Housing case. We will only include the code for reference how to reduce your memory footprint of dataframes."
   ]
  },
  {
   "cell_type": "code",
   "execution_count": 81,
   "metadata": {
    "colab": {
     "base_uri": "https://localhost:8080/"
    },
    "id": "IntX_HWxRuug",
    "outputId": "d8e31aaa-3144-4e96-ec69-1ac2ea6fa796",
    "slideshow": {
     "slide_type": "fragment"
    }
   },
   "outputs": [
    {
     "data": {
      "text/plain": [
       "1922208"
      ]
     },
     "execution_count": 81,
     "metadata": {},
     "output_type": "execute_result"
    }
   ],
   "source": [
    "df = pd.read_csv(\n",
    "    \"https://github.com/jads-nl/discover-projects/blob/main/ames-housing/AmesHousing.csv?raw=true\"\n",
    ")\n",
    "df.memory_usage().sum()"
   ]
  },
  {
   "cell_type": "code",
   "execution_count": 82,
   "metadata": {
    "colab": {
     "base_uri": "https://localhost:8080/"
    },
    "id": "kO6Unlf7Ruug",
    "outputId": "7668b434-6fd3-4fe0-f070-7f86b5a97649",
    "slideshow": {
     "slide_type": "subslide"
    }
   },
   "outputs": [
    {
     "data": {
      "text/plain": [
       "419054"
      ]
     },
     "execution_count": 82,
     "metadata": {},
     "output_type": "execute_result"
    }
   ],
   "source": [
    "# objects to categorical\n",
    "df[df.select_dtypes(include=\"object\").columns] = df.select_dtypes(\n",
    "    include=\"object\"\n",
    ").astype(\"category\")\n",
    "\n",
    "# convert integers to smallest unsigned integer and floats to smallest\n",
    "for old, new in [(\"integer\", \"unsigned\"), (\"float\", \"float\")]:\n",
    "    for col in df.select_dtypes(include=old).columns:\n",
    "        df[col] = pd.to_numeric(df[col], downcast=new)\n",
    "\n",
    "df.memory_usage().sum()"
   ]
  },
  {
   "cell_type": "markdown",
   "metadata": {
    "id": "7nekwi8vRuug",
    "slideshow": {
     "slide_type": "subslide"
    }
   },
   "source": [
    "### #16. Use `.loc` and `.iloc` for indexing dataframes (and forget about `.ix`)\n",
    "\n",
    "One-third of the top-15 voted [pandas questions on Stackoverflow](http://stackoverflow.com/questions/tagged/pandas?sort=votes&pageSize=15) are about indexing. Another one-third are about slicing. This seems as good a place as any to start.\n",
    "\n",
    "By indexing, we mean the selection of subsets of a `DataFrame` or `Series`. `DataFrames` (and to a lesser extent, `Series`) provide a difficult set of challenges:\n",
    "\n",
    "- Like lists, you can index by location.\n",
    "- Like dictionaries, you can index by label.\n",
    "- Like NumPy arrays, you can index by boolean masks.\n",
    "- Any of these indexers could be scalar indexes, or they could be arrays, or they could be slices.\n",
    "- Any of these should work on the index (row labels) or columns of a DataFrame.\n",
    "- And any of these should work on hierarchical indexes.\n",
    "\n",
    "The complexity of pandas' indexing is a microcosm for the complexity of the pandas API in general. There's a reason for the complexity (well, most of it), but that's not much consolation while you're learning. Still, all of these ways of indexing really are useful enough to justify their inclusion in the library.\n",
    "\n",
    "Since pandas 0.12, these tasks have been cleanly separated into two methods:\n",
    "\n",
    "1. `.loc` for label-based indexing\n",
    "2. `.iloc` for positional indexing\n",
    "\n",
    "Previously, `.ix` was used to handle both cases. You may encounter this in old blog-posts. `.ix` is deprecated, so stop using it.\n",
    "\n",
    "For more details, please read any (or all) of the following online tutorials:\n",
    "- [Using Pandas and Python To Explore Your Dataset](https://realpython.com/pandas-python-explore-dataset/) on Real Python;\n",
    "- [Data Indexing and Slicing notebok](https://github.com/jads-nl/PythonDataScienceHandbook/blob/8a34a4f653bdbdc01415a94dc20d4e9b97438965/notebooks/03.02-Data-Indexing-and-Selection.ipynb) by Jake VanderPlas\n",
    "- [pandas documentation on indexing and selecting data](https://pandas.pydata.org/pandas-docs/stable/user_guide/indexing.html#different-choices-for-indexing)\n"
   ]
  },
  {
   "cell_type": "markdown",
   "metadata": {
    "id": "H38GG2NARuug",
    "slideshow": {
     "slide_type": "subslide"
    }
   },
   "source": [
    "### #17. Use method chaining to make your data preparation more readable\n",
    "\n",
    "Method chaining, where you call methods on an object one after another, is in vogue at the moment. It's always been a style of programming that's been possible with pandas:\n",
    "\n",
    "- [assign](https://pandas.pydata.org/pandas-docs/stable/reference/api/pandas.DataFrame.assign.html) (0.16.0): For adding new columns to a DataFrame in a chain (inspired by dplyr's mutate)\n",
    "- [pipe](https://pandas.pydata.org/pandas-docs/stable/reference/api/pandas.DataFrame.pipe.html) (0.16.2): For including user-defined methods in method chains.\n",
    "- [rename](https://pandas.pydata.org/pandas-docs/stable/reference/api/pandas.DataFrame.rename.html) (0.18.0): For altering axis names (in additional to changing the actual labels as before).\n",
    "- [Window methods](https://pandas.pydata.org/docs/user_guide/window.html) (0.18): Took the top-level pd.rolling_* and pd.expanding_* functions and made them NDFrame methods with a groupby-like API.\n",
    "- [Resample](https://pandas.pydata.org/pandas-docs/stable/reference/api/pandas.DataFrame.resample.html) (0.18.0) Added a new groupby-like API\n",
    "- [selection by callable](https://pandas.pydata.org/docs/user_guide/indexing.html#selection-by-callable) (0.18.1): You can pass a callable to the indexing methods, to be evaluated within the DataFrame's context (like .query, but with code instead of strings).\n",
    "\n",
    "To illustrate the potential of method chaining, let's look at this example with the Titanic dataset which explores the data of passengers that have embarked in Southampton:"
   ]
  },
  {
   "cell_type": "code",
   "execution_count": 83,
   "metadata": {
    "colab": {
     "base_uri": "https://localhost:8080/",
     "height": 145
    },
    "id": "v95njUu6Ruuh",
    "outputId": "8ad01c92-5764-4a55-9a38-494d4af12957",
    "slideshow": {
     "slide_type": "subslide"
    }
   },
   "outputs": [],
   "source": [
    "import sys\n",
    "import pandas as pd\n",
    "\n",
    "\n",
    "TITANIC_DATA = \"https://github.com/BindiChen/machine-learning/blob/master/data-analysis/007-method-chaining/data/train.csv?raw=true\"\n",
    "bins = [0, 13, 19, 61, sys.maxsize]\n",
    "labels = [\"<12\", \"Teen\", \"Adult\", \"Older\"]\n",
    "\n",
    "pclass_age_map = {\n",
    "    1: 37,\n",
    "    2: 29,\n",
    "    3: 24,\n",
    "}\n",
    "\n",
    "\n",
    "def replace_age_na(x_df, fill_map):\n",
    "    cond = x_df[\"Age\"].isna()\n",
    "    res = x_df.loc[cond, \"Pclass\"].map(fill_map)\n",
    "    x_df.loc[cond, \"Age\"] = res\n",
    "    return x_df"
   ]
  },
  {
   "cell_type": "code",
   "execution_count": 84,
   "metadata": {
    "colab": {
     "base_uri": "https://localhost:8080/",
     "height": 145
    },
    "id": "v95njUu6Ruuh",
    "outputId": "8ad01c92-5764-4a55-9a38-494d4af12957",
    "slideshow": {
     "slide_type": "subslide"
    }
   },
   "outputs": [
    {
     "data": {
      "text/html": [
       "<style type=\"text/css\">\n",
       "</style>\n",
       "<table id=\"T_7cae1_\">\n",
       "  <thead>\n",
       "    <tr>\n",
       "      <th class=\"index_name level0\" ></th>\n",
       "      <th class=\"col_heading level0 col0\" >Class 1</th>\n",
       "      <th class=\"col_heading level0 col1\" >Class 2</th>\n",
       "      <th class=\"col_heading level0 col2\" >Class 3</th>\n",
       "    </tr>\n",
       "    <tr>\n",
       "      <th class=\"index_name level0\" >ageGroup</th>\n",
       "      <th class=\"blank col0\" >&nbsp;</th>\n",
       "      <th class=\"blank col1\" >&nbsp;</th>\n",
       "      <th class=\"blank col2\" >&nbsp;</th>\n",
       "    </tr>\n",
       "  </thead>\n",
       "  <tbody>\n",
       "    <tr>\n",
       "      <th id=\"T_7cae1_level0_row0\" class=\"row_heading level0 row0\" ><12</th>\n",
       "      <td id=\"T_7cae1_row0_col0\" class=\"data row0 col0\" >75.00%</td>\n",
       "      <td id=\"T_7cae1_row0_col1\" class=\"data row0 col1\" >100.00%</td>\n",
       "      <td id=\"T_7cae1_row0_col2\" class=\"data row0 col2\" >37.14%</td>\n",
       "    </tr>\n",
       "    <tr>\n",
       "      <th id=\"T_7cae1_level0_row1\" class=\"row_heading level0 row1\" >Teen</th>\n",
       "      <td id=\"T_7cae1_row1_col0\" class=\"data row1 col0\" >80.00%</td>\n",
       "      <td id=\"T_7cae1_row1_col1\" class=\"data row1 col1\" >40.00%</td>\n",
       "      <td id=\"T_7cae1_row1_col2\" class=\"data row1 col2\" >17.78%</td>\n",
       "    </tr>\n",
       "    <tr>\n",
       "      <th id=\"T_7cae1_level0_row2\" class=\"row_heading level0 row2\" >Adult</th>\n",
       "      <td id=\"T_7cae1_row2_col0\" class=\"data row2 col0\" >58.10%</td>\n",
       "      <td id=\"T_7cae1_row2_col1\" class=\"data row2 col1\" >40.77%</td>\n",
       "      <td id=\"T_7cae1_row2_col2\" class=\"data row2 col2\" >16.61%</td>\n",
       "    </tr>\n",
       "    <tr>\n",
       "      <th id=\"T_7cae1_level0_row3\" class=\"row_heading level0 row3\" >Older</th>\n",
       "      <td id=\"T_7cae1_row3_col0\" class=\"data row3 col0\" >25.00%</td>\n",
       "      <td id=\"T_7cae1_row3_col1\" class=\"data row3 col1\" >33.33%</td>\n",
       "      <td id=\"T_7cae1_row3_col2\" class=\"data row3 col2\" >50.00%</td>\n",
       "    </tr>\n",
       "  </tbody>\n",
       "</table>\n"
      ],
      "text/plain": [
       "<pandas.io.formats.style.Styler at 0x7f441812da60>"
      ]
     },
     "execution_count": 84,
     "metadata": {},
     "output_type": "execute_result"
    }
   ],
   "source": [
    "view_southampton = (\n",
    "    pd.read_csv(TITANIC_DATA)\n",
    "    .pipe(replace_age_na, pclass_age_map)\n",
    "    .query('Embarked == \"S\"')\n",
    "    .assign(ageGroup=lambda df: pd.cut(df[\"Age\"], bins=bins, labels=labels))\n",
    "    .pivot_table(values=\"Survived\", columns=\"Pclass\", index=\"ageGroup\", aggfunc=\"mean\")\n",
    "    .rename_axis(\"\", axis=\"columns\")\n",
    "    .rename(\"Class {}\".format, axis=\"columns\")\n",
    "    .style.format(\"{:.2%}\")\n",
    ")\n",
    "\n",
    "view_southampton"
   ]
  },
  {
   "cell_type": "code",
   "execution_count": 85,
   "metadata": {},
   "outputs": [],
   "source": [
    "_string = 'sdfjghsdfgjk'\n",
    "\n",
    "def clean_string(str):\n",
    "    return _string.upper().replace('S', 'Z')"
   ]
  },
  {
   "cell_type": "code",
   "execution_count": 86,
   "metadata": {},
   "outputs": [
    {
     "data": {
      "text/plain": [
       "<function __main__.<lambda>(s)>"
      ]
     },
     "execution_count": 86,
     "metadata": {},
     "output_type": "execute_result"
    }
   ],
   "source": [
    "lambda s: s.upper().replace('S', 'Z')"
   ]
  },
  {
   "cell_type": "markdown",
   "metadata": {
    "id": "XljpXmF6Ruuh",
    "slideshow": {
     "slide_type": "subslide"
    }
   },
   "source": [
    "Read more on method chaining in these tutorials:\n",
    "\n",
    "- [Best practice method chaining](https://towardsdatascience.com/using-pandas-method-chaining-to-improve-code-readability-d8517c5626ac) by B. Chen (with the Titanic example).\n",
    "- [Tom Augspurger's explanation on method chaining](https://tomaugspurger.github.io/method-chaining) goes a bit more in depth on the reasoning and rationale behind it."
   ]
  },
  {
   "cell_type": "markdown",
   "metadata": {
    "id": "hitJLy0KRuuh",
    "slideshow": {
     "slide_type": "subslide"
    }
   },
   "source": [
    "### #18. Don't use `inplace=True` operations on dataframes\n",
    "\n",
    "Most pandas methods have an `inplace` keyword that's `False` by default. In general, you shouldn't do inplace operations.\n",
    "\n",
    "First, if you like method chains then you simply can't use inplace since the return value is `None`, terminating the chain.\n",
    "\n",
    "Second, I suspect people have a mental model of inplace operations happening, you know, inplace. That is, extra memory doesn't need to be allocated for the result. But that might not actually be true. Quoting Jeff Reback from that answer\n",
    "\n",
    "> Their is no guarantee that an inplace operation is actually faster. Often they are actually the same operation that works on a copy, but the top-level reference is reassigned.\n",
    "\n",
    "That is, the pandas code might look something like this\n",
    "\n",
    "```python\n",
    "def dataframe_method(self, inplace=False):\n",
    "    data = self.copy()  # regardless of inplace\n",
    "    result = ...\n",
    "    if inplace:\n",
    "        self._update_inplace(data)\n",
    "    else:\n",
    "        return result\n",
    "```\n",
    "\n",
    "There's a lot of defensive copying in pandas. Part of this comes down to pandas being built on top of NumPy, and not having full control over how memory is handled and shared. Without the copy, adding the columns would modify the input DataFrame, which just isn't polite.\n",
    "\n",
    "Finally, inplace operations don't make sense in projects like ibis or dask, where you're manipulating expressions or building up a DAG of tasks to be executed, rather than manipulating the data directly."
   ]
  },
  {
   "cell_type": "markdown",
   "metadata": {
    "id": "BDbaaCIKRuuh",
    "slideshow": {
     "slide_type": "subslide"
    }
   },
   "source": [
    "### #19. Use  `.query`  and `eval` for fast, complex indexing\n",
    "\n",
    "The power of the PyData stack is built upon the ability of NumPy and pandas to push basic operations into C via an intuitive syntax: examples are vectorized/broadcasted operations in NumPy, and grouping-type operations in pandas. While these abstractions are efficient and effective for many common use cases, they often rely on the creation of temporary intermediate objects, which can cause undue overhead in computational time and memory use.\n",
    "\n",
    "As of version 0.13 (released January 2014), pandas includes some experimental tools that allow you to directly access C-speed operations without costly allocation of intermediate arrays. These are the `eval()` and `query()` functions, which rely on the Numexpr package.\n",
    "\n",
    "Please refer to the following notebooks and documentation on how and when to use them:\n",
    "- [High-Performance Pandas: eval() and query()](https://github.com/jads-nl/PythonDataScienceHandbook/blob/8a34a4f653bdbdc01415a94dc20d4e9b97438965/notebooks/03.12-Performance-Eval-and-Query.ipynb) by Jake VanderPlas\n",
    "- [pandas user guide on the query() method](https://pandas.pydata.org/docs/user_guide/indexing.html#the-query-method)"
   ]
  }
 ],
 "metadata": {
  "celltoolbar": "Slideshow",
  "colab": {
   "collapsed_sections": [
    "fMi5a0qeRuuG",
    "ibEQ66MKRuuI",
    "gyfZK5CSRuuK",
    "7nekwi8vRuug",
    "hitJLy0KRuuh"
   ],
   "include_colab_link": true,
   "name": "execute-programming-lecture.ipynb",
   "provenance": [],
   "toc_visible": true
  },
  "interpreter": {
   "hash": "e7370f93d1d0cde622a1f8e1c04877d8463912d04d973331ad4851f04de6915a"
  },
  "kernelspec": {
   "display_name": "Python 3",
   "language": "python",
   "name": "python3"
  },
  "language_info": {
   "codemirror_mode": {
    "name": "ipython",
    "version": 3
   },
   "file_extension": ".py",
   "mimetype": "text/x-python",
   "name": "python",
   "nbconvert_exporter": "python",
   "pygments_lexer": "ipython3",
   "version": "3.9.5"
  },
  "rise": {
   "enable_chalkboard": true,
   "scroll": true,
   "theme": "white"
  },
  "toc": {
   "base_numbering": 1,
   "nav_menu": {},
   "number_sections": false,
   "sideBar": true,
   "skip_h1_title": true,
   "title_cell": "Table of Contents",
   "title_sidebar": "Contents",
   "toc_cell": false,
   "toc_position": {
    "height": "calc(100% - 180px)",
    "left": "10px",
    "top": "150px",
    "width": "467.2px"
   },
   "toc_section_display": true,
   "toc_window_display": true
  },
  "varInspector": {
   "cols": {
    "lenName": 16,
    "lenType": 16,
    "lenVar": 40
   },
   "kernels_config": {
    "python": {
     "delete_cmd_postfix": "",
     "delete_cmd_prefix": "del ",
     "library": "var_list.py",
     "varRefreshCmd": "print(var_dic_list())"
    },
    "r": {
     "delete_cmd_postfix": ") ",
     "delete_cmd_prefix": "rm(",
     "library": "var_list.r",
     "varRefreshCmd": "cat(var_dic_list()) "
    }
   },
   "types_to_exclude": [
    "module",
    "function",
    "builtin_function_or_method",
    "instance",
    "_Feature"
   ],
   "window_display": false
  }
 },
 "nbformat": 4,
 "nbformat_minor": 1
}
