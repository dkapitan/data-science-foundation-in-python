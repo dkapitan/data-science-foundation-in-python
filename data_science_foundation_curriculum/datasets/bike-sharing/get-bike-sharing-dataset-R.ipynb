{
 "cells": [
  {
   "cell_type": "code",
   "execution_count": 1,
   "metadata": {},
   "outputs": [],
   "source": [
    "# taken from https://github.com/christophM/interpretable-ml-book/blob/master/R/get-bike-sharing-dataset.R\n",
    "day_diff = function(date1, date2){\n",
    "  as.numeric(difftime(as.Date(date1), as.Date(date2), units = 'days'))\n",
    "}\n",
    "\n",
    "bike = read.csv('bike-sharing-daily.csv', stringsAsFactors = FALSE)\n",
    "# See http://archive.ics.uci.edu/ml/datasets/Bike+Sharing+Dataset\n",
    "\n",
    "bike$weekday = factor(bike$weekday, levels=0:6, labels = c('SUN', 'MON', 'TUE', 'WED', 'THU', 'FRI', 'SAT'))\n",
    "bike$holiday = factor(bike$holiday, levels = c(0,1), labels = c('NO HOLIDAY', 'HOLIDAY'))\n",
    "bike$workingday = factor(bike$workingday, levels = c(0,1), labels = c('NO WORKING DAY', 'WORKING DAY'))\n",
    "bike$season = factor(bike$season, levels = 1:4, labels = c('SPRING', 'SUMMER', 'FALL', 'WINTER'))\n",
    "bike$weathersit = factor(bike$weathersit, levels = 1:3, labels = c('GOOD', 'MISTY', 'RAIN/SNOW/STORM'))\n",
    "bike$yr[bike$yr == 0] = 2011\n",
    "bike$yr[bike$yr == 1] = 2012\n",
    "bike$yr = factor(bike$yr)\n",
    "bike$days_since_2011 = day_diff(bike$dteday, min(as.Date(bike$dteday)))\n",
    "\n",
    "# denormalize weather features:\n",
    "# temp : Normalized temperature in Celsius. The values are derived via (t-t_min)/(t_max-t_min), t_min=-8, t_max=+39 (only in hourly scale)\n",
    "bike$temp = bike$temp * (39 - (-8)) + (-8)\n",
    "# atemp: Normalized feeling temperature in Celsius. The values are derived via (t-t_min)/(t_max-t_min), t_min=-16, t_max=+50 (only in hourly scale)\n",
    "bike$atemp = bike$atemp * (50 - (16)) + (16)\n",
    "\n",
    "#windspeed: Normalized wind speed. The values are divided to 67 (max)\n",
    "bike$windspeed = 67 * bike$windspeed\n",
    "#hum: Normalized humidity. The values are divided to 100 (max)\n",
    "bike$hum = 100 * bike$hum"
   ]
  },
  {
   "cell_type": "code",
   "execution_count": 2,
   "metadata": {},
   "outputs": [],
   "source": [
    "write.csv(bike, 'bike-sharing-daily-processed.csv')"
   ]
  },
  {
   "cell_type": "code",
   "execution_count": null,
   "metadata": {},
   "outputs": [],
   "source": []
  }
 ],
 "metadata": {
  "kernelspec": {
   "display_name": "R",
   "language": "R",
   "name": "ir"
  },
  "language_info": {
   "codemirror_mode": "r",
   "file_extension": ".r",
   "mimetype": "text/x-r-source",
   "name": "R",
   "pygments_lexer": "r",
   "version": "4.0.2"
  },
  "toc": {
   "base_numbering": 1,
   "nav_menu": {},
   "number_sections": true,
   "sideBar": true,
   "skip_h1_title": false,
   "title_cell": "Table of Contents",
   "title_sidebar": "Contents",
   "toc_cell": false,
   "toc_position": {},
   "toc_section_display": true,
   "toc_window_display": false
  }
 },
 "nbformat": 4,
 "nbformat_minor": 4
}
