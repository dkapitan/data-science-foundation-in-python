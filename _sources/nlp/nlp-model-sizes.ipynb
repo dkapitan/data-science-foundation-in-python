{
 "cells": [
  {
   "cell_type": "markdown",
   "source": [
    "# Extra: plot of transformer model sizes\n",
    "\n",
    "source: [sharir2020cost](https://arxiv.org/pdf/2004.08900.pdf)"
   ],
   "metadata": {}
  },
  {
   "cell_type": "code",
   "execution_count": 15,
   "source": [
    "import altair as alt\n",
    "import pandas as pd\n",
    "\n",
    "\n",
    "df = pd.read_csv(\n",
    "    \"https://github.com/jads-nl/public-lectures/blob/main/nlp/model-sizes.csv?raw=true\"\n",
    ")\n",
    "points = (\n",
    "    alt.Chart(df)\n",
    "    .mark_circle(size=60)\n",
    "    .encode(\n",
    "        alt.X(\"model_size:Q\", scale=alt.Scale(type=\"log\"), title='model size (million parameters)'),\n",
    "        alt.Y(\"training_volume:Q\", scale=alt.Scale(type=\"log\"), title='training volume (million tokens)'),\n",
    "    )\n",
    ")\n",
    "text = points.mark_text(align=\"left\", baseline=\"middle\", dx=7).encode(text=\"model\")\n",
    "\n",
    "points + text"
   ],
   "outputs": [
    {
     "output_type": "execute_result",
     "data": {
      "text/html": [
       "\n",
       "<div id=\"altair-viz-a980a84772164953a12088c02f835d37\"></div>\n",
       "<script type=\"text/javascript\">\n",
       "  (function(spec, embedOpt){\n",
       "    let outputDiv = document.currentScript.previousElementSibling;\n",
       "    if (outputDiv.id !== \"altair-viz-a980a84772164953a12088c02f835d37\") {\n",
       "      outputDiv = document.getElementById(\"altair-viz-a980a84772164953a12088c02f835d37\");\n",
       "    }\n",
       "    const paths = {\n",
       "      \"vega\": \"https://cdn.jsdelivr.net/npm//vega@5?noext\",\n",
       "      \"vega-lib\": \"https://cdn.jsdelivr.net/npm//vega-lib?noext\",\n",
       "      \"vega-lite\": \"https://cdn.jsdelivr.net/npm//vega-lite@4.8.1?noext\",\n",
       "      \"vega-embed\": \"https://cdn.jsdelivr.net/npm//vega-embed@6?noext\",\n",
       "    };\n",
       "\n",
       "    function loadScript(lib) {\n",
       "      return new Promise(function(resolve, reject) {\n",
       "        var s = document.createElement('script');\n",
       "        s.src = paths[lib];\n",
       "        s.async = true;\n",
       "        s.onload = () => resolve(paths[lib]);\n",
       "        s.onerror = () => reject(`Error loading script: ${paths[lib]}`);\n",
       "        document.getElementsByTagName(\"head\")[0].appendChild(s);\n",
       "      });\n",
       "    }\n",
       "\n",
       "    function showError(err) {\n",
       "      outputDiv.innerHTML = `<div class=\"error\" style=\"color:red;\">${err}</div>`;\n",
       "      throw err;\n",
       "    }\n",
       "\n",
       "    function displayChart(vegaEmbed) {\n",
       "      vegaEmbed(outputDiv, spec, embedOpt)\n",
       "        .catch(err => showError(`Javascript Error: ${err.message}<br>This usually means there's a typo in your chart specification. See the javascript console for the full traceback.`));\n",
       "    }\n",
       "\n",
       "    if(typeof define === \"function\" && define.amd) {\n",
       "      requirejs.config({paths});\n",
       "      require([\"vega-embed\"], displayChart, err => showError(`Error loading script: ${err.message}`));\n",
       "    } else if (typeof vegaEmbed === \"function\") {\n",
       "      displayChart(vegaEmbed);\n",
       "    } else {\n",
       "      loadScript(\"vega\")\n",
       "        .then(() => loadScript(\"vega-lite\"))\n",
       "        .then(() => loadScript(\"vega-embed\"))\n",
       "        .catch(showError)\n",
       "        .then(() => displayChart(vegaEmbed));\n",
       "    }\n",
       "  })({\"config\": {\"view\": {\"continuousWidth\": 400, \"continuousHeight\": 300}}, \"layer\": [{\"mark\": {\"type\": \"circle\", \"size\": 60}, \"encoding\": {\"x\": {\"type\": \"quantitative\", \"field\": \"model_size\", \"scale\": {\"type\": \"log\"}, \"title\": \"model size (million parameters)\"}, \"y\": {\"type\": \"quantitative\", \"field\": \"training_volume\", \"scale\": {\"type\": \"log\"}, \"title\": \"training volume (million tokens)\"}}}, {\"mark\": {\"type\": \"text\", \"align\": \"left\", \"baseline\": \"middle\", \"dx\": 7}, \"encoding\": {\"text\": {\"type\": \"nominal\", \"field\": \"model\"}, \"x\": {\"type\": \"quantitative\", \"field\": \"model_size\", \"scale\": {\"type\": \"log\"}, \"title\": \"model size (million parameters)\"}, \"y\": {\"type\": \"quantitative\", \"field\": \"training_volume\", \"scale\": {\"type\": \"log\"}, \"title\": \"training volume (million tokens)\"}}}], \"data\": {\"name\": \"data-751df94472465bc07958ad8f65bf8836\"}, \"$schema\": \"https://vega.github.io/schema/vega-lite/v4.8.1.json\", \"datasets\": {\"data-751df94472465bc07958ad8f65bf8836\": [{\"model\": \"GPT-1\", \"model_size\": 100, \"training_volume\": 30}, {\"model\": \"BERT-large\", \"model_size\": 300, \"training_volume\": 100}, {\"model\": \"GPT-2\", \"model_size\": 1500, \"training_volume\": 500}, {\"model\": \"XLNet\", \"model_size\": 400, \"training_volume\": 2100}, {\"model\": \"T5\", \"model_size\": 11000, \"training_volume\": 1000}]}}, {\"mode\": \"vega-lite\"});\n",
       "</script>"
      ],
      "text/plain": [
       "alt.LayerChart(...)"
      ]
     },
     "metadata": {},
     "execution_count": 15
    }
   ],
   "metadata": {}
  }
 ],
 "metadata": {
  "kernelspec": {
   "display_name": "Python 3",
   "language": "python",
   "name": "python3"
  },
  "language_info": {
   "codemirror_mode": {
    "name": "ipython",
    "version": 3
   },
   "file_extension": ".py",
   "mimetype": "text/x-python",
   "name": "python",
   "nbconvert_exporter": "python",
   "pygments_lexer": "ipython3",
   "version": "3.8.6"
  },
  "toc": {
   "base_numbering": 1,
   "nav_menu": {},
   "number_sections": true,
   "sideBar": true,
   "skip_h1_title": false,
   "title_cell": "Table of Contents",
   "title_sidebar": "Contents",
   "toc_cell": false,
   "toc_position": {},
   "toc_section_display": true,
   "toc_window_display": false
  }
 },
 "nbformat": 4,
 "nbformat_minor": 4
}