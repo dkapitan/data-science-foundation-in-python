{
 "cells": [
  {
   "cell_type": "markdown",
   "source": [
    "# Pandas profiling\n",
    "\n",
    "\n",
    "\n",
    "_This notebook was contributed by [Felix van der Spek](https://www.linkedin.com/in/felix-van-der-spek-869715140/), JADS Data Science Foundation for Experts class, November 2021_\n",
    "\n",
    "For those seeking to improve their exploratory data analysis workflow, the [pandas profiling](https://pandas-profiling.github.io/pandas-profiling/docs/master/rtd/) is a good library to use. We demonstrate it here using the Ames housing case. Also, the metadata from the original journal paper is used to generate a properly documented report.\n",
    "\n",
    "Since the reports can get quite large, it is recommended to save it in a separate file."
   ],
   "metadata": {}
  },
  {
   "cell_type": "code",
   "execution_count": 6,
   "source": [
    "import json\n",
    "import re\n",
    "from fuzzywuzzy import fuzz\n",
    "import pandas as pd\n",
    "import requests\n",
    "from pandas_profiling import ProfileReport\n",
    "\n",
    "\n",
    "DATASET_URL = \"https://github.com/jads-nl/discover-projects/blob/main/ames-housing/AmesHousing.csv?raw=true\"\n",
    "DATASET_METADATA_URL = \"http://jse.amstat.org/v19n3/decock/DataDocumentation.txt\"\n",
    "VARIABLE_DEFINITION_FILENAME = \"dataset_variable_definition.json\""
   ],
   "outputs": [],
   "metadata": {
    "cell_id": "00000-0dfe177d-52de-445a-aaac-55f52a77b980",
    "deepnote_cell_type": "code",
    "deepnote_to_be_reexecuted": false,
    "execution_millis": 220,
    "execution_start": 1637328509420,
    "source_hash": "245994c1",
    "tags": []
   }
  },
  {
   "cell_type": "code",
   "execution_count": 7,
   "source": [
    "def fetch_variable_definitions(\n",
    "    dataset_url=DATASET_URL, \n",
    "    dataset_metadata_url=DATASET_METADATA_URL, \n",
    "    filename=VARIABLE_DEFINITION_FILENAME\n",
    "):\n",
    "    \"\"\"Fetch variable definitions from dataset metadata.\"\"\"\n",
    "\n",
    "    response = requests.get(dataset_metadata_url)\n",
    "\n",
    "    pattern = re.compile(r'(?P<variable>.*?)(?:\\s*\\(.*\\)\\s*:\\s*)(?P<description>.*)')\n",
    "    matches = re.finditer(pattern, response.text)\n",
    "    \n",
    "    definitions = {\n",
    "        match.group('variable'): match.group('description') \n",
    "        for match in matches \n",
    "        if match is not None\n",
    "    }\n",
    "    definitions = {k.strip(): v.strip() for k, v in definitions.items()}\n",
    "\n",
    "    print(f\"number of variables in metadata: {len(definitions)}\")\n",
    "\n",
    "    # get dataset so we can map variable names from dataset to metadata\n",
    "    df = pd.read_csv(dataset_url)\n",
    "    print(f\"number of variables in dataset: {len(df.columns)}\")\n",
    "\n",
    "    # quick sanity check\n",
    "    assert len(definitions) == len(df.columns), \"number of columns don't match\"\n",
    "\n",
    "    column_names = pd.Series(df.columns)\n",
    "    for variable in definitions.copy():\n",
    "        # use Levenshtein distance to fuzzy match variable names from dataset to metadata\n",
    "        levenshtein_scores = column_names.apply(fuzz.ratio, args=(variable,))\n",
    "        column_name = column_names[levenshtein_scores == levenshtein_scores.max()].iat[0]\n",
    "        \n",
    "        # using the fuzz.ratio method, we incorrectly missname one variable\n",
    "        # which we have to correct manually\n",
    "        if variable == \"Kitchen\":\n",
    "            column_name = \"Kitchen AbvGr\"\n",
    "            \n",
    "        # user feedback\n",
    "        if variable != column_name:\n",
    "            print(f\"altering: {variable} -> {column_name}\")\n",
    "\n",
    "        definitions[column_name] = definitions.pop(variable)\n",
    "\n",
    "    with open(filename, \"w\") as output_file:\n",
    "        json.dump(obj=definitions, fp=output_file, indent=4)\n",
    "        print(f\"saved variable names and descriptions to {filename}\")"
   ],
   "outputs": [],
   "metadata": {}
  },
  {
   "cell_type": "code",
   "execution_count": 8,
   "source": [
    "fetch_variable_definitions()"
   ],
   "outputs": [
    {
     "output_type": "stream",
     "name": "stdout",
     "text": [
      "number of variables in metadata: 82\n",
      "number of variables in dataset: 82\n",
      "altering: Exterior 1 -> Exterior 1st\n",
      "altering: Exterior 2 -> Exterior 2nd\n",
      "altering: BsmtFinType 2 -> BsmtFin Type 2\n",
      "altering: HeatingQC -> Heating QC\n",
      "altering: Bedroom -> Bedroom AbvGr\n",
      "altering: Kitchen -> Kitchen AbvGr\n",
      "altering: KitchenQual -> Kitchen Qual\n",
      "altering: TotRmsAbvGrd -> TotRms AbvGrd\n",
      "altering: FireplaceQu -> Fireplace Qu\n",
      "altering: 3-Ssn Porch -> 3Ssn Porch\n",
      "saved variable names and descriptions to dataset_variable_definition.json\n"
     ]
    }
   ],
   "metadata": {}
  },
  {
   "cell_type": "markdown",
   "source": [
    "Creating a profile report interactively in you notebook using `df.profile_report()` or `profile.to_notebook_iframe()` may cause issues since the cell output can quickly get to large. Instead, we generate a separate file with annotated variables."
   ],
   "metadata": {}
  },
  {
   "cell_type": "code",
   "execution_count": 9,
   "source": [
    "with open(VARIABLE_DEFINITION_FILENAME) as f:\n",
    "    variables = json.load(f)"
   ],
   "outputs": [],
   "metadata": {}
  },
  {
   "cell_type": "code",
   "execution_count": 10,
   "source": [
    "df = pd.read_csv(DATASET_URL)\n",
    "profile = ProfileReport(\n",
    "    df,\n",
    "    explorative=True,\n",
    "    title=\"Ames Housing Data Set Profile\",\n",
    "    dataset={\n",
    "        \"description\": \"Profiling report for the Ames housing dataset.\",\n",
    "        \"creator\": \"Felix van der Spek\",\n",
    "        \"url\": DATASET_URL,\n",
    "    },\n",
    "    variables=variables,\n",
    ")\n",
    "profile.to_file(\"ames.html\")"
   ],
   "outputs": [
    {
     "output_type": "display_data",
     "data": {
      "application/vnd.jupyter.widget-view+json": {
       "model_id": "53128cc4ade14ab59adaa651527c0074",
       "version_major": 2,
       "version_minor": 0
      },
      "text/plain": [
       "Summarize dataset:   0%|          | 0/5 [00:00<?, ?it/s]"
      ]
     },
     "metadata": {}
    },
    {
     "output_type": "stream",
     "name": "stderr",
     "text": [
      "/home/dkapitan/.local/lib/python3.9/site-packages/pandas_profiling/model/correlations.py:55: UserWarning: There was an attempt to calculate the cramers correlation, but this failed.\n",
      "To hide this warning, disable the calculation\n",
      "(using `df.profile_report(correlations={\"cramers\": {\"calculate\": False}})`\n",
      "If this is problematic for your use case, please report this as an issue:\n",
      "https://github.com/pandas-profiling/pandas-profiling/issues\n",
      "(include the error message: 'No data; `observed` has size 0.')\n",
      "  warnings.warn(\n",
      "/home/dkapitan/.local/lib/python3.9/site-packages/missingno/missingno.py:250: UserWarning: FixedFormatter should only be used together with FixedLocator\n",
      "  ax1.set_xticklabels(ax1.get_xticklabels(), rotation=45, ha='right', fontsize=fontsize)\n",
      "/home/dkapitan/.local/lib/python3.9/site-packages/pandas_profiling/model/missing.py:89: UserWarning: There was an attempt to generate the Count missing values diagrams, but this failed.\n",
      "To hide this warning, disable the calculation\n",
      "(using `df.profile_report(missing_diagrams={\"Count\": False}`)\n",
      "If this is problematic for your use case, please report this as an issue:\n",
      "https://github.com/pandas-profiling/pandas-profiling/issues\n",
      "(include the error message: 'The number of FixedLocator locations (7), usually from a call to set_ticks, does not match the number of ticklabels (82).')\n",
      "  warnings.warn(\n"
     ]
    },
    {
     "output_type": "display_data",
     "data": {
      "application/vnd.jupyter.widget-view+json": {
       "model_id": "695874f299f840d597260f92a411441f",
       "version_major": 2,
       "version_minor": 0
      },
      "text/plain": [
       "Generate report structure:   0%|          | 0/1 [00:00<?, ?it/s]"
      ]
     },
     "metadata": {}
    },
    {
     "output_type": "display_data",
     "data": {
      "application/vnd.jupyter.widget-view+json": {
       "model_id": "914a757c7d09416d90ebd4ffd359d4ff",
       "version_major": 2,
       "version_minor": 0
      },
      "text/plain": [
       "Render HTML:   0%|          | 0/1 [00:00<?, ?it/s]"
      ]
     },
     "metadata": {}
    },
    {
     "output_type": "display_data",
     "data": {
      "application/vnd.jupyter.widget-view+json": {
       "model_id": "0d292ebbaa224aa88b76a4a49d5309e4",
       "version_major": 2,
       "version_minor": 0
      },
      "text/plain": [
       "Export report to file:   0%|          | 0/1 [00:00<?, ?it/s]"
      ]
     },
     "metadata": {}
    }
   ],
   "metadata": {
    "cell_id": "00002-35849f4a-d50f-4711-88d7-6b7d3eea06d0",
    "deepnote_cell_type": "code",
    "deepnote_output_heights": [
     null,
     null,
     null,
     611
    ],
    "deepnote_to_be_reexecuted": false,
    "execution_millis": 542074,
    "execution_start": 1637330993728,
    "source_hash": "b64ab341",
    "tags": []
   }
  },
  {
   "cell_type": "markdown",
   "source": [
    "Download and open the file in Google Chrome or Firefox. Wait for the file to load completely, after which navigation will work."
   ],
   "metadata": {
    "cell_id": "00004-c1f3934a-a41c-4308-aaa7-4e9396ee56a6",
    "deepnote_cell_type": "markdown",
    "tags": []
   }
  }
 ],
 "metadata": {
  "deepnote": {
   "is_reactive": false
  },
  "deepnote_execution_queue": [],
  "deepnote_notebook_id": "0ad9d0ef-5352-4802-afbf-2eaa8bf033e9",
  "kernelspec": {
   "display_name": "Python 3",
   "language": "python",
   "name": "python3"
  },
  "language_info": {
   "codemirror_mode": {
    "name": "ipython",
    "version": 3
   },
   "file_extension": ".py",
   "mimetype": "text/x-python",
   "name": "python",
   "nbconvert_exporter": "python",
   "pygments_lexer": "ipython3",
   "version": "3.9.5"
  },
  "toc": {
   "base_numbering": 1,
   "nav_menu": {},
   "number_sections": true,
   "sideBar": true,
   "skip_h1_title": false,
   "title_cell": "Table of Contents",
   "title_sidebar": "Contents",
   "toc_cell": false,
   "toc_position": {},
   "toc_section_display": true,
   "toc_window_display": false
  }
 },
 "nbformat": 4,
 "nbformat_minor": 2
}