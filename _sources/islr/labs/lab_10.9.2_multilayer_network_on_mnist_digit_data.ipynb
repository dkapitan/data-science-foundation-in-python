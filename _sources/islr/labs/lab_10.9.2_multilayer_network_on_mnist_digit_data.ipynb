{
 "cells": [
  {
   "cell_type": "markdown",
   "metadata": {
    "cell_id": "00000-c3d2649b-a67f-44be-a87d-e61b8abaa9d6",
    "deepnote_cell_type": "markdown"
   },
   "source": [
    "# Lab 10.9.2: A Multilayer Network on the MNIST Digit Data\n",
    "\n",
    "## Attribution\n",
    "- Original article by [Gregor Koehler](https://nextjournal.com/gkoehler/digit-recognition-with-keras) (17-02-2020).\n",
    "- Remixed by Daniel Kapitan (08-01-2022):\n",
    "  - updated code for Keras Tensorflow \n",
    "  - changed network layout with $K_1 = 256$ and $K_2 = 128$ units to match example in Introduction to Statistical Learning (2nd edition), figure 10.4 and Lab 10.9.2.\n",
    "\n",
    "## Introduction\n",
    "In this article we'll build a simple neural network and train it to recognize handwritten digits using the MNIST dataset. Training a *classifier* on the MNIST dataset is regarded as the *hello world* of image recognition. To follow along here, you should have a basic understanding of the [Multilayer Perceptron](https://en.wikipedia.org/wiki/Multilayer_perceptron) class of neural networks.\n",
    "\n",
    "MNIST contains 70,000 images of handwritten digits: 60,000 for training and 10,000 for testing. The images are grayscale, 28x28 pixels, and centered to reduce preprocessing and get started quicker. \n",
    "\n",
    "[Keras](https://keras.io) is a high-level neural network API focused on user friendliness, fast prototyping, modularity and extensibility. It works with deep learning frameworks like [Tensorflow](https://tensorflow.org), [Theano](http://deeplearning.net/software/theano/) and [CNTK](https://github.com/Microsoft/CNTK), so we can get right into building and training a neural network without a lot of fuss."
   ]
  },
  {
   "cell_type": "markdown",
   "metadata": {
    "cell_id": "00002-0c0bd83f-f4a5-4f6f-b25c-06632f7de776",
    "deepnote_cell_type": "markdown"
   },
   "source": [
    "## Setting up and preparing the data\n",
    "\n",
    "Let's get started by setting up our environment with Keras using Tensorflow as the backend. These package imports are pretty standard — we'll get back to the Keras-specific imports further down. Optionally we can also import the dataset to cache it."
   ]
  },
  {
   "cell_type": "code",
   "execution_count": 12,
   "metadata": {
    "cell_id": "00003-de8bbc7b-bfb4-4677-8a4b-f88bab0778b7",
    "deepnote_cell_type": "code",
    "deepnote_to_be_reexecuted": false,
    "execution_millis": 527320,
    "execution_start": 1641642487436,
    "nextjournal": {
     "id": "01002b11-4266-49b2-a07b-2e80165d2d1f",
     "kind": "code",
     "language": "bash"
    },
    "source_hash": "cede9d48"
   },
   "outputs": [],
   "source": [
    "# optionally cache the dataset\n",
    "# %%sh\n",
    "# python -c 'from tensorflow.keras.datasets import mnist\n",
    "# mnist.load_data()'"
   ]
  },
  {
   "cell_type": "code",
   "execution_count": 13,
   "metadata": {
    "cell_id": "00006-9cef16a3-6c4c-45de-bac9-98e8dcad8a7a",
    "deepnote_cell_type": "code",
    "deepnote_to_be_reexecuted": false,
    "execution_millis": 13744,
    "execution_start": 1641642487437,
    "nextjournal": {
     "id": "775267f3-e650-4a2c-88f0-f1bf548dc1bf",
     "kind": "code",
     "language": "python"
    },
    "source_hash": "3bd01"
   },
   "outputs": [],
   "source": [
    "# imports for array-handling and plotting\n",
    "import numpy as np\n",
    "import matplotlib\n",
    "import matplotlib.pyplot as plt\n",
    "%matplotlib inline\n",
    "\n",
    "# let's keep our keras backend tensorflow quiet\n",
    "import os\n",
    "os.environ['TF_CPP_MIN_LOG_LEVEL']='3'\n",
    "\n",
    "# keras imports for the dataset and building our neural network\n",
    "from keras_visualizer import visualizer\n",
    "from tensorflow.keras.datasets import mnist\n",
    "from tensorflow.keras.models import Sequential, load_model\n",
    "from tensorflow.keras.layers import Dense, Dropout, Activation\n",
    "from tensorflow.keras.utils import to_categorical\n",
    "\n",
    "# load the data\n",
    "(X_train, y_train), (X_test, y_test) = mnist.load_data()"
   ]
  },
  {
   "cell_type": "markdown",
   "metadata": {
    "cell_id": "00009-eac006c5-bbe3-467c-8452-e22e6a77aac4",
    "deepnote_cell_type": "markdown"
   },
   "source": [
    "Let's inspect a few examples. The MNIST dataset contains only grayscale images. For more advanced image datasets, we'll have the three color channels (RGB)."
   ]
  },
  {
   "cell_type": "code",
   "execution_count": 14,
   "metadata": {
    "cell_id": "00010-981ee8f4-902b-48f4-a828-56b3931a8894",
    "deepnote_cell_type": "code",
    "deepnote_output_heights": [
     269,
     269
    ],
    "deepnote_to_be_reexecuted": false,
    "execution_millis": 2713,
    "execution_start": 1641642501212,
    "nextjournal": {
     "id": "1bd5b5a5-b173-486f-afb2-cc6236d1bc25",
     "kind": "code",
     "language": "python"
    },
    "source_hash": "b2d52342"
   },
   "outputs": [
    {
     "name": "stderr",
     "output_type": "stream",
     "text": [
      "/tmp/ipykernel_3637/3187459407.py:9: UserWarning: Matplotlib is currently using module://matplotlib_inline.backend_inline, which is a non-GUI backend, so cannot show the figure.\n",
      "  fig.show()\n"
     ]
    },
    {
     "data": {
      "image/png": "[encoded data removed]",
      "text/plain": [
       "<Figure size 432x288 with 9 Axes>"
      ]
     },
     "metadata": {},
     "output_type": "display_data"
    }
   ],
   "source": [
    "fig = plt.figure()\n",
    "for i in range(9):\n",
    "  plt.subplot(3,3,i+1)\n",
    "  plt.tight_layout()\n",
    "  plt.imshow(X_train[i], cmap='gray', interpolation='none')\n",
    "  plt.title(\"Digit: {}\".format(y_train[i]))\n",
    "  plt.xticks([])\n",
    "  plt.yticks([])\n",
    "fig.show()"
   ]
  },
  {
   "cell_type": "markdown",
   "metadata": {
    "cell_id": "00011-e01aab6f-c2ab-44e6-953b-a410685a0c78",
    "deepnote_cell_type": "markdown"
   },
   "source": [
    "In order to train our neural network to classify images we first have to unroll the height $\\times$width pixel format into one big vector - the *input vector*. So its length must be $28 \\cdot 28 = 784$. But let's graph the distribution of our pixel values."
   ]
  },
  {
   "cell_type": "code",
   "execution_count": 15,
   "metadata": {
    "cell_id": "00012-701b108f-bc8b-464b-ae0d-3fd164fc16a9",
    "deepnote_cell_type": "code",
    "deepnote_output_heights": [
     266,
     266
    ],
    "deepnote_to_be_reexecuted": false,
    "execution_millis": 1071,
    "execution_start": 1641642503948,
    "nextjournal": {
     "id": "9ed29e16-0934-4ecd-a00c-2a2b69314a80",
     "kind": "code",
     "language": "python"
    },
    "source_hash": "86629bdd"
   },
   "outputs": [
    {
     "name": "stderr",
     "output_type": "stream",
     "text": [
      "/tmp/ipykernel_3637/1577449043.py:10: UserWarning: Matplotlib is currently using module://matplotlib_inline.backend_inline, which is a non-GUI backend, so cannot show the figure.\n",
      "  fig.show()\n"
     ]
    },
    {
     "data": {
      "image/png": "[encoded data removed]",
      "text/plain": [
       "<Figure size 432x288 with 2 Axes>"
      ]
     },
     "metadata": {
      "needs_background": "light"
     },
     "output_type": "display_data"
    }
   ],
   "source": [
    "fig = plt.figure()\n",
    "plt.subplot(2,1,1)\n",
    "plt.imshow(X_train[0], cmap='gray', interpolation='none')\n",
    "plt.title(\"Digit: {}\".format(y_train[0]))\n",
    "plt.xticks([])\n",
    "plt.yticks([])\n",
    "plt.subplot(2,1,2)\n",
    "plt.hist(X_train[0].reshape(784))\n",
    "plt.title(\"Pixel Value Distribution\")\n",
    "fig.show()"
   ]
  },
  {
   "cell_type": "markdown",
   "metadata": {
    "cell_id": "00013-94f388ff-9b40-42a0-850b-29466b93fe32",
    "deepnote_cell_type": "markdown"
   },
   "source": [
    "As expected, the pixel values range from 0 to 255: the background majority close to 0, and those close to 255 representing the digit.\n",
    "\n",
    "Normalizing the input data helps to speed up the training. Also, it reduces the chance of getting stuck in local optima, since we're using stochastic gradient descent to find the optimal weights for the network.\n",
    "\n",
    "Let's reshape our inputs to a single vector vector and normalize the pixel values to lie between 0 and 1."
   ]
  },
  {
   "cell_type": "code",
   "execution_count": 16,
   "metadata": {
    "cell_id": "00014-97942cf8-8f92-4d62-9ffd-66333a91c4cb",
    "deepnote_cell_type": "code",
    "deepnote_to_be_reexecuted": false,
    "execution_millis": 154,
    "execution_start": 1641642505103,
    "nextjournal": {
     "id": "60048064-31b8-4c49-9839-65f8c75d1baf",
     "kind": "code",
     "language": "python"
    },
    "source_hash": "91acb5d9"
   },
   "outputs": [
    {
     "name": "stdout",
     "output_type": "stream",
     "text": [
      "X_train shape (60000, 28, 28)\n",
      "y_train shape (60000,)\n",
      "X_test shape (10000, 28, 28)\n",
      "y_test shape (10000,)\n",
      "Train matrix shape (60000, 784)\n",
      "Test matrix shape (10000, 784)\n"
     ]
    }
   ],
   "source": [
    "# let's print the shape before we reshape and normalize\n",
    "print(\"X_train shape\", X_train.shape)\n",
    "print(\"y_train shape\", y_train.shape)\n",
    "print(\"X_test shape\", X_test.shape)\n",
    "print(\"y_test shape\", y_test.shape)\n",
    "\n",
    "# building the input vector from the 28x28 pixels\n",
    "X_train = X_train.reshape(60000, 784)\n",
    "X_test = X_test.reshape(10000, 784)\n",
    "X_train = X_train.astype('float32')\n",
    "X_test = X_test.astype('float32')\n",
    "\n",
    "# normalizing the data to help with the training\n",
    "X_train /= 255\n",
    "X_test /= 255\n",
    "\n",
    "# print the final input shape ready for training\n",
    "print(\"Train matrix shape\", X_train.shape)\n",
    "print(\"Test matrix shape\", X_test.shape)"
   ]
  },
  {
   "cell_type": "markdown",
   "metadata": {
    "cell_id": "00015-50555baf-5fa2-4dec-bf13-063c72e04b27",
    "deepnote_cell_type": "markdown"
   },
   "source": [
    "So far the *truth* (*Y* in machine learning lingo) we'll use for training still holds integer values from 0 to 9."
   ]
  },
  {
   "cell_type": "code",
   "execution_count": 17,
   "metadata": {
    "cell_id": "00016-06b2fc50-3d08-43c1-a54d-800855968691",
    "deepnote_cell_type": "code",
    "deepnote_to_be_reexecuted": false,
    "execution_millis": 50,
    "execution_start": 1641642505315,
    "nextjournal": {
     "id": "2851a44b-af0c-46ef-9e08-36877348901e",
     "kind": "code",
     "language": "python"
    },
    "source_hash": "a00bdeb"
   },
   "outputs": [
    {
     "name": "stdout",
     "output_type": "stream",
     "text": [
      "(array([0, 1, 2, 3, 4, 5, 6, 7, 8, 9], dtype=uint8), array([5923, 6742, 5958, 6131, 5842, 5421, 5918, 6265, 5851, 5949]))\n"
     ]
    }
   ],
   "source": [
    "print(np.unique(y_train, return_counts=True))"
   ]
  },
  {
   "cell_type": "markdown",
   "metadata": {
    "cell_id": "00017-678e3709-da55-43a5-9f17-c59d964b6541",
    "deepnote_cell_type": "markdown"
   },
   "source": [
    "Let's encode our categories - digits from 0 to 9 - using [one-hot encoding](https://hackernoon.com/what-is-one-hot-encoding-why-and-when-do-you-have-to-use-it-e3c6186d008f). The result is a vector with a length equal to the number of categories. The vector is all zeroes *except* in the position for the respective category. Thus a '`5`' will be represented by `[0,0,0,0,1,0,0,0,0]`."
   ]
  },
  {
   "cell_type": "code",
   "execution_count": 18,
   "metadata": {
    "cell_id": "00018-c6cf0d15-a645-4841-a6e2-79c0775d43c6",
    "deepnote_cell_type": "code",
    "deepnote_to_be_reexecuted": false,
    "execution_millis": 53,
    "execution_start": 1641642505364,
    "nextjournal": {
     "id": "e4c5b9d3-efa9-4e2a-9f39-6324378d9014",
     "kind": "code",
     "language": "python"
    },
    "source_hash": "6d595234"
   },
   "outputs": [
    {
     "name": "stdout",
     "output_type": "stream",
     "text": [
      "Shape before one-hot encoding:  (60000,)\n",
      "Shape after one-hot encoding:  (60000, 10)\n"
     ]
    }
   ],
   "source": [
    "# one-hot encoding using keras' numpy-related utilities\n",
    "n_classes = 10\n",
    "print(\"Shape before one-hot encoding: \", y_train.shape)\n",
    "Y_train = to_categorical(y_train, n_classes)\n",
    "Y_test = to_categorical(y_test, n_classes)\n",
    "print(\"Shape after one-hot encoding: \", Y_train.shape)"
   ]
  },
  {
   "cell_type": "markdown",
   "metadata": {
    "cell_id": "00019-96f7d338-65cd-4119-9125-d65050a1bb10",
    "deepnote_cell_type": "markdown"
   },
   "source": [
    "## Building the network\n",
    "\n",
    "Let's turn to Keras to build a neural network.\n",
    "\n",
    "Our pixel vector serves as the input. Then, we instantiate two hidden node layers with 256 and128 units, respectively, which is sufficiently complex for recognizing digits. For the multi-class classification we add another *densely-connected* (or *fully-connected*) layer for the 10 different output classes. For this network architecture we can use the [Keras Sequential Model](https://keras.io/models/sequential/). We can stack layers using the `.add()` method.\n",
    "\n",
    "When adding the first layer in the Sequential Model we need to specify the input shape so Keras can create the appropriate matrices. For all remaining layers the shape is inferred automatically. \n",
    "\n",
    "In order to introduce nonlinearities into the network and elevate it beyond the capabilities of a simple [perceptron](https://en.wikipedia.org/wiki/Perceptron) we also add activation functions to the *hidden layers.* The differentiation for the training via backpropagation is happening behind the scenes without having to implement the details. \n",
    "\n",
    "We also add *dropout* as a way to prevent overfitting. Here we randomly keep some network weights fixed when we would normally update them so that the network doesn't rely too much on very few nodes.\n",
    "\n",
    "The last layer consists of connections for our 10 classes and the [softmax activation](https://en.wikipedia.org/wiki/Softmax_function) which is standard for multi-class targets."
   ]
  },
  {
   "cell_type": "code",
   "execution_count": 19,
   "metadata": {
    "cell_id": "00020-a4001ec9-212a-4861-a332-a9b4ec57c15d",
    "deepnote_cell_type": "code",
    "deepnote_output_heights": [
     606.1875
    ],
    "deepnote_to_be_reexecuted": false,
    "execution_millis": 1610,
    "execution_start": 1641642505414,
    "nextjournal": {
     "id": "abbee50a-1c94-4887-bc63-cdcaa813c385",
     "kind": "code",
     "language": "python"
    },
    "source_hash": "c6b1ee87"
   },
   "outputs": [],
   "source": [
    "# building a linear stack of layers with the sequential model\n",
    "model = Sequential()\n",
    "model.add(Dense(256, input_shape=(784,)))\n",
    "model.add(Activation('relu'))                            \n",
    "model.add(Dropout(0.2))\n",
    "\n",
    "model.add(Dense(128))\n",
    "model.add(Activation('relu'))\n",
    "model.add(Dropout(0.2))\n",
    "\n",
    "model.add(Dense(10))\n",
    "model.add(Activation('softmax'))\n",
    "\n",
    "visualizer(model, filename='lab_10.9.2', format='png')"
   ]
  },
  {
   "cell_type": "markdown",
   "metadata": {
    "cell_id": "00016-056480af-3b2e-4534-84d6-cf20914718cc",
    "deepnote_cell_type": "markdown",
    "tags": []
   },
   "source": [
    "![](./lab_10.9.2.png)"
   ]
  },
  {
   "cell_type": "markdown",
   "metadata": {
    "cell_id": "00022-aa38e9e5-a4b3-4650-afad-fb8191a4e012",
    "deepnote_cell_type": "markdown"
   },
   "source": [
    "## Compiling and training the Model\n",
    "\n",
    "Now that the model is in place we configure the learning process using `.compile()`. Here we specify our *loss function* (or *objective function*). For our setting categorical cross entropy fits the bill, but in general other [loss functions](https://keras.io/losses/) are available. \n",
    "\n",
    "As for the [optimizer](https://keras.io/optimizers/) of choice we'll use [Adam](https://arxiv.org/abs/1412.6980v8) with default settings. We could also instantiate an optimizer and set parameters before passing it to `model.compile()` but for this example the defaults will do.\n",
    "\n",
    "We also choose which metrics will be evaluated during training and testing. We can pass any list of [metrics](https://keras.io/metrics/) - even build metrics ourselves - and have them displayed during training/testing. We'll stick to *accuracy* for now."
   ]
  },
  {
   "cell_type": "code",
   "execution_count": 20,
   "metadata": {
    "cell_id": "00023-012a7b48-930b-4e65-a60d-a66c4834e82e",
    "deepnote_cell_type": "code",
    "deepnote_to_be_reexecuted": false,
    "execution_millis": 68,
    "execution_start": 1641642507036,
    "nextjournal": {
     "id": "03b8ac9b-d073-41c8-840b-7bc5475ef23d",
     "kind": "code",
     "language": "python"
    },
    "source_hash": "84568d49"
   },
   "outputs": [],
   "source": [
    "# compiling the sequential model\n",
    "model.compile(loss='categorical_crossentropy', metrics=['accuracy'], optimizer='adam')"
   ]
  },
  {
   "cell_type": "markdown",
   "metadata": {
    "cell_id": "00024-21da1a5c-290c-4878-83b6-04278e749506",
    "deepnote_cell_type": "markdown"
   },
   "source": [
    "Having compiled our model we can now start the training process. We have to specify how many times we want to iterate on the whole training set (*epochs*) and how many samples we use for one update to the model's weights (*batch size*). Generally the bigger the batch, the more stable our stochastic gradient descent updates will be. But beware of (GPU) memory limitations! We're going for a batch size of 128 and 8 epochs.\n",
    "\n",
    "To get a handle on our training progress we also graph the *learning curve* for our model looking at the loss and accuracy.\n",
    "\n",
    "In order to work with the trained model and evaluate its performance we're saving the model in a `.h5` file."
   ]
  },
  {
   "cell_type": "code",
   "execution_count": 21,
   "metadata": {
    "cell_id": "00025-6e6e18f8-3f0e-402e-bf73-a95b2243ba81",
    "deepnote_cell_type": "code",
    "deepnote_output_heights": [
     2,
     98,
     136
    ],
    "deepnote_to_be_reexecuted": false,
    "execution_millis": 163003,
    "execution_start": 1641642507109,
    "nextjournal": {
     "id": "03ba7143-0469-4ab8-8850-a2a8fa3cb299",
     "kind": "code",
     "language": "python"
    },
    "source_hash": "33fa8d4"
   },
   "outputs": [
    {
     "name": "stdout",
     "output_type": "stream",
     "text": [
      "Epoch 1/20\n",
      "469/469 - 2s - loss: 0.3361 - accuracy: 0.8998 - val_loss: 0.1323 - val_accuracy: 0.9607 - 2s/epoch - 4ms/step\n",
      "Epoch 2/20\n",
      "469/469 - 2s - loss: 0.1398 - accuracy: 0.9588 - val_loss: 0.0927 - val_accuracy: 0.9703 - 2s/epoch - 3ms/step\n",
      "Epoch 3/20\n",
      "469/469 - 2s - loss: 0.0996 - accuracy: 0.9696 - val_loss: 0.0835 - val_accuracy: 0.9735 - 2s/epoch - 3ms/step\n",
      "Epoch 4/20\n",
      "469/469 - 2s - loss: 0.0785 - accuracy: 0.9758 - val_loss: 0.0727 - val_accuracy: 0.9766 - 2s/epoch - 3ms/step\n",
      "Epoch 5/20\n",
      "469/469 - 2s - loss: 0.0650 - accuracy: 0.9798 - val_loss: 0.0682 - val_accuracy: 0.9778 - 2s/epoch - 3ms/step\n",
      "Epoch 6/20\n",
      "469/469 - 2s - loss: 0.0562 - accuracy: 0.9815 - val_loss: 0.0672 - val_accuracy: 0.9795 - 2s/epoch - 3ms/step\n",
      "Epoch 7/20\n",
      "469/469 - 2s - loss: 0.0491 - accuracy: 0.9840 - val_loss: 0.0651 - val_accuracy: 0.9781 - 2s/epoch - 4ms/step\n",
      "Epoch 8/20\n",
      "469/469 - 2s - loss: 0.0428 - accuracy: 0.9860 - val_loss: 0.0622 - val_accuracy: 0.9812 - 2s/epoch - 3ms/step\n",
      "Epoch 9/20\n",
      "469/469 - 2s - loss: 0.0380 - accuracy: 0.9875 - val_loss: 0.0622 - val_accuracy: 0.9808 - 2s/epoch - 3ms/step\n",
      "Epoch 10/20\n",
      "469/469 - 2s - loss: 0.0343 - accuracy: 0.9883 - val_loss: 0.0705 - val_accuracy: 0.9804 - 2s/epoch - 3ms/step\n",
      "Epoch 11/20\n",
      "469/469 - 2s - loss: 0.0337 - accuracy: 0.9887 - val_loss: 0.0606 - val_accuracy: 0.9820 - 2s/epoch - 4ms/step\n",
      "Epoch 12/20\n",
      "469/469 - 2s - loss: 0.0295 - accuracy: 0.9900 - val_loss: 0.0602 - val_accuracy: 0.9836 - 2s/epoch - 3ms/step\n",
      "Epoch 13/20\n",
      "469/469 - 2s - loss: 0.0304 - accuracy: 0.9900 - val_loss: 0.0646 - val_accuracy: 0.9824 - 2s/epoch - 3ms/step\n",
      "Epoch 14/20\n",
      "469/469 - 2s - loss: 0.0247 - accuracy: 0.9919 - val_loss: 0.0676 - val_accuracy: 0.9828 - 2s/epoch - 3ms/step\n",
      "Epoch 15/20\n",
      "469/469 - 2s - loss: 0.0246 - accuracy: 0.9918 - val_loss: 0.0661 - val_accuracy: 0.9818 - 2s/epoch - 3ms/step\n",
      "Epoch 16/20\n",
      "469/469 - 2s - loss: 0.0260 - accuracy: 0.9912 - val_loss: 0.0730 - val_accuracy: 0.9811 - 2s/epoch - 3ms/step\n",
      "Epoch 17/20\n",
      "469/469 - 1s - loss: 0.0210 - accuracy: 0.9927 - val_loss: 0.0658 - val_accuracy: 0.9836 - 1s/epoch - 3ms/step\n",
      "Epoch 18/20\n",
      "469/469 - 1s - loss: 0.0203 - accuracy: 0.9929 - val_loss: 0.0729 - val_accuracy: 0.9815 - 1s/epoch - 3ms/step\n",
      "Epoch 19/20\n",
      "469/469 - 2s - loss: 0.0207 - accuracy: 0.9927 - val_loss: 0.0701 - val_accuracy: 0.9829 - 2s/epoch - 3ms/step\n",
      "Epoch 20/20\n",
      "469/469 - 2s - loss: 0.0208 - accuracy: 0.9932 - val_loss: 0.0758 - val_accuracy: 0.9824 - 2s/epoch - 3ms/step\n",
      "Saved trained model at keras_mnist.h5\n",
      "CPU times: user 1min 47s, sys: 27.1 s, total: 2min 15s\n",
      "Wall time: 31.9 s\n"
     ]
    }
   ],
   "source": [
    "%%time\n",
    "# training the model and saving metrics in history\n",
    "history = model.fit(X_train, Y_train,\n",
    "          batch_size=128, epochs=20,\n",
    "          verbose=2,\n",
    "          validation_data=(X_test, Y_test))\n",
    "\n",
    "# save the model\n",
    "model_name = 'keras_mnist.h5'\n",
    "model.save(model_name)\n",
    "print(f'Saved trained model at {model_name}')"
   ]
  },
  {
   "cell_type": "code",
   "execution_count": 22,
   "metadata": {
    "cell_id": "00021-b40bac60-cf33-4647-908d-be5eb3851b00",
    "deepnote_cell_type": "code",
    "deepnote_output_heights": [
     282,
     282
    ],
    "deepnote_to_be_reexecuted": false,
    "execution_millis": 1132,
    "execution_start": 1641642670118,
    "source_hash": "cc300b5e",
    "tags": []
   },
   "outputs": [
    {
     "name": "stderr",
     "output_type": "stream",
     "text": [
      "/tmp/ipykernel_3637/3179566346.py:20: UserWarning: Matplotlib is currently using module://matplotlib_inline.backend_inline, which is a non-GUI backend, so cannot show the figure.\n",
      "  fig.show()\n"
     ]
    },
    {
     "data": {
      "image/png": "[encoded data removed]",
      "text/plain": [
       "<Figure size 432x288 with 2 Axes>"
      ]
     },
     "metadata": {
      "needs_background": "light"
     },
     "output_type": "display_data"
    }
   ],
   "source": [
    "# plotting the metrics\n",
    "fig = plt.figure()\n",
    "plt.subplot(2,1,1)\n",
    "plt.plot(history.history['accuracy'])\n",
    "plt.plot(history.history['val_accuracy'])\n",
    "plt.title('model accuracy')\n",
    "plt.ylabel('accuracy')\n",
    "plt.xlabel('epoch')\n",
    "plt.legend(['train', 'test'], loc='lower right')\n",
    "\n",
    "plt.subplot(2,1,2)\n",
    "plt.plot(history.history['loss'])\n",
    "plt.plot(history.history['val_loss'])\n",
    "plt.title('model loss')\n",
    "plt.ylabel('loss')\n",
    "plt.xlabel('epoch')\n",
    "plt.legend(['train', 'test'], loc='upper right')\n",
    "\n",
    "plt.tight_layout()\n",
    "fig.show()"
   ]
  },
  {
   "cell_type": "markdown",
   "metadata": {
    "cell_id": "00026-61210eb1-2882-4635-a1c4-c25c7f4ca537",
    "deepnote_cell_type": "markdown"
   },
   "source": [
    "This learning curve looks quite good! We see that the loss on the training set is decreasing rapidly for the first two epochs. This shows the network is learning to classify the digits pretty fast. For the test set the loss does not decrease as fast but stays roughly within the same range as the training loss. This means our model generalizes well to unseen data.\n",
    "\n",
    "## Evaluate the model's performance\n",
    "\n",
    "It's time to reap the fruits of our neural network training. Let's see how well we the model performs on the test set. The `model.evaluate()` method computes the loss and any metric defined when compiling the model. So in our case the accuracy is computed on the 10,000 testing examples using the network weights given by the saved model."
   ]
  },
  {
   "cell_type": "code",
   "execution_count": 23,
   "metadata": {
    "cell_id": "00027-5578222d-5c77-43b2-837f-bb39960892eb",
    "deepnote_cell_type": "code",
    "deepnote_to_be_reexecuted": false,
    "execution_millis": 1395,
    "execution_start": 1641642671254,
    "nextjournal": {
     "id": "7f917151-b364-4f7d-9ea7-5ed43dfdb925",
     "kind": "code",
     "language": "python"
    },
    "source_hash": "446c3a3d"
   },
   "outputs": [
    {
     "name": "stdout",
     "output_type": "stream",
     "text": [
      "313/313 - 0s - loss: 0.0758 - accuracy: 0.9824 - 369ms/epoch - 1ms/step\n",
      "Test Loss 0.07581265270709991\n",
      "Test Accuracy 0.9824000000953674\n"
     ]
    }
   ],
   "source": [
    "mnist_model = load_model(\"keras_mnist.h5\")\n",
    "loss_and_metrics = mnist_model.evaluate(X_test, Y_test, verbose=2)\n",
    "\n",
    "print(\"Test Loss\", loss_and_metrics[0])\n",
    "print(\"Test Accuracy\", loss_and_metrics[1])"
   ]
  },
  {
   "cell_type": "markdown",
   "metadata": {
    "cell_id": "00028-f5cb5456-280e-4e4a-856b-7a74e44c6192",
    "deepnote_cell_type": "markdown"
   },
   "source": [
    "This accuracy looks very good! But let's stay neutral here and evaluate both correctly and incorrectly classified examples. We'll look at 9 examples each."
   ]
  },
  {
   "cell_type": "code",
   "execution_count": 24,
   "metadata": {
    "cell_id": "00029-0fdd2cbf-104e-44da-a22d-91106ee8ee1f",
    "deepnote_cell_type": "code",
    "deepnote_output_heights": [
     611,
     611,
     611
    ],
    "deepnote_to_be_reexecuted": false,
    "execution_millis": 3662,
    "execution_start": 1641643780990,
    "nextjournal": {
     "id": "21c96142-63bd-4195-a4bb-81c791175fcc",
     "kind": "code",
     "language": "python"
    },
    "source_hash": "f06caa7a"
   },
   "outputs": [
    {
     "name": "stdout",
     "output_type": "stream",
     "text": [
      "\n",
      "9824  classified correctly\n",
      "176  classified incorrectly\n"
     ]
    },
    {
     "name": "stderr",
     "output_type": "stream",
     "text": [
      "/tmp/ipykernel_3637/2881203939.py:37: UserWarning: Matplotlib is currently using module://matplotlib_inline.backend_inline, which is a non-GUI backend, so cannot show the figure.\n",
      "  figure_evaluation.show()\n"
     ]
    },
    {
     "data": {
      "image/png": "[encoded data removed]",
      "text/plain": [
       "<Figure size 504x1008 with 18 Axes>"
      ]
     },
     "metadata": {},
     "output_type": "display_data"
    }
   ],
   "source": [
    "# load the model and create predictions on the test set\n",
    "mnist_model = load_model(\"./keras_mnist.h5\")\n",
    "predicted_classes = np.argmax(mnist_model.predict(X_test), axis=-1)\n",
    "\n",
    "# see which we predicted correctly and which not\n",
    "correct_indices = np.nonzero(predicted_classes == y_test)[0]\n",
    "incorrect_indices = np.nonzero(predicted_classes != y_test)[0]\n",
    "print()\n",
    "print(len(correct_indices),\" classified correctly\")\n",
    "print(len(incorrect_indices),\" classified incorrectly\")\n",
    "\n",
    "# adapt figure size to accomodate 18 subplots\n",
    "plt.rcParams['figure.figsize'] = (7,14)\n",
    "\n",
    "figure_evaluation = plt.figure()\n",
    "\n",
    "# plot 9 correct predictions\n",
    "for i, correct in enumerate(correct_indices[:9]):\n",
    "    plt.subplot(6,3,i+1)\n",
    "    plt.imshow(X_test[correct].reshape(28,28), cmap='gray', interpolation='none')\n",
    "    plt.title(\n",
    "      \"Predicted: {}, Truth: {}\".format(predicted_classes[correct],\n",
    "                                        y_test[correct]))\n",
    "    plt.xticks([])\n",
    "    plt.yticks([])\n",
    "\n",
    "# plot 9 incorrect predictions\n",
    "for i, incorrect in enumerate(incorrect_indices[:9]):\n",
    "    plt.subplot(6,3,i+10)\n",
    "    plt.imshow(X_test[incorrect].reshape(28,28), cmap='gray', interpolation='none')\n",
    "    plt.title(\n",
    "      \"Predicted {}, Truth: {}\".format(predicted_classes[incorrect], \n",
    "                                       y_test[incorrect]))\n",
    "    plt.xticks([])\n",
    "    plt.yticks([])\n",
    "\n",
    "figure_evaluation.show()"
   ]
  },
  {
   "cell_type": "markdown",
   "metadata": {
    "cell_id": "00030-1913ae9e-dba0-4115-9cc8-336900c6da2d",
    "deepnote_cell_type": "markdown"
   },
   "source": [
    "As we can see, the wrong predictions are quite forgiveable since they're in some cases even hard to recognize for the human reader. \n",
    "\n",
    "In summary we used Keras with a Tensorflow backend on simpel CPU to train a neural network to recognize handwritten digits in under 3 minutes of training time - all that without having to spin up any compute instances, only using our browser.\n",
    "\n",
    "In the next article of this series (coming soon) we'll harness the power of GPUs even more to train more complex neural networks which include [convolutional layers](https://en.wikipedia.org/wiki/Convolutional_neural_network)."
   ]
  }
 ],
 "metadata": {
  "deepnote": {},
  "deepnote_execution_queue": [],
  "deepnote_notebook_id": "e954c2bd-f002-4769-9beb-3d5e2ae14166",
  "kernelspec": {
   "display_name": "Python 3 (ipykernel)",
   "language": "python",
   "name": "python3"
  },
  "language_info": {
   "codemirror_mode": {
    "name": "ipython",
    "version": 3
   },
   "file_extension": ".py",
   "mimetype": "text/x-python",
   "name": "python",
   "nbconvert_exporter": "python",
   "pygments_lexer": "ipython3",
   "version": "3.8.10"
  },
  "nextjournal": {
   "nodes-edn": "{\"1bd5b5a5-b173-486f-afb2-cc6236d1bc25\" {:content \"fig = plt.figure()\\nfor i in range(9):\\n  plt.subplot(3,3,i+1)\\n  plt.tight_layout()\\n  plt.imshow(X_train[i], cmap='gray', interpolation='none')\\n  plt.title(\\\"Digit: {}\\\".format(y_train[i]))\\n  plt.xticks([])\\n  plt.yticks([])\\nfig\", :execution-hash 46961376, :name \"plot-examples\", :output-log-lines {}, :scope nil, :language \"python\", :id \"1bd5b5a5-b173-486f-afb2-cc6236d1bc25\", :compute-ref #uuid \"cd1adb58-2e89-4c29-b5de-e26e6052f992\", :runtime [:runtime \"6f3a733f-53eb-402d-86be-db838828a0b8\"], :kind \"code\", :docker-image \"eu.gcr.io/nextjournal-com/checkpoints:6ffddb689c90d90e22d7f5b349122816\", :error nil, :exec-duration 1184, :criu-checkpoint \"6ffddb689c90d90e22d7f5b349122816\"}, \"c491dfcd-a313-4095-a993-38d39e1d17cc\" {:id \"c491dfcd-a313-4095-a993-38d39e1d17cc\", :kind \"signup\"}, \"03ba7143-0469-4ab8-8850-a2a8fa3cb299\" {:content \"# training the model and saving metrics in history\\nhistory = model.fit(X_train, Y_train,\\n          batch_size=128, epochs=20,\\n          verbose=2,\\n          validation_data=(X_test, Y_test))\\n\\n# saving the model\\nsave_dir = \\\"/results/\\\"\\nmodel_name = 'keras_mnist.h5'\\nmodel_path = os.path.join(save_dir, model_name)\\nmodel.save(model_path)\\nprint('Saved trained model at %s ' % model_path)\\n\\n# plotting the metrics\\nfig = plt.figure()\\nplt.subplot(2,1,1)\\nplt.plot(history.history['acc'])\\nplt.plot(history.history['val_acc'])\\nplt.title('model accuracy')\\nplt.ylabel('accuracy')\\nplt.xlabel('epoch')\\nplt.legend(['train', 'test'], loc='lower right')\\n\\nplt.subplot(2,1,2)\\nplt.plot(history.history['loss'])\\nplt.plot(history.history['val_loss'])\\nplt.title('model loss')\\nplt.ylabel('loss')\\nplt.xlabel('epoch')\\nplt.legend(['train', 'test'], loc='upper right')\\n\\nplt.tight_layout()\\n\\nfig\", :execution-hash 121686107, :name \"train-model\", :output-log-lines {:stdout 43}, :scope nil, :language \"python\", :id \"03ba7143-0469-4ab8-8850-a2a8fa3cb299\", :compute-ref #uuid \"11bbdca2-124e-4acb-8945-a4ea3486ccc8\", :runtime [:runtime \"6f3a733f-53eb-402d-86be-db838828a0b8\"], :kind \"code\", :docker-image \"eu.gcr.io/nextjournal-com/checkpoints:40c6f986206ba36f39f6d4d9cc9d1b6c\", :error nil, :exec-duration 55633, :criu-checkpoint nil}, \"abbee50a-1c94-4887-bc63-cdcaa813c385\" {:content \"# building a linear stack of layers with the sequential model\\nmodel = Sequential()\\nmodel.add(Dense(512, input_shape=(784,)))\\nmodel.add(Activation('relu'))                            \\nmodel.add(Dropout(0.2))\\n\\nmodel.add(Dense(512))\\nmodel.add(Activation('relu'))\\nmodel.add(Dropout(0.2))\\n\\nmodel.add(Dense(10))\\nmodel.add(Activation('softmax'))\", :execution-hash 24093536, :name \"nn-setup\", :output-log-lines {}, :scope nil, :language \"python\", :id \"abbee50a-1c94-4887-bc63-cdcaa813c385\", :compute-ref #uuid \"bafcb581-ab42-4835-ab08-f84ce63f381a\", :runtime [:runtime \"6f3a733f-53eb-402d-86be-db838828a0b8\"], :kind \"code\", :docker-image \"eu.gcr.io/nextjournal-com/checkpoints:df79881c640fa7d54f6204ee5966e7fe\", :error nil, :exec-duration 278, :criu-checkpoint \"df79881c640fa7d54f6204ee5966e7fe\"}, \"0faf4592-e228-41e5-b0df-084183540673\" {:content \"conda install -y -c anaconda \\\\\\n  tensorflow-gpu h5py cudatoolkit=8\\n  \\npip install keras\", :execution-hash 117855988, :name nil, :output-log-lines {:stdout 125}, :scope nil, :language \"bash\", :id \"0faf4592-e228-41e5-b0df-084183540673\", :compute-ref #uuid \"60fdac30-6b60-11e8-b7ce-8ab3fb67dad5\", :runtime [:runtime \"cf8e6214-03e3-4662-9f39-b40673a6c19c\"], :kind \"code\", :locked? false, :docker-image \"eu.gcr.io/nextjournal-com/checkpoints:c52a73142e0ce65c2fea84a113deb3b6\", :error nil, :exec-duration 250893, :criu-checkpoint nil}, \"e120298c-9524-42ba-8332-f861a95db7fb\" {:id \"e120298c-9524-42ba-8332-f861a95db7fb\", :kind \"signup\"}, \"01002b11-4266-49b2-a07b-2e80165d2d1f\" {:content \"python -c 'from keras.datasets import mnist\\nmnist.load_data()'\", :output-log-lines {:stdout 130}, :language \"bash\", :id \"01002b11-4266-49b2-a07b-2e80165d2d1f\", :compute-ref #uuid \"f68ba720-6b60-11e8-b7ce-8ab3fb67dad5\", :runtime [:runtime \"cf8e6214-03e3-4662-9f39-b40673a6c19c\"], :kind \"code\", :error nil, :exec-duration 12565}, \"cf8e6214-03e3-4662-9f39-b40673a6c19c\" {:runtime/inherited-environment-variables ({:name \"PATH\", :value \"/opt/conda/bin:/usr/local/nvidia/bin:/usr/local/cuda/bin:/usr/local/sbin:/usr/local/bin:/usr/sbin:/usr/bin:/sbin:/bin\"} {:name \"MPLBACKEND\", :value \"svg\"} {:name \"LC_ALL\", :value \"en_US.UTF-8\"} {:name \"LANGUAGE\", :value \"en_US.en\"} {:name \"LANG\", :value \"en_US.UTF-8\"} {:name \"DEBIAN_FRONTEND\", :value \"noninteractive\"} {:name \"BASH_ENV\", :value \"/.bash_profile\"} {:name \"LD_LIBRARY_PATH\", :value \"/usr/local/nvidia/lib64/:/usr/local/cuda/lib64/\"}), :name \"Install\", :docker/environment-image \"eu.gcr.io/nextjournal-com/environment@sha256:b53e86c89d41a9e5dac4d01ede3c3152a29047a6544d3fed9169a8d3c497bfd4\", :type :nextjournal, :environment? true, :language \"bash\", :id \"cf8e6214-03e3-4662-9f39-b40673a6c19c\", :kind \"runtime\", :changed? false, :error nil, :environment [:environment {:node/id \"2d7db078-e0cf-483e-a118-89ddc1d4adab\", :article/nextjournal.id #uuid \"5accb601-b16a-4637-ae55-5fd73544a52f\", :change/nextjournal.id #uuid \"5b101a6e-8be7-4492-97da-65ef13c070a6\"}], :environment/name \"Install\", :diff \"\"}, \"03b8ac9b-d073-41c8-840b-7bc5475ef23d\" {:content \"# compiling the sequential model\\nmodel.compile(loss='categorical_crossentropy', metrics=['accuracy'], optimizer='adam')\", :execution-hash 11359234, :name \"compile-model\", :output-log-lines {}, :scope nil, :language \"python\", :id \"03b8ac9b-d073-41c8-840b-7bc5475ef23d\", :compute-ref #uuid \"84c6272a-3205-47d3-8f20-30616ed60417\", :runtime [:runtime \"6f3a733f-53eb-402d-86be-db838828a0b8\"], :kind \"code\", :docker-image \"eu.gcr.io/nextjournal-com/checkpoints:eb5a4df264a6f56d5c91a2cff39d2f4b\", :error nil, :exec-duration 258, :criu-checkpoint \"eb5a4df264a6f56d5c91a2cff39d2f4b\"}, \"e4c5b9d3-efa9-4e2a-9f39-6324378d9014\" {:content \"# one-hot encoding using keras' numpy-related utilities\\nn_classes = 10\\nprint(\\\"Shape before one-hot encoding: \\\", y_train.shape)\\nY_train = np_utils.to_categorical(y_train, n_classes)\\nY_test = np_utils.to_categorical(y_test, n_classes)\\nprint(\\\"Shape after one-hot encoding: \\\", Y_train.shape)\", :execution-hash 83412525, :name \"one-hot-encoding\", :output-log-lines {:stdout 3}, :scope nil, :language \"python\", :id \"e4c5b9d3-efa9-4e2a-9f39-6324378d9014\", :compute-ref #uuid \"eec373e3-f4c9-48ab-b1d7-a17e338ffb10\", :runtime [:runtime \"6f3a733f-53eb-402d-86be-db838828a0b8\"], :kind \"code\", :docker-image \"eu.gcr.io/nextjournal-com/checkpoints:3638b6d5592ba387f913cbafc2a65a59\", :error nil, :exec-duration 322, :criu-checkpoint \"3638b6d5592ba387f913cbafc2a65a59\"}, \"60048064-31b8-4c49-9839-65f8c75d1baf\" {:content \"# let's print the shape before we reshape and normalize\\nprint(\\\"X_train shape\\\", X_train.shape)\\nprint(\\\"y_train shape\\\", y_train.shape)\\nprint(\\\"X_test shape\\\", X_test.shape)\\nprint(\\\"y_test shape\\\", y_test.shape)\\n\\n# building the input vector from the 28x28 pixels\\nX_train = X_train.reshape(60000, 784)\\nX_test = X_test.reshape(10000, 784)\\nX_train = X_train.astype('float32')\\nX_test = X_test.astype('float32')\\n\\n# normalizing the data to help with the training\\nX_train /= 255\\nX_test /= 255\\n\\n# print the final input shape ready for training\\nprint(\\\"Train matrix shape\\\", X_train.shape)\\nprint(\\\"Test matrix shape\\\", X_test.shape)\", :execution-hash 121062391, :name \"input-formatting\", :output-log-lines {:stdout 7}, :scope nil, :language \"python\", :id \"60048064-31b8-4c49-9839-65f8c75d1baf\", :compute-ref #uuid \"1cec6897-f39d-4b98-95ee-e2ba4611dc99\", :runtime [:runtime \"6f3a733f-53eb-402d-86be-db838828a0b8\"], :kind \"code\", :docker-image \"eu.gcr.io/nextjournal-com/checkpoints:637fe341d6dfb96cc340f88038ff00f3\", :error nil, :exec-duration 345, :criu-checkpoint \"637fe341d6dfb96cc340f88038ff00f3\"}, \"7f917151-b364-4f7d-9ea7-5ed43dfdb925\" {:content \"mnist_model = load_model($$ref{{[\\\"~:output\\\",\\\"03ba7143-0469-4ab8-8850-a2a8fa3cb299\\\",\\\"keras_mnist.h5\\\"]}})\\nloss_and_metrics = mnist_model.evaluate(X_test, Y_test, verbose=2)\\n\\nprint(\\\"Test Loss\\\", loss_and_metrics[0])\\nprint(\\\"Test Accuracy\\\", loss_and_metrics[1])\", :execution-hash 78018430, :name \"evaluate\", :output-log-lines {:stdout 3}, :scope nil, :language \"python\", :id \"7f917151-b364-4f7d-9ea7-5ed43dfdb925\", :compute-ref #uuid \"a96c0fce-7a3e-4afa-9f2c-0379894056ac\", :runtime [:runtime \"6f3a733f-53eb-402d-86be-db838828a0b8\"], :kind \"code\", :docker-image \"eu.gcr.io/nextjournal-com/checkpoints:0285ec86c76c748e096287b9eab23a65\", :error nil, :exec-duration 1998, :criu-checkpoint nil}, \"775267f3-e650-4a2c-88f0-f1bf548dc1bf\" {:content \"# imports for array-handling and plotting\\nimport numpy as np\\nimport matplotlib\\nmatplotlib.use('agg')\\nimport matplotlib.pyplot as plt\\n\\n# let's keep our keras backend tensorflow quiet\\nimport os\\nos.environ['TF_CPP_MIN_LOG_LEVEL']='3'\\n# for testing on CPU\\n#os.environ['CUDA_VISIBLE_DEVICES'] = ''\\n\\n# keras imports for the dataset and building our neural network\\nfrom keras.datasets import mnist\\nfrom keras.models import Sequential, load_model\\nfrom keras.layers.core import Dense, Dropout, Activation\\nfrom keras.utils import np_utils\", :execution-hash 51134437, :name \"imports\", :output-log-lines {:stdout 2}, :scope nil, :language \"python\", :id \"775267f3-e650-4a2c-88f0-f1bf548dc1bf\", :compute-ref #uuid \"bdbbdf3e-ce80-4c7b-9928-14e92f736a1b\", :runtime [:runtime \"6f3a733f-53eb-402d-86be-db838828a0b8\"], :kind \"code\", :docker-image \"eu.gcr.io/nextjournal-com/checkpoints:17d09541a19f4f5064a8cedbf42a9d25\", :error nil, :exec-duration 1425, :criu-checkpoint \"17d09541a19f4f5064a8cedbf42a9d25\"}, \"21c96142-63bd-4195-a4bb-81c791175fcc\" {:content \"# load the model and create predictions on the test set\\nmnist_model = load_model($$ref{{[\\\"~:output\\\",\\\"03ba7143-0469-4ab8-8850-a2a8fa3cb299\\\",\\\"keras_mnist.h5\\\"]}})\\npredicted_classes = mnist_model.predict_classes(X_test)\\n\\n# see which we predicted correctly and which not\\ncorrect_indices = np.nonzero(predicted_classes == y_test)[0]\\nincorrect_indices = np.nonzero(predicted_classes != y_test)[0]\\nprint()\\nprint(len(correct_indices),\\\" classified correctly\\\")\\nprint(len(incorrect_indices),\\\" classified incorrectly\\\")\\n\\n# adapt figure size to accomodate 18 subplots\\nplt.rcParams['figure.figsize'] = (7,14)\\n\\nfigure_evaluation = plt.figure()\\n\\n# plot 9 correct predictions\\nfor i, correct in enumerate(correct_indices[:9]):\\n    plt.subplot(6,3,i+1)\\n    plt.imshow(X_test[correct].reshape(28,28), cmap='gray', interpolation='none')\\n    plt.title(\\n      \\\"Predicted: {}, Truth: {}\\\".format(predicted_classes[correct],\\n                                        y_test[correct]))\\n    plt.xticks([])\\n    plt.yticks([])\\n\\n# plot 9 incorrect predictions\\nfor i, incorrect in enumerate(incorrect_indices[:9]):\\n    plt.subplot(6,3,i+10)\\n    plt.imshow(X_test[incorrect].reshape(28,28), cmap='gray', interpolation='none')\\n    plt.title(\\n      \\\"Predicted {}, Truth: {}\\\".format(predicted_classes[incorrect], \\n                                       y_test[incorrect]))\\n    plt.xticks([])\\n    plt.yticks([])\\n\\nfigure_evaluation\", :execution-hash 112246374, :name \"evaluate-examples\", :output-log-lines {:stdout 4}, :scope nil, :language \"python\", :id \"21c96142-63bd-4195-a4bb-81c791175fcc\", :compute-ref #uuid \"5deec13f-9de4-41f9-8604-6555b50090b8\", :runtime [:runtime \"6f3a733f-53eb-402d-86be-db838828a0b8\"], :kind \"code\", :docker-image \"eu.gcr.io/nextjournal-com/checkpoints:5858e1475f53af6f4fd00616de1b85fd\", :error nil, :exec-duration 2366, :criu-checkpoint nil}, \"941d6d2b-7fec-420f-bd09-ca79ce5a63f3\" {:content \"nvidia-smi\", :output-log-lines {:stdout 17}, :language \"bash\", :id \"941d6d2b-7fec-420f-bd09-ca79ce5a63f3\", :compute-ref #uuid \"9dce70cf-ec27-4c57-b18b-f4f4fe625f4a\", :runtime [:runtime \"6f3a733f-53eb-402d-86be-db838828a0b8\"], :kind \"code\", :error nil, :exec-duration 372}, \"6f3a733f-53eb-402d-86be-db838828a0b8\" {:runtime/inherited-environment-variables ({:name \"PATH\", :value \"/opt/conda/bin:/usr/local/nvidia/bin:/usr/local/cuda/bin:/usr/local/sbin:/usr/local/bin:/usr/sbin:/usr/bin:/sbin:/bin\"} {:name \"MPLBACKEND\", :value \"svg\"} {:name \"LC_ALL\", :value \"en_US.UTF-8\"} {:name \"LANGUAGE\", :value \"en_US.en\"} {:name \"LANG\", :value \"en_US.UTF-8\"} {:name \"DEBIAN_FRONTEND\", :value \"noninteractive\"} {:name \"BASH_ENV\", :value \"/.bash_profile\"} {:name \"LD_LIBRARY_PATH\", :value \"/usr/local/nvidia/lib64/:/usr/local/cuda/lib64/\"}), :name \"Main\", :output-log-lines nil, :type :nextjournal, :language \"python\", :id \"6f3a733f-53eb-402d-86be-db838828a0b8\", :compute-ref #uuid \"e2e60bf5-1e14-46af-b7ec-91fcdfcc3c97\", :kind \"runtime\", :error nil, :environment [:environment \"cf8e6214-03e3-4662-9f39-b40673a6c19c\"], :resources {:machine-type \"n1-standard-4\", :accelerator-type \"nvidia-tesla-k80\", :accelerator-count 1}}, \"a67d25ef-4ca3-438d-a558-331d91579e54\" {:content \"(X_train, y_train), (X_test, y_test) = mnist.load_data()\", :execution-hash 11114680, :name \"train-test-split\", :output-log-lines {}, :scope nil, :language \"python\", :id \"a67d25ef-4ca3-438d-a558-331d91579e54\", :compute-ref #uuid \"70b3132b-2982-44f8-ab7d-89bfce4f5a9a\", :runtime [:runtime \"6f3a733f-53eb-402d-86be-db838828a0b8\"], :kind \"code\", :docker-image \"eu.gcr.io/nextjournal-com/checkpoints:b905b975133ee8dd76a019ab51b5f1ea\", :error nil, :exec-duration 472, :criu-checkpoint \"b905b975133ee8dd76a019ab51b5f1ea\"}, \"9ed29e16-0934-4ecd-a00c-2a2b69314a80\" {:content \"fig = plt.figure()\\nplt.subplot(2,1,1)\\nplt.imshow(X_train[0], cmap='gray', interpolation='none')\\nplt.title(\\\"Digit: {}\\\".format(y_train[0]))\\nplt.xticks([])\\nplt.yticks([])\\nplt.subplot(2,1,2)\\nplt.hist(X_train[0].reshape(784))\\nplt.title(\\\"Pixel Value Distribution\\\")\\nfig\", :execution-hash 109300958, :popover false, :name \"pixel-distribution\", :line-results \"None\\nAxes(0.125,0.53;0.775x0.35)\\nAxesImage(87.5,371;542.5x245)\\nText(0.5,1,u'Class 5')\\n([], <a list of 0 Text xtickla...\\n([], <a list of 0 Text ytickla...\\nAxes(0.125,0.11;0.775x0.35)\\n(array([ 639.,   11.,    6.,  ...\\nText(0.5,1,u'Pixel Value Distr...\\nFigure(700x700)\\n\", :active-requests [], :output-log-lines {}, :scope nil, :commands {}, :language \"python\", :id \"9ed29e16-0934-4ecd-a00c-2a2b69314a80\", :compute-ref #uuid \"3f78a8e8-c31a-46c1-980f-79f722a34716\", :runtime [:runtime \"6f3a733f-53eb-402d-86be-db838828a0b8\"], :kind \"code\", :docker-image \"eu.gcr.io/nextjournal-com/checkpoints:b9c5102545883d7241b33a5ec01a6475\", :resolved-content \"\", :error nil, :exec-duration 661, :criu-checkpoint \"b9c5102545883d7241b33a5ec01a6475\", :stdout \"\"}, \"2851a44b-af0c-46ef-9e08-36877348901e\" {:content \"print(np.unique(y_train, return_counts=True))\", :execution-hash 118322401, :name \"y-value-counts\", :output-log-lines {:stdout 2}, :scope nil, :language \"python\", :id \"2851a44b-af0c-46ef-9e08-36877348901e\", :compute-ref #uuid \"acf64dbb-8270-4ca9-9d9c-dd12f9348d67\", :runtime [:runtime \"6f3a733f-53eb-402d-86be-db838828a0b8\"], :kind \"code\", :docker-image \"eu.gcr.io/nextjournal-com/checkpoints:a6d4fe001c7557d8b098c03d7fa7a8a5\", :error nil, :exec-duration 353, :criu-checkpoint \"a6d4fe001c7557d8b098c03d7fa7a8a5\"}, \"7181e0a8-1b04-49fd-a703-eee3b044ddfa\" {:id \"7181e0a8-1b04-49fd-a703-eee3b044ddfa\", :kind \"reference\", :link [:output \"03ba7143-0469-4ab8-8850-a2a8fa3cb299\" \"keras_mnist.h5\"]}, \"ac0a2d99-d702-480e-80ae-c9498cf04abe\" {:id \"ac0a2d99-d702-480e-80ae-c9498cf04abe\", :kind \"reference\", :link [:output \"03ba7143-0469-4ab8-8850-a2a8fa3cb299\" \"keras_mnist.h5\"]}}",
   "runtime-id": "6f3a733f-53eb-402d-86be-db838828a0b8",
   "url": "https://nextjournal.com/gkoehler/digit-recognition-with-keras"
  }
 },
 "nbformat": 4,
 "nbformat_minor": 4
}
