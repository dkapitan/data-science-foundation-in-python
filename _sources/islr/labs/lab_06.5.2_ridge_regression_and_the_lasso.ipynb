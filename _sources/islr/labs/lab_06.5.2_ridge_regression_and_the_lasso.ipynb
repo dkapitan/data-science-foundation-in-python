{
 "cells": [
  {
   "cell_type": "markdown",
   "metadata": {},
   "source": [
    "# Lab 6.5.2: Ridge Regression and the Lasso\n",
    "\n",
    "## Attribution\n",
    "\n",
    "Orignal notebook by Emre Can ([source](https://github.com/emredjan/ISL-python/blob/master/labs/lab_06.6_ridge_regression_and_the_lasso.ipynb)). Updated to ISLRv2 by Daniel Kapitan (30-01-2022).\n",
    "\n",
    "\n",
    "## Introduction\n",
    "We will use `Ridge`, `RidgeCV`, `Lasso` and `LassoCV` from `sklearn.linear_model` to perform ridge regression and the lasso. We will do this in order to predict `Salary` on the `Hitters` data. We have already removed missing values upon loading the data from csv, but still need to transform qualitative variables into dummy variables. The latter is important because `sklearn` can only take numerical, quantitative inputs."
   ]
  },
  {
   "cell_type": "code",
   "execution_count": 1,
   "metadata": {},
   "outputs": [],
   "source": [
    "import matplotlib.pyplot as plt\n",
    "import numpy as np\n",
    "import pandas as pd\n",
    "from sklearn.linear_model import Ridge, RidgeCV, Lasso, LassoCV\n",
    "from sklearn.metrics import mean_squared_error\n",
    "from sklearn.model_selection import train_test_split\n",
    "from sklearn.pipeline import make_pipeline\n",
    "from sklearn.preprocessing import StandardScaler\n",
    "\n",
    "%matplotlib inline\n",
    "pd.set_option(\"display.max_rows\", 20)\n",
    "pd.set_option(\"display.max_columns\", 12)\n",
    "pd.set_option(\"display.float_format\", \"{:20,.5f}\".format)\n",
    "\n",
    "hitters = pd.read_csv(\"../datasets/Hitters.csv\", index_col=0).dropna()\n",
    "hitters.index.name = \"Player\"\n",
    "\n",
    "X = hitters.drop(columns=['Salary'])\n",
    "y = hitters.Salary\n",
    "for col in ['League', 'Division', 'NewLeague']:\n",
    "        X[col] = pd.get_dummies(X[col]).iloc[:, 1]"
   ]
  },
  {
   "cell_type": "markdown",
   "metadata": {},
   "source": [
    "## Ridge Regression\n",
    "\n",
    "In `sklearn` the regularization parameter $\\lambda$ is named `alpha`, as is the case for the `Ridge` and `RidgeCV` classes. We choose to implement the function over a grid of values ranging from $\\lambda = 10^{10}$ to $\\lambda = 10^{-2}$, essentially covering the full range of scenarios from the null model containing only the intercept, to the least squares fit. As we will see, we can also compute model fits for a particular $\\lambda$ that is not one of the original `grid` values. Note that `sklearn.linear_model` does not standardize by default. To this purpose, we recommend to use `StandardScaler` as a preprocessing step in a `Pipeline` object.\n",
    "\n",
    "Associated with each value of $\\lambda$ is a vector of ridge regression coefficients, stored in a matrix that can be accessed with the `coef_` attribute. Because we are using a `Pipeline`, we need to specify the named step in the pipeline for which we want to access an attribute."
   ]
  },
  {
   "cell_type": "code",
   "execution_count": 2,
   "metadata": {},
   "outputs": [],
   "source": [
    "grid = 10 ** np.linspace(10, -2, 100)\n",
    "ridge_model = make_pipeline(StandardScaler(with_mean=False), Ridge())\n",
    "models = {}\n",
    "\n",
    "for i, a in enumerate(grid):\n",
    "    ridge_model.set_params(ridge__alpha=a)\n",
    "    ridge_model.fit(X, y)\n",
    "    models[i] = {\"alpha\": a,\n",
    "        \"coefs\": ridge_model.named_steps[\"ridge\"].coef_,\n",
    "        \"intercept\": ridge_model.named_steps[\"ridge\"].intercept_,\n",
    "    }"
   ]
  },
  {
   "cell_type": "code",
   "execution_count": 3,
   "metadata": {},
   "outputs": [
    {
     "data": {
      "text/plain": [
       "{'alpha': 11497.569953977356,\n",
       " 'coefs': array([ 3.49457396,  3.95273518,  2.98390005,  3.75468987,  3.9810762 ,\n",
       "         3.99185664,  3.46120924,  4.61714183,  4.84825026,  4.62598752,\n",
       "         4.9699381 ,  5.0089575 ,  4.27552715, -0.03422276, -1.87780156,\n",
       "         2.83798607,  0.23644179, -0.06961642,  0.04848929]),\n",
       " 'intercept': 453.41464799826485}"
      ]
     },
     "execution_count": 3,
     "metadata": {},
     "output_type": "execute_result"
    }
   ],
   "source": [
    "models[49]"
   ]
  },
  {
   "cell_type": "code",
   "execution_count": 4,
   "metadata": {},
   "outputs": [
    {
     "name": "stdout",
     "output_type": "stream",
     "text": [
      "Number of models: 100\n",
      "Number of coefficients per model: 19\n"
     ]
    }
   ],
   "source": [
    "print(f\"Number of models: {len(models)}\")\n",
    "print(f\"Number of coefficients per model: {len(models[0]['coefs'])}\")"
   ]
  },
  {
   "cell_type": "markdown",
   "metadata": {},
   "source": [
    "We expect the coefficient estimates to be much smaller, in terms of $l_2$ norm, when a large value of $\\lambda$ is used, as compared to when a small value of $\\lambda$ is used. These are the coefficients when $\\lambda = 11,498$, along with their $L_2$ norm:"
   ]
  },
  {
   "cell_type": "code",
   "execution_count": 5,
   "metadata": {},
   "outputs": [
    {
     "name": "stdout",
     "output_type": "stream",
     "text": [
      "alpha: 11497.569953977356\n",
      "intercept: 453.41464799826485\n",
      "AtBat                    3.49457\n",
      "Hits                     3.95274\n",
      "HmRun                    2.98390\n",
      "Runs                     3.75469\n",
      "RBI                      3.98108\n",
      "Walks                    3.99186\n",
      "Years                    3.46121\n",
      "CAtBat                   4.61714\n",
      "CHits                    4.84825\n",
      "CHmRun                   4.62599\n",
      "CRuns                    4.96994\n",
      "CRBI                     5.00896\n",
      "CWalks                   4.27553\n",
      "League                  -0.03422\n",
      "Division                -1.87780\n",
      "PutOuts                  2.83799\n",
      "Assists                  0.23644\n",
      "Errors                  -0.06962\n",
      "NewLeague                0.04849\n",
      "dtype: float64\n",
      "L2: 15.509329901628673\n"
     ]
    }
   ],
   "source": [
    "def print_ridge_results(i):\n",
    "    print(f\"alpha: {models[i]['alpha']}\")\n",
    "    print(f\"intercept: {models[i]['intercept']}\")\n",
    "    print(pd.Series(models[i]['coefs'], index=X.columns))\n",
    "    print(f\"L2: {np.sqrt(np.sum([x**2 for x in models[i]['coefs'] ]))}\")\n",
    "\n",
    "print_ridge_results(49)"
   ]
  },
  {
   "cell_type": "markdown",
   "metadata": {},
   "source": [
    "In contrast, here are the coefficients when $\\lambda = 705$, along with their $l_2$ norm. Note the much larger $l_2$ norm of the coefficients associated with this smaller value of $\\lambda$."
   ]
  },
  {
   "cell_type": "code",
   "execution_count": 6,
   "metadata": {},
   "outputs": [
    {
     "name": "stdout",
     "output_type": "stream",
     "text": [
      "alpha: 705.4802310718645\n",
      "intercept: 106.26999409130383\n",
      "AtBat                   16.43691\n",
      "Hits                    24.14789\n",
      "HmRun                   11.54152\n",
      "Runs                    20.79688\n",
      "RBI                     19.99724\n",
      "Walks                   23.88545\n",
      "Years                   13.47874\n",
      "CAtBat                  22.48210\n",
      "CHits                   25.85029\n",
      "CHmRun                  23.99095\n",
      "CRuns                   26.45447\n",
      "CRBI                    26.81973\n",
      "CWalks                  18.86201\n",
      "League                   4.29467\n",
      "Division               -19.59863\n",
      "PutOuts                 24.64957\n",
      "Assists                  1.67757\n",
      "Errors                  -2.60291\n",
      "NewLeague                3.19072\n",
      "dtype: float64\n",
      "L2: 84.41074083895579\n"
     ]
    }
   ],
   "source": [
    "print_ridge_results(59)"
   ]
  },
  {
   "cell_type": "markdown",
   "metadata": {},
   "source": [
    "We now split the samples into a training set and a test set in order to estimate the test eroor of ridge regression and the lasso. There are various ways to randomly split a data set. The first is to produce a random vector of `True`, `False` elements and select the observations corresponding to `True` for the training data. The second is to randomly choose a subset of numbers between 1 and $n$; these can then be used as the indices for the training observations. Another way is to use the `train_test_split` function from `sklearn`, which we demonstrate here."
   ]
  },
  {
   "cell_type": "code",
   "execution_count": 7,
   "metadata": {},
   "outputs": [],
   "source": [
    "X_train, X_test, y_train, y_test = train_test_split(X, y, test_size=0.5, random_state=1)"
   ]
  },
  {
   "cell_type": "markdown",
   "metadata": {},
   "source": [
    "Next we fit a ridge regression model on the training set, and evaluate its MSE on the test set, using $\\lambda = 4$."
   ]
  },
  {
   "cell_type": "code",
   "execution_count": 8,
   "metadata": {},
   "outputs": [
    {
     "name": "stdout",
     "output_type": "stream",
     "text": [
      "AtBat                 -210.80732\n",
      "Hits                   193.07693\n",
      "HmRun                  -51.43737\n",
      "Runs                     1.62407\n",
      "RBI                     81.45892\n",
      "Walks                   94.58254\n",
      "Years                  -28.02948\n",
      "CAtBat                -117.92436\n",
      "CHits                   91.15963\n",
      "CHmRun                  91.76201\n",
      "CRuns                  101.11545\n",
      "CRBI                   117.59896\n",
      "CWalks                 -38.43468\n",
      "League                  35.79205\n",
      "Division               -60.24544\n",
      "PutOuts                125.55607\n",
      "Assists                 25.55919\n",
      "Errors                 -18.51890\n",
      "NewLeague              -18.65062\n",
      "dtype: float64\n",
      "MSE: 102144.52395076495\n"
     ]
    }
   ],
   "source": [
    "ridge2 = make_pipeline(StandardScaler(with_mean=False), Ridge(alpha=4))\n",
    "ridge2_fit = ridge2.fit(X_train, y_train)\n",
    "y_pred2 = ridge2.predict(X_test)\n",
    "\n",
    "print(pd.Series(ridge2_fit.named_steps[\"ridge\"].coef_, index=X.columns))\n",
    "print(\"MSE:\", mean_squared_error(y_test, y_pred2))"
   ]
  },
  {
   "cell_type": "markdown",
   "metadata": {},
   "source": [
    "The test MSE is 102,144. Note that if we had instead simply fit a model with just an intercept, we would have predicted each test observation using the mean of the training observations. In that case, we could compute the test set MSE like this:"
   ]
  },
  {
   "cell_type": "code",
   "execution_count": 9,
   "metadata": {},
   "outputs": [
    {
     "data": {
      "text/plain": [
       "172862.23592080918"
      ]
     },
     "execution_count": 9,
     "metadata": {},
     "output_type": "execute_result"
    }
   ],
   "source": [
    "np.mean((np.mean(y_train) - y_test)**2)"
   ]
  },
  {
   "cell_type": "markdown",
   "metadata": {},
   "source": [
    "We could also get the same result by fitting a ridge regression model with a _very_ large value of $\\lambda$. Note that `1e10` means $10^{10}$."
   ]
  },
  {
   "cell_type": "code",
   "execution_count": 10,
   "metadata": {},
   "outputs": [
    {
     "name": "stdout",
     "output_type": "stream",
     "text": [
      "AtBat                    0.00000\n",
      "Hits                     0.00000\n",
      "HmRun                    0.00000\n",
      "Runs                     0.00000\n",
      "RBI                      0.00000\n",
      "Walks                    0.00000\n",
      "Years                    0.00000\n",
      "CAtBat                   0.00000\n",
      "CHits                    0.00000\n",
      "CHmRun                   0.00000\n",
      "CRuns                    0.00000\n",
      "CRBI                     0.00000\n",
      "CWalks                   0.00000\n",
      "League                  -0.00000\n",
      "Division                -0.00000\n",
      "PutOuts                  0.00000\n",
      "Assists                 -0.00000\n",
      "Errors                   0.00000\n",
      "NewLeague               -0.00000\n",
      "dtype: float64\n",
      "MSE: 172862.22059245987\n"
     ]
    }
   ],
   "source": [
    "# very high lambda\n",
    "ridge3 = make_pipeline(StandardScaler(with_mean=False), Ridge(alpha=1e10))\n",
    "ridge3_fit = ridge3.fit(X_train, y_train)\n",
    "y_pred3 = ridge3.predict(X_test)\n",
    "\n",
    "print(pd.Series(ridge3_fit.named_steps[\"ridge\"].coef_, index=X.columns))\n",
    "print(\"MSE:\", mean_squared_error(y_test, y_pred3))"
   ]
  },
  {
   "cell_type": "markdown",
   "metadata": {},
   "source": [
    "So fitting a ridge regression model with $\\lambda = 4$ leads to a much lower test MSE than fitting a model with just an intercept. We now check whether there is any benefit to performing ridge regresion with $\\lambda = 4$ instead of just performing least squares regression. Recall that least squares is simply ridge regression with $\\lambda = 0$."
   ]
  },
  {
   "cell_type": "code",
   "execution_count": 11,
   "metadata": {},
   "outputs": [
    {
     "name": "stdout",
     "output_type": "stream",
     "text": [
      "AtBat                 -266.55305\n",
      "Hits                   197.70622\n",
      "HmRun                  -38.10318\n",
      "Runs                    -1.00800\n",
      "RBI                    103.11985\n",
      "Walks                   79.75021\n",
      "Years                   45.35770\n",
      "CAtBat              -1,399.81138\n",
      "CHits                1,426.95481\n",
      "CHmRun                 264.03798\n",
      "CRuns                   86.85878\n",
      "CRBI                  -211.14239\n",
      "CWalks                  42.53360\n",
      "League                  66.82285\n",
      "Division               -56.87028\n",
      "PutOuts                126.07556\n",
      "Assists                 65.81609\n",
      "Errors                 -38.31389\n",
      "NewLeague              -40.96269\n",
      "dtype: float64\n",
      "MSE: 116690.4685666027\n"
     ]
    }
   ],
   "source": [
    "ridge4 = make_pipeline(StandardScaler(with_mean=False), Ridge(alpha=0))\n",
    "ridge4_fit = ridge4.fit(X_train, y_train)\n",
    "y_pred4 = ridge4.predict(X_test)\n",
    "\n",
    "print(pd.Series(ridge4_fit.named_steps[\"ridge\"].coef_, index=X.columns))\n",
    "print(\"MSE:\", mean_squared_error(y_test, y_pred4))"
   ]
  },
  {
   "cell_type": "markdown",
   "metadata": {},
   "source": [
    "In general, instead of arbitrarily choosing $\\lambda = 4$, it would be better to use cross-validation to choose the tuning parameter $\\lambda$. We can do this using the built-in cross-validation function `RidgeCV`. By default, the function performs ten-fold cross-validation, though this can be changed using the argument `cv`."
   ]
  },
  {
   "cell_type": "code",
   "execution_count": 12,
   "metadata": {},
   "outputs": [
    {
     "data": {
      "text/plain": [
       "75.64633275546291"
      ]
     },
     "execution_count": 12,
     "metadata": {},
     "output_type": "execute_result"
    }
   ],
   "source": [
    "ridge_cv = make_pipeline(\n",
    "    StandardScaler(with_mean=False),\n",
    "    RidgeCV(alphas=grid, scoring=\"neg_mean_squared_error\"),\n",
    ")\n",
    "ridge_cv.fit(X_train, y_train)\n",
    "ridge_cv.named_steps[\"ridgecv\"].alpha_"
   ]
  },
  {
   "cell_type": "markdown",
   "metadata": {},
   "source": [
    "Therefore, we see that the value of $\\lambda$ that results in the smallest cross-validation error is 75.6. What is the test MSE associated with this value of $\\lambda$?"
   ]
  },
  {
   "cell_type": "code",
   "execution_count": 13,
   "metadata": {
    "scrolled": false
   },
   "outputs": [
    {
     "name": "stdout",
     "output_type": "stream",
     "text": [
      "AtBat                   -1.87522\n",
      "Hits                    40.04216\n",
      "HmRun                   -2.25864\n",
      "Runs                    18.79162\n",
      "RBI                     34.08055\n",
      "Walks                   48.03307\n",
      "Years                    5.77862\n",
      "CAtBat                  15.43406\n",
      "CHits                   34.10274\n",
      "CHmRun                  45.40307\n",
      "CRuns                   34.78448\n",
      "CRBI                    45.19872\n",
      "CWalks                  24.57958\n",
      "League                   9.43059\n",
      "Division               -46.01926\n",
      "PutOuts                 83.78692\n",
      "Assists                 -2.44659\n",
      "Errors                  -1.98723\n",
      "NewLeague                4.97471\n",
      "dtype: float64\n",
      "MSE: 99820.74305168974\n"
     ]
    }
   ],
   "source": [
    "# cv_lambda\n",
    "ridge5 = make_pipeline(\n",
    "    StandardScaler(with_mean=False), Ridge(alpha=ridge_cv.named_steps[\"ridgecv\"].alpha_)\n",
    ")\n",
    "ridge5_fit = ridge5.fit(X_train, y_train)\n",
    "y_pred5 = ridge5.predict(X_test)\n",
    "\n",
    "print(pd.Series(ridge5_fit.named_steps[\"ridge\"].coef_, index=X.columns))\n",
    "print(\"MSE:\", mean_squared_error(y_test, y_pred5))"
   ]
  },
  {
   "cell_type": "markdown",
   "metadata": {},
   "source": [
    "This represents a further improvement over the test MSE that we got using $\\lambda = 4$. As expected, none of the coefficients are zero - ridge regression does not perform variable selection!"
   ]
  },
  {
   "cell_type": "markdown",
   "metadata": {},
   "source": [
    "## The Lasso\n",
    "\n",
    "We saw that ridge regression with a wise choice of $\\lambda$ can outperform least squares as well as the null model on the `Hitters` data set. We now ask whether the lasso can yield either a more accurate or a more interpretable model than ridge regression. In order to fit a lasso model, we use `Lasso` from `sklearn`. Other than that change, we proceed just as we dit in fitting a ridge model"
   ]
  },
  {
   "cell_type": "code",
   "execution_count": 14,
   "metadata": {},
   "outputs": [
    {
     "data": {
      "image/png": "[encoded data removed]",
      "text/plain": [
       "<Figure size 432x288 with 1 Axes>"
      ]
     },
     "metadata": {
      "needs_background": "light"
     },
     "output_type": "display_data"
    }
   ],
   "source": [
    "lasso_model = make_pipeline(StandardScaler(with_mean=False), Lasso(max_iter=10_000))\n",
    "lassos = {}\n",
    "for i, a in enumerate(grid):\n",
    "    lasso_model.set_params(lasso__alpha=a)\n",
    "    lasso_model.fit(X, y)\n",
    "    lassos[i] = {\n",
    "        \"alpha\": a,\n",
    "        \"coefs\": lasso_model.named_steps[\"lasso\"].coef_,\n",
    "        \"intercept\": lasso_model.named_steps[\"lasso\"].intercept_,\n",
    "    }\n",
    "    \n",
    "ax = plt.gca()\n",
    "ax.plot(grid, [x['coefs'] for x in lassos.values()] )\n",
    "ax.set_xscale(\"log\")\n",
    "plt.axis(\"tight\")\n",
    "plt.xlabel(\"alpha\")\n",
    "plt.ylabel(\"weights\");"
   ]
  },
  {
   "cell_type": "markdown",
   "metadata": {},
   "source": [
    "We can see from the coefficient plot that depending on the choice of tuning parameter, some of the coefficients will be exactly equal to zero. We now perform cross-validation and compute the associated test error."
   ]
  },
  {
   "cell_type": "code",
   "execution_count": 15,
   "metadata": {},
   "outputs": [
    {
     "data": {
      "text/plain": [
       "24.77076355991714"
      ]
     },
     "execution_count": 15,
     "metadata": {},
     "output_type": "execute_result"
    }
   ],
   "source": [
    "lasso_cv = make_pipeline(\n",
    "    StandardScaler(with_mean=False),\n",
    "    LassoCV(alphas=grid, max_iter=10_000, cv=10),\n",
    ")\n",
    "lasso_cv.fit(X_train, y_train)\n",
    "lasso_cv.named_steps[\"lassocv\"].alpha_"
   ]
  },
  {
   "cell_type": "code",
   "execution_count": 16,
   "metadata": {},
   "outputs": [
    {
     "name": "stdout",
     "output_type": "stream",
     "text": [
      "AtBat                    0.00000\n",
      "Hits                    51.23005\n",
      "HmRun                    0.00000\n",
      "Runs                     0.00000\n",
      "RBI                      0.00000\n",
      "Walks                   67.81051\n",
      "Years                    0.00000\n",
      "CAtBat                   0.00000\n",
      "CHits                    0.00000\n",
      "CHmRun                  20.50906\n",
      "CRuns                    0.00000\n",
      "CRBI                   182.42795\n",
      "CWalks                   0.00000\n",
      "League                   0.00000\n",
      "Division               -47.16690\n",
      "PutOuts                111.64058\n",
      "Assists                 -0.00000\n",
      "Errors                  -0.00000\n",
      "NewLeague                0.00000\n",
      "dtype: float64\n",
      "MSE: 104808.76054941256\n"
     ]
    }
   ],
   "source": [
    "lasso2 = lasso_model = make_pipeline(\n",
    "    StandardScaler(with_mean=False),\n",
    "    Lasso(alpha=lasso_cv.named_steps[\"lassocv\"].alpha_, max_iter=10_000),\n",
    ")\n",
    "lasso2_fit = lasso2.fit(X_train, y_train)\n",
    "y_pred2 = lasso2_fit.predict(X_test)\n",
    "\n",
    "print(pd.Series(lasso2_fit.named_steps['lasso'].coef_, index=X.columns))\n",
    "print(\"MSE:\", mean_squared_error(y_test, y_pred2))"
   ]
  },
  {
   "cell_type": "markdown",
   "metadata": {},
   "source": [
    "This is substantially lower that the test set MSE of the null model and of least squares, and very similar to the test MSE of ridge regression with $\\lambda$ chosen by cross-validation.\n",
    "\n",
    "However, the lasso has a substantial advantage of ridge regression in that the resulting coefficients estimates are sparse. Here we see that 13 of the 19 coefficient estimates are exactly zero. So the lasso model with $\\lambda$ chosen by cross-validation contrains only 6 variables."
   ]
  }
 ],
 "metadata": {
  "kernelspec": {
   "display_name": "Python 3 (ipykernel)",
   "language": "python",
   "name": "python3"
  },
  "language_info": {
   "codemirror_mode": {
    "name": "ipython",
    "version": 3
   },
   "file_extension": ".py",
   "mimetype": "text/x-python",
   "name": "python",
   "nbconvert_exporter": "python",
   "pygments_lexer": "ipython3",
   "version": "3.9.7"
  },
  "toc": {
   "base_numbering": 1,
   "nav_menu": {},
   "number_sections": true,
   "sideBar": true,
   "skip_h1_title": false,
   "title_cell": "Table of Contents",
   "title_sidebar": "Contents",
   "toc_cell": false,
   "toc_position": {},
   "toc_section_display": true,
   "toc_window_display": false
  }
 },
 "nbformat": 4,
 "nbformat_minor": 2
}
