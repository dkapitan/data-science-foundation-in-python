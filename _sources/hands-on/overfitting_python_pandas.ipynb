{
 "cells": [
  {
   "cell_type": "code",
   "metadata": {
    "tags": [],
    "cell_id": "00000-9167c12b-6ec3-4ce3-a8f1-888bfd66fdfd",
    "deepnote_to_be_reexecuted": false,
    "source_hash": "f6e668c9",
    "execution_start": 1637532320519,
    "execution_millis": 1509,
    "deepnote_cell_type": "code"
   },
   "source": "import altair as alt\nimport numpy as np\nimport pandas as pd\nfrom sklearn.linear_model import LinearRegression\nfrom sklearn.metrics import mean_squared_error\nfrom sklearn.model_selection import train_test_split, cross_val_score\nfrom sklearn.pipeline import Pipeline\nfrom sklearn.preprocessing import PolynomialFeatures\nimport statsmodels.api as sm\n\n\nN = 100\nMAX_DEGREE = 15\n\nnp.random.seed(123)",
   "execution_count": 1,
   "outputs": []
  },
  {
   "cell_type": "markdown",
   "source": "## Overfitting\n\nWe simulate a true function $Y$ as a third-order polynomial of $X1$. We show that the error of the fitted function decreases as you increase the complexity of the fitted functions, i.e. fitting polynomials with degree > 3.",
   "metadata": {
    "tags": [],
    "cell_id": "00001-8e9cc50c-f219-4506-b629-22f7662861c3",
    "deepnote_cell_type": "markdown"
   }
  },
  {
   "cell_type": "code",
   "metadata": {
    "tags": [],
    "cell_id": "00001-10e7dc30-b96d-4ec9-b8fb-29ca01e64e68",
    "deepnote_to_be_reexecuted": false,
    "source_hash": "d2c46b1d",
    "execution_start": 1637532322041,
    "execution_millis": 2,
    "deepnote_cell_type": "code"
   },
   "source": "# generate data with noise\nX1 = np.random.normal(loc=10, scale=5, size=N)\ne = np.random.normal(loc=0, scale=2000, size=N)\nY = (2530 + 20*X1 - 10*(X1**2) + 5*(X1**3) + e)\n\ndf1 = pd.DataFrame({\"Y\": Y, \"X1\": X1})",
   "execution_count": 2,
   "outputs": []
  },
  {
   "cell_type": "code",
   "metadata": {
    "tags": [],
    "cell_id": "00007-6b02cedc-1015-4803-8941-a61b113b5526",
    "deepnote_to_be_reexecuted": false,
    "source_hash": "1c52127",
    "execution_start": 1637532594049,
    "execution_millis": 161,
    "deepnote_output_heights": [
     361,
     21
    ],
    "deepnote_cell_type": "code"
   },
   "source": "results1 = pd.DataFrame(columns=[\"degree\", \"rmse\"])\n\nfor n in range(1, MAX_DEGREE + 1):\n    poly = PolynomialFeatures(n)\n    Xp = poly.fit_transform(df1.iloc[:, 1:])\n    fit = LinearRegression().fit(Xp, df1.Y)\n    Y_hat = fit.predict(Xp)\n    results1 = results1.append(\n        {\"degree\": n, \"rmse\": np.sqrt(mean_squared_error(df1.Y, Y_hat))},\n        ignore_index=True,\n    )\n\nalt.Chart(results1).mark_line(point=alt.OverlayMarkDef()).encode(\n    x=\"degree\", y=\"rmse\", tooltip=[\"degree\", \"rmse\"]\n)",
   "execution_count": 18,
   "outputs": [
    {
     "output_type": "execute_result",
     "execution_count": 18,
     "data": {
      "text/html": "\n<div id=\"altair-viz-af960bbeba1c45aa84a62239baa1d14f\"></div>\n<script type=\"text/javascript\">\n  (function(spec, embedOpt){\n    let outputDiv = document.currentScript.previousElementSibling;\n    if (outputDiv.id !== \"altair-viz-af960bbeba1c45aa84a62239baa1d14f\") {\n      outputDiv = document.getElementById(\"altair-viz-af960bbeba1c45aa84a62239baa1d14f\");\n    }\n    const paths = {\n      \"vega\": \"https://cdn.jsdelivr.net/npm//vega@5?noext\",\n      \"vega-lib\": \"https://cdn.jsdelivr.net/npm//vega-lib?noext\",\n      \"vega-lite\": \"https://cdn.jsdelivr.net/npm//vega-lite@4.8.1?noext\",\n      \"vega-embed\": \"https://cdn.jsdelivr.net/npm//vega-embed@6?noext\",\n    };\n\n    function loadScript(lib) {\n      return new Promise(function(resolve, reject) {\n        var s = document.createElement('script');\n        s.src = paths[lib];\n        s.async = true;\n        s.onload = () => resolve(paths[lib]);\n        s.onerror = () => reject(`Error loading script: ${paths[lib]}`);\n        document.getElementsByTagName(\"head\")[0].appendChild(s);\n      });\n    }\n\n    function showError(err) {\n      outputDiv.innerHTML = `<div class=\"error\" style=\"color:red;\">${err}</div>`;\n      throw err;\n    }\n\n    function displayChart(vegaEmbed) {\n      vegaEmbed(outputDiv, spec, embedOpt)\n        .catch(err => showError(`Javascript Error: ${err.message}<br>This usually means there's a typo in your chart specification. See the javascript console for the full traceback.`));\n    }\n\n    if(typeof define === \"function\" && define.amd) {\n      requirejs.config({paths});\n      require([\"vega-embed\"], displayChart, err => showError(`Error loading script: ${err.message}`));\n    } else if (typeof vegaEmbed === \"function\") {\n      displayChart(vegaEmbed);\n    } else {\n      loadScript(\"vega\")\n        .then(() => loadScript(\"vega-lite\"))\n        .then(() => loadScript(\"vega-embed\"))\n        .catch(showError)\n        .then(() => displayChart(vegaEmbed));\n    }\n  })({\"config\": {\"view\": {\"continuousWidth\": 400, \"continuousHeight\": 300}}, \"data\": {\"name\": \"data-be08772261d7c0c3f1533ce659f0a25b\"}, \"mark\": {\"type\": \"line\", \"point\": {}}, \"encoding\": {\"tooltip\": [{\"type\": \"quantitative\", \"field\": \"degree\"}, {\"type\": \"quantitative\", \"field\": \"rmse\"}], \"x\": {\"type\": \"quantitative\", \"field\": \"degree\"}, \"y\": {\"type\": \"quantitative\", \"field\": \"rmse\"}}, \"$schema\": \"https://vega.github.io/schema/vega-lite/v4.8.1.json\", \"datasets\": {\"data-be08772261d7c0c3f1533ce659f0a25b\": [{\"degree\": 1.0, \"rmse\": 5436.939744898672}, {\"degree\": 2.0, \"rmse\": 2424.153257692096}, {\"degree\": 3.0, \"rmse\": 1938.093183594321}, {\"degree\": 4.0, \"rmse\": 1925.3204649561308}, {\"degree\": 5.0, \"rmse\": 1908.7334750963494}, {\"degree\": 6.0, \"rmse\": 1908.513532248844}, {\"degree\": 7.0, \"rmse\": 1907.7845515378567}, {\"degree\": 8.0, \"rmse\": 1898.2157369505305}, {\"degree\": 9.0, \"rmse\": 1893.0378017053883}, {\"degree\": 10.0, \"rmse\": 1886.5437827374585}, {\"degree\": 11.0, \"rmse\": 1886.4443371544237}, {\"degree\": 12.0, \"rmse\": 1889.885322399893}, {\"degree\": 13.0, \"rmse\": 1893.6538259943152}, {\"degree\": 14.0, \"rmse\": 1894.4702104954044}, {\"degree\": 15.0, \"rmse\": 1898.5667775718352}]}}, {\"mode\": \"vega-lite\"});\n</script>",
      "text/plain": "alt.Chart(...)"
     },
     "metadata": {}
    }
   ]
  },
  {
   "cell_type": "markdown",
   "source": "## Overfitting with random variables\n\nWe now add features $X2, X3$ but keep the true function $Y$ unchanged, i.e. only dependent on $X1$. We show that these random variables may lead to even more severe overfitting.",
   "metadata": {
    "tags": [],
    "cell_id": "00007-32adc527-b53b-4e43-8b81-1a6bd2d767c3",
    "deepnote_cell_type": "markdown"
   }
  },
  {
   "cell_type": "code",
   "metadata": {
    "tags": [],
    "cell_id": "00008-9e63ccdd-4eeb-489d-8ac5-8a0bd6c1bc4e",
    "deepnote_to_be_reexecuted": false,
    "source_hash": "35c0034e",
    "execution_start": 1637532322245,
    "execution_millis": 22,
    "deepnote_cell_type": "code"
   },
   "source": "df2 = df1.copy()\nfor i in [2, 3]:\n    df2[f\"X{str(i)}\"] = np.random.normal(loc=10, scale=5, size=N)\ndf2.head()",
   "execution_count": 4,
   "outputs": [
    {
     "output_type": "execute_result",
     "execution_count": 4,
     "data": {
      "application/vnd.deepnote.dataframe.v2+json": {
       "row_count": 5,
       "column_count": 4,
       "columns": [
        {
         "name": "Y",
         "dtype": "float64",
         "stats": {
          "unique_count": 5,
          "nan_count": 0,
          "min": "3912.6460167199816",
          "max": "13458.18278691341",
          "histogram": [
           {
            "bin_start": 3912.6460167199816,
            "bin_end": 4867.199693739324,
            "count": 2
           },
           {
            "bin_start": 4867.199693739324,
            "bin_end": 5821.753370758667,
            "count": 0
           },
           {
            "bin_start": 5821.753370758667,
            "bin_end": 6776.307047778009,
            "count": 0
           },
           {
            "bin_start": 6776.307047778009,
            "bin_end": 7730.860724797352,
            "count": 0
           },
           {
            "bin_start": 7730.860724797352,
            "bin_end": 8685.414401816695,
            "count": 1
           },
           {
            "bin_start": 8685.414401816695,
            "bin_end": 9639.968078836038,
            "count": 0
           },
           {
            "bin_start": 9639.968078836038,
            "bin_end": 10594.521755855381,
            "count": 1
           },
           {
            "bin_start": 10594.521755855381,
            "bin_end": 11549.075432874724,
            "count": 0
           },
           {
            "bin_start": 11549.075432874724,
            "bin_end": 12503.629109894067,
            "count": 0
           },
           {
            "bin_start": 12503.629109894067,
            "bin_end": 13458.18278691341,
            "count": 1
           }
          ]
         }
        },
        {
         "name": "X1",
         "dtype": "float64",
         "stats": {
          "unique_count": 5,
          "nan_count": 0,
          "min": "2.46852643040954",
          "max": "14.986727232917929",
          "histogram": [
           {
            "bin_start": 2.46852643040954,
            "bin_end": 3.7203465106603786,
            "count": 1
           },
           {
            "bin_start": 3.7203465106603786,
            "bin_end": 4.972166590911217,
            "count": 1
           },
           {
            "bin_start": 4.972166590911217,
            "bin_end": 6.223986671162056,
            "count": 0
           },
           {
            "bin_start": 6.223986671162056,
            "bin_end": 7.475806751412895,
            "count": 1
           },
           {
            "bin_start": 7.475806751412895,
            "bin_end": 8.727626831663734,
            "count": 0
           },
           {
            "bin_start": 8.727626831663734,
            "bin_end": 9.979446911914572,
            "count": 0
           },
           {
            "bin_start": 9.979446911914572,
            "bin_end": 11.231266992165411,
            "count": 0
           },
           {
            "bin_start": 11.231266992165411,
            "bin_end": 12.48308707241625,
            "count": 1
           },
           {
            "bin_start": 12.48308707241625,
            "bin_end": 13.73490715266709,
            "count": 0
           },
           {
            "bin_start": 13.73490715266709,
            "bin_end": 14.986727232917929,
            "count": 1
           }
          ]
         }
        },
        {
         "name": "X2",
         "dtype": "float64",
         "stats": {
          "unique_count": 5,
          "nan_count": 0,
          "min": "7.009473343295873",
          "max": "21.00351049608564",
          "histogram": [
           {
            "bin_start": 7.009473343295873,
            "bin_end": 8.40887705857485,
            "count": 1
           },
           {
            "bin_start": 8.40887705857485,
            "bin_end": 9.808280773853827,
            "count": 0
           },
           {
            "bin_start": 9.808280773853827,
            "bin_end": 11.207684489132802,
            "count": 1
           },
           {
            "bin_start": 11.207684489132802,
            "bin_end": 12.60708820441178,
            "count": 0
           },
           {
            "bin_start": 12.60708820441178,
            "bin_end": 14.006491919690756,
            "count": 2
           },
           {
            "bin_start": 14.006491919690756,
            "bin_end": 15.405895634969731,
            "count": 0
           },
           {
            "bin_start": 15.405895634969731,
            "bin_end": 16.80529935024871,
            "count": 0
           },
           {
            "bin_start": 16.80529935024871,
            "bin_end": 18.204703065527685,
            "count": 0
           },
           {
            "bin_start": 18.204703065527685,
            "bin_end": 19.60410678080666,
            "count": 0
           },
           {
            "bin_start": 19.60410678080666,
            "bin_end": 21.00351049608564,
            "count": 1
           }
          ]
         }
        },
        {
         "name": "X3",
         "dtype": "float64",
         "stats": {
          "unique_count": 5,
          "nan_count": 0,
          "min": "5.8550558311949485",
          "max": "13.825274229985089",
          "histogram": [
           {
            "bin_start": 5.8550558311949485,
            "bin_end": 6.652077671073963,
            "count": 1
           },
           {
            "bin_start": 6.652077671073963,
            "bin_end": 7.449099510952976,
            "count": 1
           },
           {
            "bin_start": 7.449099510952976,
            "bin_end": 8.246121350831991,
            "count": 0
           },
           {
            "bin_start": 8.246121350831991,
            "bin_end": 9.043143190711005,
            "count": 0
           },
           {
            "bin_start": 9.043143190711005,
            "bin_end": 9.840165030590018,
            "count": 1
           },
           {
            "bin_start": 9.840165030590018,
            "bin_end": 10.637186870469034,
            "count": 0
           },
           {
            "bin_start": 10.637186870469034,
            "bin_end": 11.434208710348047,
            "count": 0
           },
           {
            "bin_start": 11.434208710348047,
            "bin_end": 12.23123055022706,
            "count": 0
           },
           {
            "bin_start": 12.23123055022706,
            "bin_end": 13.028252390106076,
            "count": 0
           },
           {
            "bin_start": 13.028252390106076,
            "bin_end": 13.825274229985089,
            "count": 2
           }
          ]
         }
        },
        {
         "name": "_deepnote_index_column",
         "dtype": "int64"
        }
       ],
       "rows_top": [
        {
         "Y": 4174.327279672503,
         "X1": 4.571846983497194,
         "X2": 13.51655058903365,
         "X3": 13.825274229985089,
         "_deepnote_index_column": 0
        },
        {
         "Y": 13458.18278691341,
         "X1": 14.986727232917929,
         "X2": 7.009473343295873,
         "X3": 5.8550558311949485,
         "_deepnote_index_column": 1
        },
        {
         "Y": 10316.61877758333,
         "X1": 11.41489249025996,
         "X2": 21.00351049608564,
         "X3": 6.704243446516761,
         "_deepnote_index_column": 2
        },
        {
         "Y": 7790.253499694441,
         "X1": 2.46852643040954,
         "X2": 13.441484651110443,
         "X3": 13.055617750279556,
         "_deepnote_index_column": 3
        },
        {
         "Y": 3912.6460167199816,
         "X1": 7.106998740157318,
         "X2": 9.96846374543064,
         "X3": 9.279933262598536,
         "_deepnote_index_column": 4
        }
       ],
       "rows_bottom": null
      },
      "text/plain": "              Y         X1         X2         X3\n0   4174.327280   4.571847  13.516551  13.825274\n1  13458.182787  14.986727   7.009473   5.855056\n2  10316.618778  11.414892  21.003510   6.704243\n3   7790.253500   2.468526  13.441485  13.055618\n4   3912.646017   7.106999   9.968464   9.279933",
      "text/html": "<div>\n<style scoped>\n    .dataframe tbody tr th:only-of-type {\n        vertical-align: middle;\n    }\n\n    .dataframe tbody tr th {\n        vertical-align: top;\n    }\n\n    .dataframe thead th {\n        text-align: right;\n    }\n</style>\n<table border=\"1\" class=\"dataframe\">\n  <thead>\n    <tr style=\"text-align: right;\">\n      <th></th>\n      <th>Y</th>\n      <th>X1</th>\n      <th>X2</th>\n      <th>X3</th>\n    </tr>\n  </thead>\n  <tbody>\n    <tr>\n      <th>0</th>\n      <td>4174.327280</td>\n      <td>4.571847</td>\n      <td>13.516551</td>\n      <td>13.825274</td>\n    </tr>\n    <tr>\n      <th>1</th>\n      <td>13458.182787</td>\n      <td>14.986727</td>\n      <td>7.009473</td>\n      <td>5.855056</td>\n    </tr>\n    <tr>\n      <th>2</th>\n      <td>10316.618778</td>\n      <td>11.414892</td>\n      <td>21.003510</td>\n      <td>6.704243</td>\n    </tr>\n    <tr>\n      <th>3</th>\n      <td>7790.253500</td>\n      <td>2.468526</td>\n      <td>13.441485</td>\n      <td>13.055618</td>\n    </tr>\n    <tr>\n      <th>4</th>\n      <td>3912.646017</td>\n      <td>7.106999</td>\n      <td>9.968464</td>\n      <td>9.279933</td>\n    </tr>\n  </tbody>\n</table>\n</div>"
     },
     "metadata": {}
    }
   ]
  },
  {
   "cell_type": "code",
   "metadata": {
    "tags": [],
    "cell_id": "00008-6a492d3a-6ba5-4b09-8499-20d81507e313",
    "deepnote_to_be_reexecuted": false,
    "source_hash": "75c75c43",
    "execution_start": 1637532322332,
    "execution_millis": 326,
    "deepnote_output_heights": [
     361
    ],
    "deepnote_cell_type": "code"
   },
   "source": "results2 = pd.DataFrame(columns=[\"degree\", \"rmse\"])\n\nfor n in range(1, MAX_DEGREE + 1):\n    poly = PolynomialFeatures(n)\n    Xp = poly.fit_transform(df2.iloc[:, 1:])\n    fit = LinearRegression().fit(Xp, df2.Y)\n    Y_hat = fit.predict(Xp)\n    results2 = results2.append(\n        {\"degree\": n, \"rmse\": np.sqrt(mean_squared_error(df2.Y, Y_hat))},\n        ignore_index=True,\n    )\n\nalt.Chart(results2).mark_line(point=alt.OverlayMarkDef()).encode(\n    x=\"degree\", y=\"rmse\", tooltip=[\"degree\", \"rmse\"]\n)\n",
   "execution_count": 5,
   "outputs": [
    {
     "output_type": "execute_result",
     "execution_count": 5,
     "data": {
      "text/html": "\n<div id=\"altair-viz-a5d68a46598446eaade4887bf4d8e163\"></div>\n<script type=\"text/javascript\">\n  (function(spec, embedOpt){\n    let outputDiv = document.currentScript.previousElementSibling;\n    if (outputDiv.id !== \"altair-viz-a5d68a46598446eaade4887bf4d8e163\") {\n      outputDiv = document.getElementById(\"altair-viz-a5d68a46598446eaade4887bf4d8e163\");\n    }\n    const paths = {\n      \"vega\": \"https://cdn.jsdelivr.net/npm//vega@5?noext\",\n      \"vega-lib\": \"https://cdn.jsdelivr.net/npm//vega-lib?noext\",\n      \"vega-lite\": \"https://cdn.jsdelivr.net/npm//vega-lite@4.8.1?noext\",\n      \"vega-embed\": \"https://cdn.jsdelivr.net/npm//vega-embed@6?noext\",\n    };\n\n    function loadScript(lib) {\n      return new Promise(function(resolve, reject) {\n        var s = document.createElement('script');\n        s.src = paths[lib];\n        s.async = true;\n        s.onload = () => resolve(paths[lib]);\n        s.onerror = () => reject(`Error loading script: ${paths[lib]}`);\n        document.getElementsByTagName(\"head\")[0].appendChild(s);\n      });\n    }\n\n    function showError(err) {\n      outputDiv.innerHTML = `<div class=\"error\" style=\"color:red;\">${err}</div>`;\n      throw err;\n    }\n\n    function displayChart(vegaEmbed) {\n      vegaEmbed(outputDiv, spec, embedOpt)\n        .catch(err => showError(`Javascript Error: ${err.message}<br>This usually means there's a typo in your chart specification. See the javascript console for the full traceback.`));\n    }\n\n    if(typeof define === \"function\" && define.amd) {\n      requirejs.config({paths});\n      require([\"vega-embed\"], displayChart, err => showError(`Error loading script: ${err.message}`));\n    } else if (typeof vegaEmbed === \"function\") {\n      displayChart(vegaEmbed);\n    } else {\n      loadScript(\"vega\")\n        .then(() => loadScript(\"vega-lite\"))\n        .then(() => loadScript(\"vega-embed\"))\n        .catch(showError)\n        .then(() => displayChart(vegaEmbed));\n    }\n  })({\"config\": {\"view\": {\"continuousWidth\": 400, \"continuousHeight\": 300}}, \"data\": {\"name\": \"data-33a0617cbd196e4afc97c409423c007e\"}, \"mark\": {\"type\": \"line\", \"point\": {}}, \"encoding\": {\"tooltip\": [{\"type\": \"quantitative\", \"field\": \"degree\"}, {\"type\": \"quantitative\", \"field\": \"rmse\"}], \"x\": {\"type\": \"quantitative\", \"field\": \"degree\"}, \"y\": {\"type\": \"quantitative\", \"field\": \"rmse\"}}, \"$schema\": \"https://vega.github.io/schema/vega-lite/v4.8.1.json\", \"datasets\": {\"data-33a0617cbd196e4afc97c409423c007e\": [{\"degree\": 1.0, \"rmse\": 5342.2696165612215}, {\"degree\": 2.0, \"rmse\": 2367.637670304317}, {\"degree\": 3.0, \"rmse\": 1802.8308694727148}, {\"degree\": 4.0, \"rmse\": 1657.9630258885074}, {\"degree\": 5.0, \"rmse\": 1265.355452219087}, {\"degree\": 6.0, \"rmse\": 892.7252443809804}, {\"degree\": 7.0, \"rmse\": 0.00012604530138502745}, {\"degree\": 8.0, \"rmse\": 2.866720410748738e-06}, {\"degree\": 9.0, \"rmse\": 4.9651603698084456e-06}, {\"degree\": 10.0, \"rmse\": 1.4419061620237162e-05}, {\"degree\": 11.0, \"rmse\": 0.023270842709857173}, {\"degree\": 12.0, \"rmse\": 0.042779161149263896}, {\"degree\": 13.0, \"rmse\": 0.022257313069337}, {\"degree\": 14.0, \"rmse\": 0.05180814737506924}, {\"degree\": 15.0, \"rmse\": 0.04083740803774198}]}}, {\"mode\": \"vega-lite\"});\n</script>",
      "text/plain": "alt.Chart(...)"
     },
     "metadata": {}
    }
   ]
  },
  {
   "cell_type": "markdown",
   "source": "## Validation to prevent overfitting\n\nWe follow [example from sklearn library](https://scikit-learn.org/stable/auto_examples/model_selection/plot_underfitting_overfitting.html#sphx-glr-auto-examples-model-selection-plot-underfitting-overfitting-py), with cosine as true function.",
   "metadata": {
    "tags": [],
    "cell_id": "00010-2e9efc36-a1c3-4e45-9123-05bec202babb",
    "deepnote_cell_type": "markdown"
   }
  },
  {
   "outputs": [],
   "cell_type": "code",
   "source": "def true_fun(X):\n    return np.cos(1.5 * np.pi * X)\n\n\nx = np.sort(np.random.rand(30))\ny = true_fun(x) + np.random.randn(30) * 0.1\ndf3 = pd.DataFrame({\"y\": y, \"X\": x})",
   "metadata": {
    "tags": [],
    "cell_id": "00011-fe694c10-44dc-4167-af22-8ae02d9d7f83",
    "deepnote_to_be_reexecuted": false,
    "source_hash": "4f061c7b",
    "execution_start": 1637532322659,
    "execution_millis": 26,
    "deepnote_cell_type": "code"
   },
   "execution_count": 6
  },
  {
   "cell_type": "code",
   "source": "X_train, X_val, y_train, y_val = train_test_split(\n    df3[[\"X\"]], df3.y, test_size=0.2, random_state=42\n)\n\nresults3 = pd.DataFrame(columns=[\"degree\", \"fold\", \"rmse\"])\nfor n in range(1, MAX_DEGREE + 1):\n    poly = PolynomialFeatures(n)\n    Xp_train = poly.fit_transform(X_train)\n    Xp_val = poly.fit_transform(X_val)\n    lm = LinearRegression().fit(Xp_train, y_train)\n    y_hat = lm.predict(Xp_train)\n    y_hat_val = lm.predict(Xp_val)\n    results3 = results3.append(\n        [\n            {\n                \"degree\": n,\n                \"fold\": \"train\",\n                \"rmse\": np.sqrt(mean_squared_error(y_train, y_hat)),\n            },\n            {\n                \"degree\": n,\n                \"fold\": \"validation\",\n                \"rmse\": np.sqrt(mean_squared_error(y_val, y_hat_val)),\n            },\n        ],\n        ignore_index=True,\n    )\n\nresults3 = results3.round(3)\n\ndef plot_validation_curve(results):\n    base = alt.Chart(results).mark_line(point=alt.OverlayMarkDef()).encode(\n        x=\"degree\", y=\"rmse\", color=\"fold\"\n    )\n\n    label = alt.selection_single(\n        encodings=['x'], # limit selection to x-axis value\n        on='mouseover',  # select on mouseover events\n        nearest=True,    # select data point nearest the cursor\n        empty='none'     # empty selection includes no data points\n    )\n\n    return alt.layer(\n        base, # base line chart\n        \n        # add a rule mark to serve as a guide line\n        alt.Chart().mark_rule(color='#aaa').encode(\n            x='degree'\n        ).transform_filter(label),\n        \n        # add circle marks for selected time points, hide unselected points\n        base.mark_circle().encode(\n            opacity=alt.condition(label, alt.value(1), alt.value(0))\n        ).add_selection(label),\n\n        # add white stroked text to provide a legible background for labels\n        base.mark_text(align='left', dx=5, dy=-5, stroke='white', strokeWidth=2).encode(\n            text='rmse:Q'\n        ).transform_filter(label),\n\n        # add text labels for stock prices\n        base.mark_text(align='left', dx=5, dy=-5).encode(\n            text='rmse:Q'\n        ).transform_filter(label),\n        \n        data=results\n    )\n\n\nplot_validation_curve(results3)",
   "metadata": {
    "tags": [],
    "cell_id": "00012-e0476a95-55c9-4fd4-a9f3-e8b9ef1bc5db",
    "deepnote_to_be_reexecuted": false,
    "source_hash": "71257543",
    "execution_start": 1637532322686,
    "execution_millis": 281,
    "deepnote_output_heights": [
     361
    ],
    "deepnote_cell_type": "code"
   },
   "outputs": [
    {
     "output_type": "execute_result",
     "execution_count": 7,
     "data": {
      "text/html": "\n<div id=\"altair-viz-0060691a9bc54c4cb60e3e13c2378743\"></div>\n<script type=\"text/javascript\">\n  (function(spec, embedOpt){\n    let outputDiv = document.currentScript.previousElementSibling;\n    if (outputDiv.id !== \"altair-viz-0060691a9bc54c4cb60e3e13c2378743\") {\n      outputDiv = document.getElementById(\"altair-viz-0060691a9bc54c4cb60e3e13c2378743\");\n    }\n    const paths = {\n      \"vega\": \"https://cdn.jsdelivr.net/npm//vega@5?noext\",\n      \"vega-lib\": \"https://cdn.jsdelivr.net/npm//vega-lib?noext\",\n      \"vega-lite\": \"https://cdn.jsdelivr.net/npm//vega-lite@4.8.1?noext\",\n      \"vega-embed\": \"https://cdn.jsdelivr.net/npm//vega-embed@6?noext\",\n    };\n\n    function loadScript(lib) {\n      return new Promise(function(resolve, reject) {\n        var s = document.createElement('script');\n        s.src = paths[lib];\n        s.async = true;\n        s.onload = () => resolve(paths[lib]);\n        s.onerror = () => reject(`Error loading script: ${paths[lib]}`);\n        document.getElementsByTagName(\"head\")[0].appendChild(s);\n      });\n    }\n\n    function showError(err) {\n      outputDiv.innerHTML = `<div class=\"error\" style=\"color:red;\">${err}</div>`;\n      throw err;\n    }\n\n    function displayChart(vegaEmbed) {\n      vegaEmbed(outputDiv, spec, embedOpt)\n        .catch(err => showError(`Javascript Error: ${err.message}<br>This usually means there's a typo in your chart specification. See the javascript console for the full traceback.`));\n    }\n\n    if(typeof define === \"function\" && define.amd) {\n      requirejs.config({paths});\n      require([\"vega-embed\"], displayChart, err => showError(`Error loading script: ${err.message}`));\n    } else if (typeof vegaEmbed === \"function\") {\n      displayChart(vegaEmbed);\n    } else {\n      loadScript(\"vega\")\n        .then(() => loadScript(\"vega-lite\"))\n        .then(() => loadScript(\"vega-embed\"))\n        .catch(showError)\n        .then(() => displayChart(vegaEmbed));\n    }\n  })({\"config\": {\"view\": {\"continuousWidth\": 400, \"continuousHeight\": 300}}, \"layer\": [{\"mark\": {\"type\": \"line\", \"point\": {}}, \"encoding\": {\"color\": {\"type\": \"nominal\", \"field\": \"fold\"}, \"x\": {\"type\": \"quantitative\", \"field\": \"degree\"}, \"y\": {\"type\": \"quantitative\", \"field\": \"rmse\"}}}, {\"mark\": {\"type\": \"rule\", \"color\": \"#aaa\"}, \"encoding\": {\"x\": {\"type\": \"quantitative\", \"field\": \"degree\"}}, \"transform\": [{\"filter\": {\"selection\": \"selector001\"}}]}, {\"mark\": \"circle\", \"encoding\": {\"color\": {\"type\": \"nominal\", \"field\": \"fold\"}, \"opacity\": {\"condition\": {\"value\": 1, \"selection\": \"selector001\"}, \"value\": 0}, \"x\": {\"type\": \"quantitative\", \"field\": \"degree\"}, \"y\": {\"type\": \"quantitative\", \"field\": \"rmse\"}}, \"selection\": {\"selector001\": {\"type\": \"single\", \"encodings\": [\"x\"], \"on\": \"mouseover\", \"nearest\": true, \"empty\": \"none\"}}}, {\"mark\": {\"type\": \"text\", \"align\": \"left\", \"dx\": 5, \"dy\": -5, \"stroke\": \"white\", \"strokeWidth\": 2}, \"encoding\": {\"color\": {\"type\": \"nominal\", \"field\": \"fold\"}, \"text\": {\"type\": \"quantitative\", \"field\": \"rmse\"}, \"x\": {\"type\": \"quantitative\", \"field\": \"degree\"}, \"y\": {\"type\": \"quantitative\", \"field\": \"rmse\"}}, \"transform\": [{\"filter\": {\"selection\": \"selector001\"}}]}, {\"mark\": {\"type\": \"text\", \"align\": \"left\", \"dx\": 5, \"dy\": -5}, \"encoding\": {\"color\": {\"type\": \"nominal\", \"field\": \"fold\"}, \"text\": {\"type\": \"quantitative\", \"field\": \"rmse\"}, \"x\": {\"type\": \"quantitative\", \"field\": \"degree\"}, \"y\": {\"type\": \"quantitative\", \"field\": \"rmse\"}}, \"transform\": [{\"filter\": {\"selection\": \"selector001\"}}]}], \"data\": {\"name\": \"data-34db882bf646ccddaf15916466dd90f2\"}, \"$schema\": \"https://vega.github.io/schema/vega-lite/v4.8.1.json\", \"datasets\": {\"data-34db882bf646ccddaf15916466dd90f2\": [{\"degree\": 1, \"fold\": \"train\", \"rmse\": 0.373}, {\"degree\": 1, \"fold\": \"validation\", \"rmse\": 0.476}, {\"degree\": 2, \"fold\": \"train\", \"rmse\": 0.168}, {\"degree\": 2, \"fold\": \"validation\", \"rmse\": 0.214}, {\"degree\": 3, \"fold\": \"train\", \"rmse\": 0.098}, {\"degree\": 3, \"fold\": \"validation\", \"rmse\": 0.159}, {\"degree\": 4, \"fold\": \"train\", \"rmse\": 0.081}, {\"degree\": 4, \"fold\": \"validation\", \"rmse\": 0.132}, {\"degree\": 5, \"fold\": \"train\", \"rmse\": 0.08}, {\"degree\": 5, \"fold\": \"validation\", \"rmse\": 0.125}, {\"degree\": 6, \"fold\": \"train\", \"rmse\": 0.08}, {\"degree\": 6, \"fold\": \"validation\", \"rmse\": 0.125}, {\"degree\": 7, \"fold\": \"train\", \"rmse\": 0.073}, {\"degree\": 7, \"fold\": \"validation\", \"rmse\": 0.146}, {\"degree\": 8, \"fold\": \"train\", \"rmse\": 0.07}, {\"degree\": 8, \"fold\": \"validation\", \"rmse\": 0.146}, {\"degree\": 9, \"fold\": \"train\", \"rmse\": 0.07}, {\"degree\": 9, \"fold\": \"validation\", \"rmse\": 0.149}, {\"degree\": 10, \"fold\": \"train\", \"rmse\": 0.07}, {\"degree\": 10, \"fold\": \"validation\", \"rmse\": 0.149}, {\"degree\": 11, \"fold\": \"train\", \"rmse\": 0.069}, {\"degree\": 11, \"fold\": \"validation\", \"rmse\": 0.153}, {\"degree\": 12, \"fold\": \"train\", \"rmse\": 0.068}, {\"degree\": 12, \"fold\": \"validation\", \"rmse\": 0.154}, {\"degree\": 13, \"fold\": \"train\", \"rmse\": 0.061}, {\"degree\": 13, \"fold\": \"validation\", \"rmse\": 0.151}, {\"degree\": 14, \"fold\": \"train\", \"rmse\": 0.06}, {\"degree\": 14, \"fold\": \"validation\", \"rmse\": 0.15}, {\"degree\": 15, \"fold\": \"train\", \"rmse\": 0.06}, {\"degree\": 15, \"fold\": \"validation\", \"rmse\": 0.152}]}}, {\"mode\": \"vega-lite\"});\n</script>",
      "text/plain": "alt.LayerChart(...)"
     },
     "metadata": {}
    }
   ],
   "execution_count": 7
  },
  {
   "cell_type": "markdown",
   "source": "## Validation can still lead to overfitting\n\nValidation isn't a 100% safe-guard against overfitting. Given a quadratic (second order) true function, validation still results in a fourth order fitted function.",
   "metadata": {
    "tags": [],
    "cell_id": "00012-5b4a84d8-28fe-4bbe-9cac-6b121d0898a9",
    "deepnote_cell_type": "markdown"
   }
  },
  {
   "cell_type": "code",
   "source": "np.random.seed(456)\nX4 = np.random.normal(-10, 6, 250)\ne4 = np.random.normal(0, 150, 250)\nY4 = 25 + 2*X4 - 4*(X4**2) + e4\n\ndf4 = pd.DataFrame({\"y\": Y4, \"X\": X4})",
   "metadata": {
    "tags": [],
    "cell_id": "00014-ab4291b4-ea7b-42df-871b-b2dc3819bdde",
    "deepnote_to_be_reexecuted": false,
    "source_hash": "49ef1a72",
    "execution_start": 1637532322977,
    "execution_millis": 49,
    "deepnote_cell_type": "code"
   },
   "outputs": [],
   "execution_count": 8
  },
  {
   "cell_type": "code",
   "source": "X_train, X_val, y_train, y_val = train_test_split(\n    df4[[\"X\"]], df4.y, test_size=0.2\n)\n\nresults4 = pd.DataFrame(columns=[\"degree\", \"fold\", \"rmse\"])\nfor n in range(1, MAX_DEGREE + 1):\n    poly = PolynomialFeatures(n)\n    Xp_train = poly.fit_transform(X_train)\n    Xp_val = poly.fit_transform(X_val)\n    lm = LinearRegression().fit(Xp_train, y_train)\n    y_hat = lm.predict(Xp_train)\n    y_hat_val = lm.predict(Xp_val)\n    results4 = results4.append(\n        [\n            {\n                \"degree\": n,\n                \"fold\": \"train\",\n                \"rmse\": np.sqrt(mean_squared_error(y_train, y_hat)),\n            },\n            {\n                \"degree\": n,\n                \"fold\": \"validation\",\n                \"rmse\": np.sqrt(mean_squared_error(y_val, y_hat_val)),\n            },\n        ],\n        ignore_index=True,\n    )\n\nresults4 = results4.round(3)\nplot_validation_curve(results4).interactive()",
   "metadata": {
    "tags": [],
    "cell_id": "00012-b838faa6-ec46-4f97-b1b7-fa69627e6d65",
    "deepnote_to_be_reexecuted": false,
    "source_hash": "3264c47b",
    "execution_start": 1637532323027,
    "execution_millis": 333,
    "deepnote_output_heights": [
     357
    ],
    "deepnote_cell_type": "code"
   },
   "outputs": [
    {
     "output_type": "execute_result",
     "execution_count": 9,
     "data": {
      "text/html": "\n<div id=\"altair-viz-1754ac23ab4049e2940a8c89c538a4eb\"></div>\n<script type=\"text/javascript\">\n  (function(spec, embedOpt){\n    let outputDiv = document.currentScript.previousElementSibling;\n    if (outputDiv.id !== \"altair-viz-1754ac23ab4049e2940a8c89c538a4eb\") {\n      outputDiv = document.getElementById(\"altair-viz-1754ac23ab4049e2940a8c89c538a4eb\");\n    }\n    const paths = {\n      \"vega\": \"https://cdn.jsdelivr.net/npm//vega@5?noext\",\n      \"vega-lib\": \"https://cdn.jsdelivr.net/npm//vega-lib?noext\",\n      \"vega-lite\": \"https://cdn.jsdelivr.net/npm//vega-lite@4.8.1?noext\",\n      \"vega-embed\": \"https://cdn.jsdelivr.net/npm//vega-embed@6?noext\",\n    };\n\n    function loadScript(lib) {\n      return new Promise(function(resolve, reject) {\n        var s = document.createElement('script');\n        s.src = paths[lib];\n        s.async = true;\n        s.onload = () => resolve(paths[lib]);\n        s.onerror = () => reject(`Error loading script: ${paths[lib]}`);\n        document.getElementsByTagName(\"head\")[0].appendChild(s);\n      });\n    }\n\n    function showError(err) {\n      outputDiv.innerHTML = `<div class=\"error\" style=\"color:red;\">${err}</div>`;\n      throw err;\n    }\n\n    function displayChart(vegaEmbed) {\n      vegaEmbed(outputDiv, spec, embedOpt)\n        .catch(err => showError(`Javascript Error: ${err.message}<br>This usually means there's a typo in your chart specification. See the javascript console for the full traceback.`));\n    }\n\n    if(typeof define === \"function\" && define.amd) {\n      requirejs.config({paths});\n      require([\"vega-embed\"], displayChart, err => showError(`Error loading script: ${err.message}`));\n    } else if (typeof vegaEmbed === \"function\") {\n      displayChart(vegaEmbed);\n    } else {\n      loadScript(\"vega\")\n        .then(() => loadScript(\"vega-lite\"))\n        .then(() => loadScript(\"vega-embed\"))\n        .catch(showError)\n        .then(() => displayChart(vegaEmbed));\n    }\n  })({\"config\": {\"view\": {\"continuousWidth\": 400, \"continuousHeight\": 300}}, \"layer\": [{\"mark\": {\"type\": \"line\", \"point\": {}}, \"encoding\": {\"color\": {\"type\": \"nominal\", \"field\": \"fold\"}, \"x\": {\"type\": \"quantitative\", \"field\": \"degree\"}, \"y\": {\"type\": \"quantitative\", \"field\": \"rmse\"}}, \"selection\": {\"selector003\": {\"type\": \"interval\", \"bind\": \"scales\", \"encodings\": [\"x\", \"y\"]}}}, {\"mark\": {\"type\": \"rule\", \"color\": \"#aaa\"}, \"encoding\": {\"x\": {\"type\": \"quantitative\", \"field\": \"degree\"}}, \"transform\": [{\"filter\": {\"selection\": \"selector002\"}}]}, {\"mark\": \"circle\", \"encoding\": {\"color\": {\"type\": \"nominal\", \"field\": \"fold\"}, \"opacity\": {\"condition\": {\"value\": 1, \"selection\": \"selector002\"}, \"value\": 0}, \"x\": {\"type\": \"quantitative\", \"field\": \"degree\"}, \"y\": {\"type\": \"quantitative\", \"field\": \"rmse\"}}, \"selection\": {\"selector002\": {\"type\": \"single\", \"encodings\": [\"x\"], \"on\": \"mouseover\", \"nearest\": true, \"empty\": \"none\"}}}, {\"mark\": {\"type\": \"text\", \"align\": \"left\", \"dx\": 5, \"dy\": -5, \"stroke\": \"white\", \"strokeWidth\": 2}, \"encoding\": {\"color\": {\"type\": \"nominal\", \"field\": \"fold\"}, \"text\": {\"type\": \"quantitative\", \"field\": \"rmse\"}, \"x\": {\"type\": \"quantitative\", \"field\": \"degree\"}, \"y\": {\"type\": \"quantitative\", \"field\": \"rmse\"}}, \"transform\": [{\"filter\": {\"selection\": \"selector002\"}}]}, {\"mark\": {\"type\": \"text\", \"align\": \"left\", \"dx\": 5, \"dy\": -5}, \"encoding\": {\"color\": {\"type\": \"nominal\", \"field\": \"fold\"}, \"text\": {\"type\": \"quantitative\", \"field\": \"rmse\"}, \"x\": {\"type\": \"quantitative\", \"field\": \"degree\"}, \"y\": {\"type\": \"quantitative\", \"field\": \"rmse\"}}, \"transform\": [{\"filter\": {\"selection\": \"selector002\"}}]}], \"data\": {\"name\": \"data-1495b7d1633b51a4c6422827f8702996\"}, \"$schema\": \"https://vega.github.io/schema/vega-lite/v4.8.1.json\", \"datasets\": {\"data-1495b7d1633b51a4c6422827f8702996\": [{\"degree\": 1, \"fold\": \"train\", \"rmse\": 258.196}, {\"degree\": 1, \"fold\": \"validation\", \"rmse\": 225.187}, {\"degree\": 2, \"fold\": \"train\", \"rmse\": 148.099}, {\"degree\": 2, \"fold\": \"validation\", \"rmse\": 154.012}, {\"degree\": 3, \"fold\": \"train\", \"rmse\": 147.952}, {\"degree\": 3, \"fold\": \"validation\", \"rmse\": 154.238}, {\"degree\": 4, \"fold\": \"train\", \"rmse\": 147.76}, {\"degree\": 4, \"fold\": \"validation\", \"rmse\": 153.851}, {\"degree\": 5, \"fold\": \"train\", \"rmse\": 147.262}, {\"degree\": 5, \"fold\": \"validation\", \"rmse\": 153.425}, {\"degree\": 6, \"fold\": \"train\", \"rmse\": 147.136}, {\"degree\": 6, \"fold\": \"validation\", \"rmse\": 153.695}, {\"degree\": 7, \"fold\": \"train\", \"rmse\": 146.511}, {\"degree\": 7, \"fold\": \"validation\", \"rmse\": 153.629}, {\"degree\": 8, \"fold\": \"train\", \"rmse\": 146.053}, {\"degree\": 8, \"fold\": \"validation\", \"rmse\": 154.18}, {\"degree\": 9, \"fold\": \"train\", \"rmse\": 146.036}, {\"degree\": 9, \"fold\": \"validation\", \"rmse\": 154.186}, {\"degree\": 10, \"fold\": \"train\", \"rmse\": 145.92}, {\"degree\": 10, \"fold\": \"validation\", \"rmse\": 155.566}, {\"degree\": 11, \"fold\": \"train\", \"rmse\": 144.215}, {\"degree\": 11, \"fold\": \"validation\", \"rmse\": 157.279}, {\"degree\": 12, \"fold\": \"train\", \"rmse\": 144.109}, {\"degree\": 12, \"fold\": \"validation\", \"rmse\": 159.358}, {\"degree\": 13, \"fold\": \"train\", \"rmse\": 144.689}, {\"degree\": 13, \"fold\": \"validation\", \"rmse\": 159.384}, {\"degree\": 14, \"fold\": \"train\", \"rmse\": 144.959}, {\"degree\": 14, \"fold\": \"validation\", \"rmse\": 158.999}, {\"degree\": 15, \"fold\": \"train\", \"rmse\": 153.098}, {\"degree\": 15, \"fold\": \"validation\", \"rmse\": 160.151}]}}, {\"mode\": \"vega-lite\"});\n</script>",
      "text/plain": "alt.LayerChart(...)"
     },
     "metadata": {}
    }
   ],
   "execution_count": 9
  },
  {
   "cell_type": "markdown",
   "source": "## Cross-validation\n\nBy using k-fold cross-validation, we have a better safeguard against overfitting. We reproduce the [example from Will Koehrsen](https://github.com/WillKoehrsen/Data-Analysis/blob/master/over_vs_under/Over%20vs%20Under%20Fitting%20Example.ipynb).",
   "metadata": {
    "tags": [],
    "cell_id": "00013-ec0daa7e-fef8-44ca-a9cf-4ce8dc1e4d16",
    "deepnote_cell_type": "markdown"
   }
  },
  {
   "cell_type": "code",
   "source": "def fit_poly(train, y_train, test, y_test, degrees, plot='train', return_scores=False):\n    \n    # Create a polynomial transformation of features\n    features = PolynomialFeatures(degree=degrees, include_bias=False)\n    \n    # Reshape training features for use in scikit-learn and transform features\n    train = train.reshape((-1, 1))\n    train_trans = features.fit_transform(train)\n    \n    # Create the linear regression model and train\n    model = LinearRegression()\n    model.fit(train_trans, y_train)\n    \n    # Calculate the cross validation score\n    cross_valid = cross_val_score(model, train_trans, y_train, scoring='neg_mean_squared_error', cv = 5)\n    \n    # Training predictions and error\n    train_predictions = model.predict(train_trans)\n    training_error = mean_squared_error(y_train, train_predictions)\n    \n    # Format test features\n    test = test.reshape((-1, 1))\n    test_trans = features.fit_transform(test)\n    \n    # Test set predictions and error\n    test_predictions = model.predict(test_trans)\n    testing_error = mean_squared_error(y_test, test_predictions)\n    \n    # Find the model curve and the true curve\n    x_curve = np.linspace(0, 1, 100)\n    x_curve = x_curve.reshape((-1, 1))\n    x_curve_trans = features.fit_transform(x_curve)\n    \n    # Model curve\n    model_curve = model.predict(x_curve_trans)\n    \n    # True curve\n    y_true_curve = true_fun(x_curve[:, 0])\n\n     # Return the metrics\n    if return_scores:\n        return training_error, testing_error, -np.mean(cross_valid)",
   "metadata": {
    "tags": [],
    "cell_id": "00013-ee9f0e8b-d189-4a12-80ae-be5eb1acf968",
    "deepnote_to_be_reexecuted": false,
    "source_hash": "9dd40628",
    "execution_start": 1637532323378,
    "execution_millis": 42,
    "deepnote_cell_type": "code"
   },
   "outputs": [],
   "execution_count": 10
  },
  {
   "cell_type": "code",
   "source": "x = np.sort(np.random.rand(120))\ny = true_fun(x) + 0.1 * np.random.randn(len(x))\n\n# Random indices for creating training and testing sets\nrandom_ind = np.random.choice(list(range(120)), size = 120, replace=False)\nxt = x[random_ind]\nyt = y[random_ind]\n\n# Training and testing observations\ntrain = xt[:int(0.7 * len(x))]\ntest = xt[int(0.7 * len(x)):]\n\ny_train = yt[:int(0.7 * len(y))]\ny_test = yt[int(0.7 * len(y)):]\n\n# Model the true curve\nx_linspace = np.linspace(0, 1, 1000)\ny_true = true_fun(x_linspace)\n\n# Range of model degrees to evaluate\ndegrees = [int(x) for x in np.linspace(1, 40, 40)]\n\n# Results dataframe\nresults5 = pd.DataFrame(0, columns = ['train_error', 'test_error', 'cross_valid'], index = degrees)\n\n# Try each value of degrees for the model and record results\nfor degree in degrees:\n    degree_results = fit_poly(train, y_train, test, y_test, degree, plot=False, return_scores=True)\n    results5.loc[degree, 'train_error'] = degree_results[0]\n    results5.loc[degree, 'test_error'] = degree_results[1]\n    results5.loc[degree, 'cross_valid'] = degree_results[2]\n\n# print('10 Lowest Cross Validation Errors\\n')\n# train_eval = results5.sort_values('cross_valid').reset_index(level=0).rename(columns={'index': 'degrees'})\n# train_eval.loc[:,['degrees', 'cross_valid']].head(10)",
   "metadata": {
    "tags": [],
    "cell_id": "00015-73e34c5d-1ac4-4d2b-a353-89928d5a0b06",
    "deepnote_to_be_reexecuted": false,
    "source_hash": "4498d250",
    "execution_start": 1637532323420,
    "execution_millis": 478,
    "deepnote_cell_type": "code"
   },
   "outputs": [],
   "execution_count": 11
  },
  {
   "cell_type": "code",
   "source": "import matplotlib.pyplot as plt\n\nplt.plot(results5.index, results5['train_error'], 'b-o', ms=6, label = 'Training Error')\nplt.plot(results5.index, results5['test_error'], 'r-*', ms=6, label = 'Testing Error')\nplt.legend(loc=2); plt.xlabel('Degrees'); plt.ylabel('Mean Squared Error'); plt.title('Training and Testing Curves');\nplt.ylim(0, 0.05); plt.show()\n\nprint('\\nMinimum Training Error occurs at {} degrees.'.format(int(np.argmin(results5['train_error']))))\nprint('Minimum Testing Error occurs at {} degrees.\\n'.format(int(np.argmin(results5['test_error']))))\n",
   "metadata": {
    "tags": [],
    "cell_id": "00016-b866e88a-5c1d-4fb1-b7a2-d2be030d8705",
    "deepnote_to_be_reexecuted": false,
    "source_hash": "92fa472",
    "execution_start": 1637532323908,
    "execution_millis": 842,
    "deepnote_output_heights": [
     280
    ],
    "deepnote_cell_type": "code"
   },
   "outputs": [
    {
     "data": {
      "text/plain": "<Figure size 432x288 with 1 Axes>",
      "image/png": "[encoded data removed]"
     },
     "metadata": {
      "needs_background": "light",
      "image/png": {
       "width": 392,
       "height": 278
      }
     },
     "output_type": "display_data"
    },
    {
     "name": "stdout",
     "text": "\nMinimum Training Error occurs at 35 degrees.\nMinimum Testing Error occurs at 16 degrees.\n\n",
     "output_type": "stream"
    }
   ],
   "execution_count": 12
  },
  {
   "cell_type": "markdown",
   "source": "<a style='text-decoration:none;line-height:16px;display:flex;color:#5B5B62;padding:10px;justify-content:end;' href='https://deepnote.com?utm_source=created-in-deepnote-cell&projectId=c2b81cdf-bbde-419b-844b-a10c406c3e76' target=\"_blank\">\n<img alt='Created in deepnote.com' style='display:inline;max-height:16px;margin:0px;margin-right:7.5px;' src='data:image/svg+xml;base64,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' > </img>\nCreated in <span style='font-weight:600;margin-left:4px;'>Deepnote</span></a>",
   "metadata": {
    "tags": [],
    "created_in_deepnote_cell": true,
    "deepnote_cell_type": "markdown"
   }
  }
 ],
 "nbformat": 4,
 "nbformat_minor": 2,
 "metadata": {
  "orig_nbformat": 2,
  "deepnote": {
   "is_reactive": false
  },
  "deepnote_notebook_id": "288b0cdd-3086-43e3-81a1-e5b83db068d1",
  "deepnote_execution_queue": []
 }
}