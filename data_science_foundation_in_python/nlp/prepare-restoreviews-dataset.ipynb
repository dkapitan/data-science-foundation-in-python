{
 "cells": [
  {
   "cell_type": "markdown",
   "source": [
    "# Fetch and prepare reviews\n",
    "\n",
    "Short example showing how you can parse a CSV file into parquet files partitioned by year."
   ],
   "metadata": {}
  },
  {
   "cell_type": "code",
   "execution_count": 1,
   "source": [
    "import pandas as pd\n",
    "\n",
    "\n",
    "REVIEWS = (\n",
    "    \"https://bhciaaablob.blob.core.windows.net/cmotionsnlpblogs/RestoReviewRawdata.csv\"\n",
    ")\n",
    "resto = pd.read_csv(REVIEWS, decimal=\",\")"
   ],
   "outputs": [],
   "metadata": {}
  },
  {
   "cell_type": "code",
   "execution_count": 4,
   "source": [
    "# fix utf-8 encoding\n",
    "resto.reviewText = resto.reviewText.fillna(\"b''\").apply(\n",
    "    lambda b: eval(b + \".decode('utf-8')\")\n",
    ")"
   ],
   "outputs": [],
   "metadata": {}
  },
  {
   "cell_type": "code",
   "execution_count": 6,
   "source": [
    "# write to single file\n",
    "resto.to_csv(\"data/dutch-restaurant-reviews.csv\")\n",
    "resto.to_parquet(\"data/dutch-restaurant-reviews.parquet\")\n",
    "\n",
    "# write to partitioned parquet files\n",
    "resto[\"reviewYear\"] = resto.reviewDate.str[-4:].astype(\"float\").astype(\"Int64\")\n",
    "resto.to_parquet(\n",
    "    \"data/dutch-restaurant-reviews-per-year\", partition_cols=[\"reviewYear\"]\n",
    ")\n",
    "\n",
    "# write parquet file single year\n",
    "for year in (2017, 2018):\n",
    "    resto[resto.reviewYear == year].to_parquet(f'data/dutch-restaurant-reviews-{year}')"
   ],
   "outputs": [],
   "metadata": {}
  },
  {
   "cell_type": "code",
   "execution_count": 2,
   "source": [
    "resto.reviewText[resto.reviewText.isna()]"
   ],
   "outputs": [
    {
     "output_type": "execute_result",
     "data": {
      "text/plain": [
       "20        NaN\n",
       "52        NaN\n",
       "69        NaN\n",
       "77        NaN\n",
       "81        NaN\n",
       "         ... \n",
       "378978    NaN\n",
       "379174    NaN\n",
       "379270    NaN\n",
       "379422    NaN\n",
       "379511    NaN\n",
       "Name: reviewText, Length: 11189, dtype: object"
      ]
     },
     "metadata": {},
     "execution_count": 2
    }
   ],
   "metadata": {}
  },
  {
   "cell_type": "code",
   "execution_count": 3,
   "source": [
    "resto.shape"
   ],
   "outputs": [
    {
     "output_type": "execute_result",
     "data": {
      "text/plain": [
       "(379718, 24)"
      ]
     },
     "metadata": {},
     "execution_count": 3
    }
   ],
   "metadata": {}
  },
  {
   "cell_type": "code",
   "execution_count": 9,
   "source": [
    "resto.iloc[379422,:]"
   ],
   "outputs": [
    {
     "output_type": "execute_result",
     "data": {
      "text/plain": [
       "restoId                                                           256599\n",
       "restoName                                    Pasta di Mamma (Foodhallen)\n",
       "tags                   ITALIAANS|AMSTERDAM-WEST|KINKERBUURT|PROVINCIE...\n",
       "address                         Bellamyplein 51 1053 Amsterdam Nederland\n",
       "scoreTotal                                                           NaN\n",
       "avgPrice                                                             NaN\n",
       "numReviews                                                             0\n",
       "scoreFood                                                            NaN\n",
       "scoreService                                                         NaN\n",
       "scoreDecor                                                           NaN\n",
       "review_id                                                            0.0\n",
       "numreviews2                                                          NaN\n",
       "valueForPriceScore                                                   NaN\n",
       "noiseLevelScore                                                      NaN\n",
       "waitingTimeScore                                                     NaN\n",
       "reviewerId                                                           NaN\n",
       "reviewerFame                                                         NaN\n",
       "reviewerNumReviews                                                   NaN\n",
       "reviewDate                                                           NaN\n",
       "reviewScoreOverall                                                   NaN\n",
       "reviewScoreFood                                                      NaN\n",
       "reviewScoreService                                                   NaN\n",
       "reviewScoreAmbiance                                                  NaN\n",
       "reviewText                                                              \n",
       "reviewYear                                                          <NA>\n",
       "Name: 379422, dtype: object"
      ]
     },
     "metadata": {},
     "execution_count": 9
    }
   ],
   "metadata": {}
  }
 ],
 "metadata": {
  "kernelspec": {
   "display_name": "Python 3",
   "language": "python",
   "name": "python3"
  },
  "language_info": {
   "codemirror_mode": {
    "name": "ipython",
    "version": 3
   },
   "file_extension": ".py",
   "mimetype": "text/x-python",
   "name": "python",
   "nbconvert_exporter": "python",
   "pygments_lexer": "ipython3",
   "version": "3.8.6"
  },
  "toc": {
   "base_numbering": 1,
   "nav_menu": {},
   "number_sections": true,
   "sideBar": true,
   "skip_h1_title": false,
   "title_cell": "Table of Contents",
   "title_sidebar": "Contents",
   "toc_cell": false,
   "toc_position": {},
   "toc_section_display": true,
   "toc_window_display": false
  }
 },
 "nbformat": 4,
 "nbformat_minor": 4
}